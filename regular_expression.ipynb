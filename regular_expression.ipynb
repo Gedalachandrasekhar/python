{
 "cells": [
  {
   "cell_type": "raw",
   "metadata": {},
   "source": [
    "Regular expression:\n",
    "\n",
    "• Regular expression is the collection of special symbols which has a predefined meaning which is associated with each and every special symbol it performs the action.\n",
    "* It defines the structure that is formed using the set of special symbols and values called as pattern\n",
    "* Regular expression helps us in extracting the required data from the collection of data.\n",
    "* If we want to represent a group of Strings according to a particular format/pattern then we should go for Regular Expressions.\n",
    "• Regular Expressions is a declarative mechanism to represen group of Strings according to a particular format/pattern.\n",
    "* Re is used in unstructured collection data(file systen\n",
    "\n",
    "Eg 1: We can write a regular expression to represent all mobile numbers\n",
    "Eg 2: We can write a regular expression to represent all mail ids.\n",
    "\n",
    "The main important application areas of Regular Expressions are\n",
    "    1. To used to data validation(development frameworks)/validation logic.\n",
    "    2. To develop Pattern matching applications (ctrl-f in windows, grep in UNIX etc).\n",
    "    3. To develop Translators like compilers, interpreters etc.\n",
    "    4. To develop digital circuits.\n",
    "    5. To develop communciation protocols like TCP/IP,UDP etc.\n",
    "* We can develop Regular Expression Based application by using python module:re\n",
    "* This module contains several inbuilt functions/special classes to use Regular expressions very easily in our applications.\n",
    "* re is name of the module that is used in the regular expression to utilize the re module we need to import it first using import statement.\n",
    "\n",
    "\n",
    "CHARACTER CLASSES:-\n",
    "\n",
    "a - it matches only one character called a.\n",
    "aa- it matches only 2 characters called aa.\n",
    "[a-z] - this matches lower case alphabets.\n",
    "[^a-z]- this matches except lower case alphabet.\n",
    "[A-Z] - this matches upper case alphabets.\n",
    "[^A-Z] - matches except upper case alphabet.\n",
    "[a-zA-Z] - matches both the upper and lower case alphabet.\n",
    "[^a-zA-Z]- matches except the upper and lower case alphabet.\n",
    "[a-zA-Z]+ - matches both the upper and lower case alphabet minimum should be one char and maximum should be n character.\n",
    "[a-zA-Z]* -matches both the upper and lower case alphabet minimum zero characters and maximum n no of characters.\n",
    "[a-zA-Z] {m,n) - m and n are numeric which tells us to match the alphabets from m to n.\n",
    "[a-zA-Z] {n} - it matches exactly n alphabets.\n",
    "[0-9] - matches the numeric character which is equivalent to            --->  \\d\n",
    "[^0-9] - matches the characters except numeric character         --->\\D\n",
    "[a-zA-Z0-9] - matches one alphanumeric character which is equivalent to -----> \\w\n",
    "[^a-zA-Z0-9] - matches one character except alphabet or number    ------>\\W\n",
    "\\- is spl symbol used to remove the special meaning of the special symbol\n",
    "\n",
    "\n",
    "PREDEFINED CLASSES:-\n",
    "\n",
    "The special sequences consist of \"\\\\\" and a character from the list below. If the ordinary character is not on the list, then the resulting RE will match the second character.\n",
    "\n",
    "\\number Matches the contents of the group of the same number.\n",
    "\n",
    "\\A  Matches only at the start of the string.\n",
    "\\Z  Matches only at the end of the string.\n",
    "\\b  Matches the empty string, but only at the start or end of a word.\n",
    "\\B  Matches the empty string, but not at the start or end of a word.\n",
    "\\d  Matches any decimal digit; equivalent to the set [0-9] in bytes patterns or string \n",
    "    patterns with the ASCII flag.\n",
    "    In string patterns without the ASCII flag, it will match the whole.\n",
    "    range of Unicode digits.\n",
    "\n"
   ]
  },
  {
   "cell_type": "code",
   "execution_count": 11,
   "metadata": {},
   "outputs": [
    {
     "name": "stdout",
     "output_type": "stream",
     "text": [
      "['9988774455', '6644551122', '1244556611']\n"
     ]
    }
   ],
   "source": [
    "import re\n",
    "data=\"\"\"\"Welcome to pyspider 9988774455 and 6644551122 1244556611\"\"\"\n",
    "res=re.findall('[16789]{1}[0-9]{9}',data)\n",
    "print(res)"
   ]
  },
  {
   "cell_type": "code",
   "execution_count": 5,
   "metadata": {},
   "outputs": [
    {
     "name": "stdout",
     "output_type": "stream",
     "text": [
      "['9988774455', '6644551122', '1244 556 611', '1452234585', '1452234 585']\n"
     ]
    }
   ],
   "source": [
    "import re\n",
    "data=\"\"\"\"Welcome to pyspider 9988774455 and 6644551122 1244 556 611 1452234585 1452234 585\"\"\"\n",
    "res=re.findall('[016789]{1}\\s?\\d{3}\\s?\\d{3}\\s?\\d{3}',data)\n",
    "print(res)"
   ]
  },
  {
   "cell_type": "code",
   "execution_count": 17,
   "metadata": {},
   "outputs": [
    {
     "name": "stdout",
     "output_type": "stream",
     "text": [
      "['9988774455', '6644551122', '1244 556 611', '1452234585', '+917482234585', '+92 8844562341', '1800664577']\n"
     ]
    }
   ],
   "source": [
    "import re\n",
    "data=\"\"\"\"Welcome to pyspider 9988774455 and 6644551122 1244 556 611 1452234585 +917482234585 +92 8844562341 1800664577 \"\"\"\n",
    "res=re.findall('\\+[0-9]{1,2}\\s?[6789]{1}\\d{9}|[016789]{1}\\s?\\d{3}\\s?\\d{3}\\s?\\d{3}',data)\n",
    "print(res)\n"
   ]
  },
  {
   "cell_type": "code",
   "execution_count": 47,
   "metadata": {},
   "outputs": [
    {
     "name": "stdout",
     "output_type": "stream",
     "text": [
      "['+1 (154) 154-1559']\n"
     ]
    }
   ],
   "source": [
    "import re\n",
    "data=\"\"\"\"Welcome to pyspider  +917482234585 +92 8844562341 +1 (154) 154-1559\"\"\"\n",
    "res=re.findall('\\+[0-1]{1}\\s?\\(\\d{3}\\)\\s?\\d{3}\\-\\d{4}',data)\n",
    "print(res)\n"
   ]
  },
  {
   "cell_type": "code",
   "execution_count": 33,
   "metadata": {},
   "outputs": [
    {
     "name": "stdout",
     "output_type": "stream",
     "text": [
      "['ap16 cl 6937', 'ts07ag0799', 'kn71cf7986']\n"
     ]
    }
   ],
   "source": [
    "import re\n",
    "data=\"\"\"ap16 cl 6937 ts07ag0799 kn71cf7986 dl y 5632 jg 05 2545 fj jh zjjcg\"\"\"\n",
    "res=re.findall('[a-z]{2}[0-9]{2}\\s?[a-z]{2}\\s?[0-9]{4}',data)\n",
    "print(res)"
   ]
  },
  {
   "cell_type": "code",
   "execution_count": 74,
   "metadata": {},
   "outputs": [
    {
     "name": "stdout",
     "output_type": "stream",
     "text": [
      "['ap16 cl 6937', 'ts07ag0799', 'kn71cf7986', 'dl y 5632', 'jg 05 2545']\n"
     ]
    }
   ],
   "source": [
    "import re\n",
    "data=\"\"\"ap16 cl 6937 ts07ag0799 kn71cf7986 dl y 5632 jg 05 2545 fj jh zjjcg\"\"\"\n",
    "res=re.findall('[a-z]{2}[0-9]{2}\\s?[a-z]{2}\\s?[0-9]{4}|[a-z]{2}\\s?[a-z0-9]{1,2}\\s?[0-9]{4}',data)\n",
    "print(res)"
   ]
  },
  {
   "cell_type": "code",
   "execution_count": 3,
   "metadata": {},
   "outputs": [
    {
     "name": "stdout",
     "output_type": "stream",
     "text": [
      "['+92 9988447755', '+918965245121']\n"
     ]
    }
   ],
   "source": [
    "import re\n",
    "data=\"\"\"welcome to pyspiders +92 9988447755 and +918965245121 and 6655441122 1800 952 452  10005453 2565642451 \"\"\"\n",
    "res=re.findall('\\+[0-9]{1,2}\\s?[6789]{1}[0-9]{9}',data)\n",
    "print(res)"
   ]
  },
  {
   "cell_type": "code",
   "execution_count": 1,
   "metadata": {},
   "outputs": [
    {
     "name": "stdout",
     "output_type": "stream",
     "text": [
      "['+92 9988447755', '+918965245121', '6655441', '1800 952', '1000545', '6564245']\n"
     ]
    }
   ],
   "source": [
    "import re\n",
    "data=\"\"\"welcome to pyspiders +92 9988447755 and +918965245121 and 6655441122 1800 952 452  10005453 2565642451 \"\"\"\n",
    "res=re.findall('[16789]{1}\\d{3}\\s?\\d{3}|\\+[0-9]{1,2}\\s?[6789]{1}[0-9]{9}',data)\n",
    "print(res)"
   ]
  },
  {
   "cell_type": "code",
   "execution_count": 13,
   "metadata": {},
   "outputs": [
    {
     "name": "stdout",
     "output_type": "stream",
     "text": [
      "['http://www.insta.com/login', 'https://www.9utube.edu', 'https://www.python.org', 'http://www.django.co.us/doc/', 'https://www.fb.com/login']\n"
     ]
    }
   ],
   "source": [
    "import re\n",
    "data=\"\"\"http://www.insta.com/login  https://www.9utube.edu   https://www.python.org.in  hjgash http://www.django.co.us/doc/hjagschagsc  https://www.fb.com/login \"\"\"\n",
    "res=re.findall('https?://www.\\w+.[a-zA-z.]{2,3}[a-zA-Z]*/?\\w*/?',data)\n",
    "print(res)"
   ]
  },
  {
   "cell_type": "markdown",
   "metadata": {},
   "source": [
    "finditer():-it is used to create a matcher object \n",
    "it return an iterator object which has matches inside the iter object it presents span(starting index numbrer,ending index numeber+1) and matched value.\n",
    "example: for i in re.findier('[0-9],'asdascsadf2321wf425rwfsdafadf')\n",
    "print(i)\n",
    "o/p:0aa\n",
    "<re.match object;span=(10,11),match='1'>\n",
    "<re.match object;span=(11,12),match='6'>\n",
    "<re.match object;span=(12,13),match='4'>"
   ]
  },
  {
   "cell_type": "code",
   "execution_count": 1,
   "metadata": {},
   "outputs": [
    {
     "name": "stdout",
     "output_type": "stream",
     "text": [
      "[<re.Match object; span=(31, 41), match='CBVJD1151C'>]\n"
     ]
    }
   ],
   "source": [
    "import re\n",
    "data='python is a scripting language CBVJD1151C'\n",
    "res=re.finditer('[A-Za-z]{5}[0-9]{4}[A-Za-z]{1}',data)\n",
    "print(list(res))\n"
   ]
  },
  {
   "cell_type": "code",
   "execution_count": 3,
   "metadata": {},
   "outputs": [
    {
     "name": "stdout",
     "output_type": "stream",
     "text": [
      "<callable_iterator object at 0x000001589A2DF8B0>\n",
      "(31, 41) 31 31 41 41 CBVJD1151C\n"
     ]
    }
   ],
   "source": [
    "import re\n",
    "data='python is a scripting language CBVJD1151C'\n",
    "res=re.finditer('[A-Za-z]{5}[0-9]{4}[A-Za-z]{1}',data)\n",
    "print(res)\n",
    "for i in res:\n",
    "    print(i.span(),i.span()[0],i.start(),i.span()[1],i.end(),i.group())"
   ]
  },
  {
   "cell_type": "markdown",
   "metadata": {},
   "source": [
    "match():- it  is used that matcher object starts with the given the pattern or not \n",
    "    if the match is found then it returns the match object\n",
    "    if it is not found then it will give None\n",
    "    it will check the start of the string only(it will find the first occurnece of the string)\n",
    "    "
   ]
  },
  {
   "cell_type": "code",
   "execution_count": 13,
   "metadata": {},
   "outputs": [
    {
     "name": "stdout",
     "output_type": "stream",
     "text": [
      "(0, 37)\n",
      "0\n",
      "37\n",
      "frndship day 29-08-2023 ajsfdayiokfm \n"
     ]
    }
   ],
   "source": [
    "import re\n",
    "data1='frndship day 29-08-2023 ajsfdayiokfm \\n frndship day25-12-2021 adsafefd day 17/12/1999'\n",
    "res=re.match('.*',data1)\n",
    "print(res.span())\n",
    "print(res.start())\n",
    "print(res.end())\n",
    "print(res.group())"
   ]
  },
  {
   "cell_type": "markdown",
   "metadata": {},
   "source": [
    "fullmatch():-it is used to mathch the pattern with the whole string\n",
    "    the full pattern which is given should be matched with the target string\n",
    "    syntax:- re.fullmatch(re,'target string')\n",
    "    if it is not matching the pattern it just return the None"
   ]
  },
  {
   "cell_type": "code",
   "execution_count": 15,
   "metadata": {},
   "outputs": [
    {
     "name": "stdout",
     "output_type": "stream",
     "text": [
      "<re.Match object; span=(4, 8), match='ship'>\n"
     ]
    }
   ],
   "source": [
    "import re\n",
    "data1='frndship day 29-08-2023 ajsfdayiokfm \\n frndship day25-12-2021 adsafefd day 17/12/1999'\n",
    "res=re.search('ship|day',data1)\n",
    "print(res)"
   ]
  },
  {
   "cell_type": "markdown",
   "metadata": {},
   "source": [
    "search():-it is used to check weather the pattern is present in the target string or not.\n",
    "    it is similar to finditer().the difference is it will only store the frst occurence of the match\n",
    "    if the match is not found then it will give none."
   ]
  },
  {
   "cell_type": "code",
   "execution_count": 16,
   "metadata": {},
   "outputs": [
    {
     "name": "stdout",
     "output_type": "stream",
     "text": [
      "<re.Match object; span=(13, 23), match='29-08-2023'>\n"
     ]
    }
   ],
   "source": [
    "import re\n",
    "data1='frndship day 29-08-2023 ajsfdayiokfm \\n frndship day25-12-2021 adsafefd day 17/12/1999'\n",
    "res=re.search('[0-9]{2}[-/][0-9]{2}[-/][0-9]{4}',data1)\n",
    "print(res)"
   ]
  },
  {
   "cell_type": "code",
   "execution_count": 4,
   "metadata": {},
   "outputs": [
    {
     "data": {
      "text/plain": [
       "'bye hello world haii'"
      ]
     },
     "execution_count": 4,
     "metadata": {},
     "output_type": "execute_result"
    }
   ],
   "source": [
    "import re\n",
    "fata='haii hello world haii'\n",
    "res=re.sub('haii','bye',fata,count=1)\n",
    "res"
   ]
  },
  {
   "cell_type": "markdown",
   "metadata": {},
   "source": [
    "sub():-substitue\n",
    "it is used to replace the matching pattern in the target string \n",
    "syntax:-\n",
    "    re.sub(pattern,'new string',target string,count)"
   ]
  },
  {
   "cell_type": "code",
   "execution_count": null,
   "metadata": {},
   "outputs": [],
   "source": []
  }
 ],
 "metadata": {
  "kernelspec": {
   "display_name": "Python 3",
   "language": "python",
   "name": "python3"
  },
  "language_info": {
   "codemirror_mode": {
    "name": "ipython",
    "version": 3
   },
   "file_extension": ".py",
   "mimetype": "text/x-python",
   "name": "python",
   "nbconvert_exporter": "python",
   "pygments_lexer": "ipython3",
   "version": "3.11.1"
  },
  "orig_nbformat": 4
 },
 "nbformat": 4,
 "nbformat_minor": 2
}
