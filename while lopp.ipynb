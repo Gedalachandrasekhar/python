{
 "cells": [
  {
   "cell_type": "code",
   "execution_count": null,
   "metadata": {},
   "outputs": [],
   "source": [
    "a=\"helloworld\"\n",
    "s=0\n",
    "e=len(a)-1\n",
    "r=''\n",
    "while s<e:\n",
    "    if a[s] not in \n",
    "    r+=a[s]\n",
    "\n"
   ]
  }
 ],
 "metadata": {
  "language_info": {
   "name": "python"
  },
  "orig_nbformat": 4
 },
 "nbformat": 4,
 "nbformat_minor": 2
}
