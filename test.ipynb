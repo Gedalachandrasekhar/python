{
 "cells": [
  {
   "cell_type": "code",
   "execution_count": 90,
   "metadata": {},
   "outputs": [],
   "source": [
    "def dbconnection(func):\n",
    "    def inner(*args,**kwargs):\n",
    "        import sqlite3\n",
    "        dbconn=sqlite3.connect('test1.db')\n",
    "        cus=dbconn.cursor()\n",
    "        res=func(dbconn,cus,*args,**kwargs)\n",
    "        dbconn.commit()\n",
    "        dbconn.close()\n",
    "        return res\n",
    "    return inner\n",
    "@dbconnection\n",
    "def que_ans(dbconn,cus):\n",
    "    cus.execute('create table queans2(que varchar,ans varchar)')\n",
    "@dbconnection\n",
    "def insert_qa(dbconn,cus):\n",
    "    q=('what is python','is list is a mutable data types','what is a class','in dict what pair will be present')\n",
    "    a=('it is a programming langues','yes','it is user define data type','key value pair')\n",
    "    l=[q,a]\n",
    "    for i in range(1,len(q)):\n",
    "        cus.execute('insert into queans2(que,ans) values(?,?)',(q[i],a[i]))\n",
    "@dbconnection\n",
    "def dis_paper(dbconn,cus):\n",
    "    \n",
    "\n"
   ]
  },
  {
   "cell_type": "code",
   "execution_count": 67,
   "metadata": {},
   "outputs": [],
   "source": [
    "que_ans()"
   ]
  },
  {
   "cell_type": "code",
   "execution_count": 91,
   "metadata": {},
   "outputs": [],
   "source": [
    "insert_qa()"
   ]
  }
 ],
 "metadata": {
  "kernelspec": {
   "display_name": "Python 3",
   "language": "python",
   "name": "python3"
  },
  "language_info": {
   "codemirror_mode": {
    "name": "ipython",
    "version": 3
   },
   "file_extension": ".py",
   "mimetype": "text/x-python",
   "name": "python",
   "nbconvert_exporter": "python",
   "pygments_lexer": "ipython3",
   "version": "3.11.1"
  },
  "orig_nbformat": 4
 },
 "nbformat": 4,
 "nbformat_minor": 2
}
