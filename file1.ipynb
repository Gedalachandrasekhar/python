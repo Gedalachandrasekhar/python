{
 "cells": [
  {
   "cell_type": "code",
   "execution_count": 2,
   "metadata": {},
   "outputs": [
    {
     "ename": "SyntaxError",
     "evalue": "(unicode error) 'unicodeescape' codec can't decode bytes in position 2-3: truncated \\UXXXXXXXX escape (2474647588.py, line 2)",
     "output_type": "error",
     "traceback": [
      "\u001b[1;36m  Cell \u001b[1;32mIn[2], line 2\u001b[1;36m\u001b[0m\n\u001b[1;33m    fp=open('C:\\Users\\QSP\\Desktop\\python_programs\\csv_file_handle\\sales.csv','r')\u001b[0m\n\u001b[1;37m                                                                            ^\u001b[0m\n\u001b[1;31mSyntaxError\u001b[0m\u001b[1;31m:\u001b[0m (unicode error) 'unicodeescape' codec can't decode bytes in position 2-3: truncated \\UXXXXXXXX escape\n"
     ]
    }
   ],
   "source": [
    "import csv\n",
    "fp=open('C:\\Users\\QSP\\Desktop\\python_programs\\csv_file_handle\\sales.csv','r')\n",
    "res=fp.read()\n",
    "print(res)\n",
    "fp.close()"
   ]
  },
  {
   "cell_type": "code",
   "execution_count": 29,
   "metadata": {},
   "outputs": [
    {
     "name": "stdout",
     "output_type": "stream",
     "text": [
      "Name  age  date  price  Total price\n",
      "\n",
      "Sunil  28  06-04-2020  900  1100\n",
      "\n",
      "Naga  28  06-04-2020  900  1100\n",
      "\n",
      "Mahesh  28  06-04-2020  900  1100\n",
      "\n",
      "Ganesh  28  07-04-2020  400  600\n",
      "\n",
      "Kumar  28  07-04-2020  400  600\n",
      "\n",
      "Vijay  28  07-04-2020  400  600\n",
      "\n",
      "Sunil  28  07-04-2020  900  1100\n",
      "\n",
      "Naga  28  07-04-2020  400  600\n",
      "\n",
      "Rajiv  28  07-04-2020  400  600\n",
      "\n",
      "Mahesh  28  07-04-2020  400  600\n",
      "\n",
      "Naga  28  07-04-2020  700  900\n",
      "\n",
      "Mahesh  28  07-04-2020  400  600\n",
      "\n",
      "Ganesh  28  07-04-2020  700  900\n",
      "\n",
      "Kumar  28  07-04-2020  1000  1200\n",
      "\n"
     ]
    }
   ],
   "source": [
    "with open(r'C:\\Users\\QSP\\Desktop\\python_programs\\csv_file_handle\\sales.csv','r') as fp:\n",
    "    res=fp.readlines()\n",
    "    for i in res:\n",
    "        li=i.split(',')\n",
    "        print(li[0],li[1],li[2],li[-2],li[-1],sep=\"  \")"
   ]
  },
  {
   "cell_type": "code",
   "execution_count": 42,
   "metadata": {},
   "outputs": [
    {
     "name": "stdout",
     "output_type": "stream",
     "text": [
      "['Name', 'age', 'date', 'Item', 'itemtype', 'price', 'Total price']\n",
      "['Sunil', '28', '06-01-2020', ' Jeans  Levis', 'Casual Wear', '900', '1100']\n",
      "['Naga', '22', '06-02-2020', ' Jeans  Levis', 'Casual Wear', '900', '1100']\n",
      "['Mahesh', '17', '26-03-2020', ' Jeans  Levis', 'Casual Wear', '900', '1100']\n",
      "['Ganesh', '26', '17-04-2020', ' Tshirt', 'Semi Formal', '400', '600']\n",
      "['Kumar', '22', '19-04-2020', ' Tshirt', 'Semi Formal', '400', '600']\n",
      "['Vijay', '29', '26-04-2020', ' Tshirt', 'Semi Formal', '400', '600']\n",
      "['Sunil', '32', '26-04-2020', ' Jeans  Levis', 'Casual Wear', '900', '1100']\n",
      "['Naga', '17', '29-04-2020', ' Tshirt', 'Semi Formal', '400', '600']\n",
      "['Rajiv', '10', '30-04-2020', ' Tshirt', 'Semi Formal', '400', '600']\n",
      "['Mahesh', '29', '02-05-2020', ' Tshirt', 'Semi Formal', '400', '600']\n",
      "['Nagaraju', '1', '10-05-2020', ' Jeans  Denim', 'Casual Wear', '700', '900']\n",
      "['Mahi', '28', '15-05-2020', ' Tshirt', 'Semi Formal', '400', '600']\n",
      "['shiva', '28', '06-06-2020', ' Jeans  Zara', 'Casual Wear', '700', '900']\n",
      "['Kumar', '28', '09-06-2020', ' Shirt  Arrow', 'Formal', '1000', '1200']\n"
     ]
    }
   ],
   "source": [
    "import csv\n",
    "with open(r'C:\\Users\\QSP\\Desktop\\python_programs\\csv_file_handle\\sales.csv', 'r') as fp:\n",
    "    fr=csv.reader(fp)\n",
    "    for i in fr:\n",
    "        print(i)\n",
    "\n"
   ]
  },
  {
   "cell_type": "code",
   "execution_count": 45,
   "metadata": {},
   "outputs": [
    {
     "name": "stdout",
     "output_type": "stream",
     "text": [
      "['Ganesh', '26', '17-04-2020', ' Tshirt', 'Semi Formal', '400', '600']\n"
     ]
    }
   ],
   "source": [
    "# wap to extract the specific row details from given csv file.\n",
    "import csv\n",
    "with open(r'C:\\Users\\QSP\\Desktop\\python_programs\\csv_file_handle\\sales.csv', 'r') as fp:\n",
    "    fr = csv.reader(fp)\n",
    "    line_row=1\n",
    "    for i in fr:\n",
    "        if line_row==5:\n",
    "            print(i)\n",
    "        line_row+=1\n"
   ]
  },
  {
   "cell_type": "code",
   "execution_count": 46,
   "metadata": {},
   "outputs": [
    {
     "name": "stdout",
     "output_type": "stream",
     "text": [
      "['Kumar', '22', '19-04-2020', ' Tshirt', 'Semi Formal', '400', '600']\n",
      "['Kumar', '28', '09-06-2020', ' Shirt  Arrow', 'Formal', '1000', '1200']\n"
     ]
    }
   ],
   "source": [
    "# wap to extract the specific person details from given person name from the csv file.\n",
    "import csv\n",
    "with open(r'C:\\Users\\QSP\\Desktop\\python_programs\\csv_file_handle\\sales.csv', 'r') as fp:\n",
    "    fr = csv.reader(fp)\n",
    "    for i in fr:\n",
    "        if i[0].upper()=='kumar'.upper():\n",
    "            print(i)\n"
   ]
  },
  {
   "cell_type": "code",
   "execution_count": 48,
   "metadata": {},
   "outputs": [
    {
     "name": "stdout",
     "output_type": "stream",
     "text": [
      "1800\n"
     ]
    }
   ],
   "source": [
    "#wap to display the total purchase of specific person by using person name \n",
    "import csv\n",
    "with open(r'C:\\Users\\QSP\\Desktop\\python_programs\\csv_file_handle\\sales.csv', 'r') as fp:\n",
    "    fr = csv.reader(fp)\n",
    "    sum1=0\n",
    "    for i in fr:\n",
    "        if i[0].upper() == 'kumar'.upper():\n",
    "            sum1+=int(i[-1])\n",
    "    print(sum1)\n"
   ]
  },
  {
   "cell_type": "code",
   "execution_count": 53,
   "metadata": {},
   "outputs": [
    {
     "name": "stdout",
     "output_type": "stream",
     "text": [
      "19-04-2020\n",
      "09-06-2020\n"
     ]
    }
   ],
   "source": [
    "# wap to display the purchase date's for specific person by using person name.\n",
    "import csv\n",
    "fp=open(r'C:\\Users\\QSP\\Desktop\\python_programs\\csv_file_handle\\sales.csv', 'r')\n",
    "fr = csv.reader(fp)\n",
    "sum1 = 0\n",
    "for i in fr:\n",
    "      if i[0].upper() == 'kumar'.upper():\n",
    "          print((i[2]))\n"
   ]
  },
  {
   "cell_type": "code",
   "execution_count": 57,
   "metadata": {},
   "outputs": [
    {
     "name": "stdout",
     "output_type": "stream",
     "text": [
      "26-03-2020  Jeans  Levis 1100\n",
      "02-05-2020  Tshirt 600\n",
      "total price is  1700\n"
     ]
    }
   ],
   "source": [
    "# wap to display the purchase date's and items with total purchase price of specific person by using person name.\n",
    "fp = open(r'C:\\Users\\QSP\\Desktop\\python_programs\\csv_file_handle\\sales.csv', 'r')\n",
    "fr = csv.reader(fp)\n",
    "name=input(\"enter the name:\")\n",
    "sum1=0\n",
    "for i in fr:\n",
    "    if i[0].upper()==name.upper():\n",
    "        print(i[2],i[3],i[-1])\n",
    "        sum1+=int(i[-1])\n",
    "print(\"total price is \",sum1)\n",
    "fp.close()"
   ]
  },
  {
   "cell_type": "code",
   "execution_count": 5,
   "metadata": {},
   "outputs": [
    {
     "name": "stdout",
     "output_type": "stream",
     "text": [
      "['Name', 'age', 'date', 'Item', 'itemtype', 'price', 'Total price\\n']\n",
      "['Sunil', '28', '06-01-2020', ' Jeans  Levis', 'Casual Wear', '900', '1100\\n']\n",
      "['Naga', '22', '06-02-2020', ' Jeans  Levis', 'Casual Wear', '900', '1100\\n']\n",
      "['Mahesh', '17', '26-03-2020', ' Jeans  Levis', 'Casual Wear', '900', '1100\\n']\n",
      "['Ganesh', '26', '17-04-2020', ' Tshirt', 'Semi Formal', '400', '600\\n']\n",
      "['Kumar', '22', '19-04-2020', ' Tshirt', 'Semi Formal', '400', '600\\n']\n",
      "['Vijay', '29', '26-04-2020', ' Tshirt', 'Semi Formal', '400', '600\\n']\n",
      "['Sunil', '32', '26-04-2020', ' Jeans  Levis', 'Casual Wear', '900', '1100\\n']\n",
      "['Naga', '17', '29-04-2020', ' Tshirt', 'Semi Formal', '400', '600\\n']\n",
      "['Rajiv', '10', '30-04-2020', ' Tshirt', 'Semi Formal', '400', '600\\n']\n",
      "['Mahesh', '29', '02-05-2020', ' Tshirt', 'Semi Formal', '400', '600\\n']\n",
      "['Nagaraju', '1', '10-05-2020', ' Jeans  Denim', 'Casual Wear', '700', '900\\n']\n",
      "['Mahi', '28', '15-05-2020', ' Tshirt', 'Semi Formal', '400', '600\\n']\n",
      "['shiva', '28', '06-06-2020', ' Jeans  Zara', 'Casual Wear', '700', '900\\n']\n",
      "['Kumar', '28', '09-06-2020', ' Shirt  Arrow', 'Formal', '1000', '1200\\n']\n"
     ]
    }
   ],
   "source": [
    "fp = open(r'C:\\Users\\QSP\\Desktop\\python_programs\\csv_file_handle\\sales.csv', 'r')\n",
    "res = fp.readlines()\n",
    "for i in res:\n",
    "    print(i.split(','))\n"
   ]
  },
  {
   "cell_type": "code",
   "execution_count": 28,
   "metadata": {},
   "outputs": [
    {
     "name": "stdout",
     "output_type": "stream",
     "text": [
      "<_csv.reader object at 0x000002B9EB021900>\n",
      "['Name', 'age', 'date', 'Item', 'itemtype', 'price', 'Total price']\n",
      "['Sunil', '28', '06-01-2020', ' Jeans  Levis', 'Casual Wear', '900', '1100']\n",
      "['Naga', '22', '06-02-2020', ' Jeans  Levis', 'Casual Wear', '900', '1100']\n",
      "['Mahesh', '17', '26-03-2020', ' Jeans  Levis', 'Casual Wear', '900', '1100']\n",
      "['Ganesh', '26', '17-04-2020', ' Tshirt', 'Semi Formal', '400', '600']\n",
      "['Kumar', '22', '19-04-2020', ' Tshirt', 'Semi Formal', '400', '600']\n",
      "['Vijay', '29', '26-04-2020', ' Tshirt', 'Semi Formal', '400', '600']\n",
      "['Sunil', '32', '26-04-2020', ' Jeans  Levis', 'Casual Wear', '900', '1100']\n",
      "['Naga', '17', '29-04-2020', ' Tshirt', 'Semi Formal', '400', '600']\n",
      "['Rajiv', '10', '30-04-2020', ' Tshirt', 'Semi Formal', '400', '600']\n",
      "['Mahesh', '29', '02-05-2020', ' Tshirt', 'Semi Formal', '400', '600']\n",
      "['Nagaraju', '1', '10-05-2020', ' Jeans  Denim', 'Casual Wear', '700', '900']\n",
      "['Mahi', '28', '15-05-2020', ' Tshirt', 'Semi Formal', '400', '600']\n",
      "['shiva', '28', '06-06-2020', ' Jeans  Zara', 'Casual Wear', '700', '900']\n",
      "['Kumar', '28', '09-06-2020', ' Shirt  Arrow', 'Formal', '1000', '1200']\n"
     ]
    }
   ],
   "source": [
    "import csv\n",
    "fp=open(r'C:\\Users\\QSP\\Desktop\\python_programs\\csv_file_handle\\sales.csv','r')\n",
    "res=csv.reader(fp)\n",
    "print(res)\n",
    "for i in res:\n",
    "    print(i)"
   ]
  },
  {
   "cell_type": "code",
   "execution_count": null,
   "metadata": {},
   "outputs": [],
   "source": []
  },
  {
   "cell_type": "code",
   "execution_count": 45,
   "metadata": {},
   "outputs": [
    {
     "name": "stdout",
     "output_type": "stream",
     "text": [
      "<_csv.writer object at 0x000002B9EB3D7EE0>\n"
     ]
    }
   ],
   "source": [
    "import csv\n",
    "li = [['Sunil', 'male', '28', 'Sunil@gmail.com'],\n",
    "      ['Naga', '18', '96012020', 'Naga@gmail.com'],\n",
    "      ['Mahesh', '16', '86012020', 'Mahesh@gmail.com'],\n",
    "      ['Ganesh', '26', '76012020', 'Ganesh@gmail.com'],\n",
    "      ['Kumar', '30', '96012020', 'Kumar@gmail.com']]\n",
    "\n",
    "\n",
    "fp = open(r'C:\\Users\\QSP\\Desktop\\python_programs\\csv_file_handle\\onlinesales.csv', 'w', newline=\"\")\n",
    "write=csv.writer(fp)\n",
    "print(write)\n",
    "write.writerow(['name','age','phone','email'])\n",
    "# for i in li:\n",
    "#     write.writerow(i)\n",
    "write.writerows(li)\n",
    "fp.close()\n",
    "\n",
    "\n",
    "\n"
   ]
  },
  {
   "cell_type": "code",
   "execution_count": null,
   "metadata": {},
   "outputs": [],
   "source": []
  },
  {
   "cell_type": "code",
   "execution_count": 35,
   "metadata": {},
   "outputs": [
    {
     "name": "stdout",
     "output_type": "stream",
     "text": [
      "{'name': 'Sunil', 'age': '28', 'phone': '7601222020', 'email': 'Sunil@gmail.com'}\n",
      "{'name': 'Naga', 'age': '18', 'phone': '96012020', 'email': 'Naga@gmail.com'}\n",
      "{'name': 'Mahesh', 'age': '16', 'phone': '86012020', 'email': 'Mahesh@gmail.com'}\n",
      "{'name': 'Ganesh', 'age': '26', 'phone': '76012020', 'email': 'Ganesh@gmail.com'}\n",
      "{'name': 'Kumar', 'age': '30', 'phone': '96012020', 'email': 'Kumar@gmail.com'}\n"
     ]
    }
   ],
   "source": [
    "import csv\n",
    "fp = open(r'C:\\Users\\QSP\\Desktop\\python_programs\\csv_file_handle\\onlinesales.csv', 'r')\n",
    "res=csv.DictReader(fp)\n",
    "for i in res:\n",
    "    print(i)"
   ]
  },
  {
   "cell_type": "code",
   "execution_count": 44,
   "metadata": {},
   "outputs": [],
   "source": [
    "li=[{'name': 'Sunilreddy', 'age': '28', 'phone': '7601222020', 'email': 'Sunil@gmail.com'},\n",
    "{'name': 'Nagaraja', 'age': '18', 'phone': '96012020', 'email': 'Naga@gmail.com'},\n",
    "{'name': 'Mahesh rao', 'age': '16', 'phone': '86012020', 'email': 'Mahesh@gmail.com'},\n",
    "{'name': 'Ganesh kumar', 'age': '26', 'phone': '76012020', 'email': 'Ganesh@gmail.com'},\n",
    "{'name': 'Kumari', 'age': '30', 'phone': '96012020', 'email': 'Kumar@gmail.com'}]\n",
    "\n",
    "import csv\n",
    "fp = open(r'C:\\Users\\QSP\\Desktop\\python_programs\\csv_file_handle\\onlinesale.csv','w',newline=\"\")\n",
    "write=csv.DictWriter(fp,['name','age','email','phone'])\n",
    "write.writeheader()\n",
    "# write.writerow({'name': 'Sunilreddy',\n",
    "#                'phone': '7601222020', 'email': 'Sunil@gmail.com', 'age': '28'})\n",
    "write.writerows(li)\n",
    "fp.close()\n"
   ]
  },
  {
   "cell_type": "code",
   "execution_count": 4,
   "metadata": {},
   "outputs": [
    {
     "name": "stdout",
     "output_type": "stream",
     "text": [
      "[{'name': 'raja', 'age': '24', 'phone': '9988774455', 'email': 'raja@gmail.com'}, {'name': 'rani', 'age': '22', 'phone': '9977446622', 'email': 'rani@gmail.com'}, {'name': 'raghu', 'age': '26', 'phone': '945695451', 'email': 'raghu@gmail.com'}]\n"
     ]
    }
   ],
   "source": [
    "\n",
    "def collect():\n",
    "    name=input(\"enter the name:\")\n",
    "    age=input(\"enter the age\")\n",
    "    phone = input(\"enter the phone\")\n",
    "    email = input(\"enter the email\")\n",
    "    return {'name':name,'age':age,'phone':phone,'email':email}\n",
    "\n",
    "l=[]\n",
    "start=0\n",
    "while start<3:\n",
    "    \n",
    "    l+=[collect()]\n",
    "    start+=1\n",
    "print(l)\n"
   ]
  },
  {
   "cell_type": "code",
   "execution_count": 6,
   "metadata": {},
   "outputs": [
    {
     "name": "stdout",
     "output_type": "stream",
     "text": [
      "['name', 'email', 'age', 'phone']\n",
      "['raja', 'raja@gmail.com', '24', '9988774455']\n",
      "['rani', 'rani@gmail.com', '22', '9977446622']\n",
      "['raghu', 'raghu@gmail.com', '26', '945695451']\n"
     ]
    }
   ],
   "source": [
    "li=[{'name': 'raja', 'age': '24', 'phone': '9988774455', 'email': 'raja@gmail.com'}, {'name': 'rani', 'age': '22', 'phone': '9977446622', 'email': 'rani@gmail.com'}, {'name': 'raghu', 'age': '26', 'phone': '945695451', 'email': 'raghu@gmail.com'}]\n",
    "\n",
    "import csv\n",
    "fp=open(r'C:\\Users\\QSP\\Desktop\\python_programs\\csv_file_handle\\student.csv','w+',newline=\"\")\n",
    "write=csv.DictWriter(fp,['name','email','age','phone'])\n",
    "write.writeheader()\n",
    "write.writerows(li)\n",
    "fp.seek(0)\n",
    "res=csv.reader(fp)\n",
    "for i in res:\n",
    "    print(i)\n",
    "fp.close()\n",
    "\n"
   ]
  },
  {
   "cell_type": "code",
   "execution_count": 2,
   "metadata": {},
   "outputs": [],
   "source": [
    "import csv\n",
    "def laptopstore():\n",
    "    brand = input(\"enter the brand\")\n",
    "    model = input(\"enter the model\")\n",
    "    ram=input(\"enter the ram\")\n",
    "    rom=input(\"enter the rom\")\n",
    "    proc = input(\"enter the proc\")\n",
    "    graphic = input(\"enter the graphic\")\n",
    "    price = input(\"enter the price\")\n",
    "    return {'BRAND': brand, 'MODEL': model, 'RAM': ram, 'ROM': rom, 'PROCESSOR': proc, 'GRAPHIC': graphic, 'PRICE': price}\n",
    "# def delete_specific_record(filename=\"\",value=\"\"):\n",
    "#     import csv\n",
    "#     if filename == \"\":\n",
    "#         return \"invalid filename\"\n",
    "#     fp = open(r'C:\\Users\\QSP\\Desktop\\python_programs\\csv_file_handle\\%s.csv' % (\n",
    "#         filename), 'r', newline='')\n",
    "#     res = csv.DictReader(fp)\n",
    "#     print\n",
    "\n",
    "\n",
    "\n",
    "\n"
   ]
  },
  {
   "cell_type": "code",
   "execution_count": 3,
   "metadata": {},
   "outputs": [],
   "source": [
    "def create_csv(filename='file'):\n",
    "    import csv\n",
    "    fp = open(r'C:\\Users\\candr\\Documents\\python\\%s.csv' %(filename), 'w', newline='',)\n",
    "    write = csv.DictWriter(\n",
    "        fp, ['BRAND', 'MODEL', 'RAM', 'ROM', 'PROCESSOR', 'GRAPHIC', 'PRICE'])\n",
    "    write.writeheader()\n",
    "    write.writerow(laptopstore())\n",
    "    fp.close()\n",
    "create_csv()"
   ]
  },
  {
   "cell_type": "code",
   "execution_count": 7,
   "metadata": {},
   "outputs": [],
   "source": [
    "def insert_record(filename=\"\"):\n",
    "    if filename==\"\":\n",
    "        return \"invalid filename\"\n",
    "    import csv\n",
    "    fp=open(r'C:\\Users\\candr\\Documents\\python\\'%s.csv' %(filename),'a', newline='')\n",
    "    write=csv.DictWriter(fp,['BRAND','MODEL','RAM','ROM','PROCESSOR','GRAPHIC','PRICE'])\n",
    "    write.writerow(laptopstore())\n",
    "    fp.close()\n",
    "insert_record('file')"
   ]
  },
  {
   "cell_type": "code",
   "execution_count": 13,
   "metadata": {},
   "outputs": [],
   "source": [
    "def insert_record(filename=\"\"):\n",
    "    if filename==\"\":\n",
    "        return \"invalid filename\"\n",
    "    import csv\n",
    "    fp=open(r'C:\\Users\\candr\\Documents\\python\\%s.csv'%(filename),'a',newline='')\n",
    "    write=csv.DictWriter(fp,['BRAND','MODEL','RAM','ROM','PROCESSOR','GRAPHIC','PRICE'])\n",
    "    write.writerow(laptopstore())\n",
    "    fp.close()\n",
    "insert_record('file')"
   ]
  },
  {
   "cell_type": "code",
   "execution_count": 23,
   "metadata": {},
   "outputs": [
    {
     "name": "stdout",
     "output_type": "stream",
     "text": [
      "---------------------------------------------------------------------------------------------\n",
      "|   BRAND    |   MODEL    |    RAM     |    ROM     | PROCESSOR  |  GRAPHIC   |   PRICE    |\n",
      "---------------------------------------------------------------------------------------------\n",
      "|   apple    |  mac air   |     4      |    1tb     |     m1     |     2      |   50000    |\n",
      "|    asus    |    rog     |     16     |     1      |     i5     |     4      |   72000    |\n",
      "---------------------------------------------------------------------------------------------\n"
     ]
    }
   ],
   "source": [
    "def read_allrecords(filename=\"\"):\n",
    "    import csv\n",
    "    if filename == \"\":\n",
    "        return \"invalid filename\"\n",
    "    fp=open(r'C:\\Users\\candr\\Documents\\python\\%s.csv'%(filename),'r',newline='')\n",
    "    res=csv.DictReader(fp)\n",
    "    print('-'*93)\n",
    "    print('|', 'BRAND'.center(10), '|', 'MODEL'.center(10), '|', 'RAM'.center(10), '|',\n",
    "          'ROM'.center(10), '|', 'PROCESSOR'.center(10), '|', 'GRAPHIC'.center(10), '|', 'PRICE'.center(10),'|', )\n",
    "    print('-'*93)\n",
    "    for i in res:\n",
    "        print('|', i['BRAND'].center(10,), '|', i['MODEL'].center(10), '|', i['RAM'].center(10), '|',\n",
    "              i['ROM'].center(10), '|', i['PROCESSOR'].center(10), '|', i['GRAPHIC'].center(10), '|', i['PRICE'].center(10), '|', )\n",
    "    fp.close()\n",
    "    print('-'*93)\n",
    "read_allrecords('file')"
   ]
  },
  {
   "cell_type": "code",
   "execution_count": 15,
   "metadata": {},
   "outputs": [
    {
     "name": "stdout",
     "output_type": "stream",
     "text": [
      "---------------------------------------------------------------------------------------------\n",
      "|   BRAND    |   MODEL    |    RAM     |    ROM     | PROCESSOR  |  GRAPHIC   |   PRICE    |\n",
      "---------------------------------------------------------------------------------------------\n",
      "|    asus    |    rog     |     16     |     1      |     i5     |     4      |   72000    |\n",
      "---------------------------------------------------------------------------------------------\n"
     ]
    }
   ],
   "source": [
    "def read_specific_field(filename=\"\",fieldname=\"\",value=\"\"):\n",
    "    import csv\n",
    "    if filename == \"\":\n",
    "        return \"invalid filename\"\n",
    "    fp = open(r'C:\\Users\\candr\\Documents\\python\\%s.csv' % (filename), 'r', newline='')\n",
    "    res = csv.DictReader(fp)\n",
    "    print('-'*93)\n",
    "    print('|', 'BRAND'.center(10), '|', 'MODEL'.center(10), '|', 'RAM'.center(10), '|',\n",
    "          'ROM'.center(10), '|', 'PROCESSOR'.center(10), '|', 'GRAPHIC'.center(10), '|', 'PRICE'.center(10), '|', )\n",
    "    print('-'*93)\n",
    "    for i in res:\n",
    "        if i[fieldname.upper()].upper()==value.upper():\n",
    "            print('|', i['BRAND'].center(10,), '|', i['MODEL'].center(10), '|', i['RAM'].center(10), '|',\n",
    "              i['ROM'].center(10), '|', i['PROCESSOR'].center(10), '|', i['GRAPHIC'].center(10), '|', i['PRICE'].center(10), '|', )\n",
    "    fp.close()\n",
    "    print('-'*93)\n",
    "read_specific_field('file','processor','i5')"
   ]
  },
  {
   "cell_type": "code",
   "execution_count": 7,
   "metadata": {},
   "outputs": [
    {
     "name": "stdout",
     "output_type": "stream",
     "text": [
      "[{'BRAND': 'apple', 'MODEL': 'mac air', 'RAM': '4', 'ROM': '1tb', 'PROCESSOR': 'm1', 'GRAPHIC': '2', 'PRICE': '50000'}, {'BRAND': 'asus', 'MODEL': 'rog', 'RAM': '16', 'ROM': '1', 'PROCESSOR': 'i5', 'GRAPHIC': '4', 'PRICE': '72000'}]\n",
      "|   BRAND    |   MODEL    |    RAM     |    ROM     | PROCESSOR  |  GRAPHIC   |   PRICE    |\n",
      "---------------------------------------------------------------------------------------------\n",
      "|   apple    |  mac air   |     4      |    1tb     |     m1     |     2      |   50000    | ---->old content\n",
      "---------------------------------------------------------------------------------------------\n",
      "|   apple    |  mac air   |     4      |    1tb     |     m1     |     2      |   200000   | ---->new content\n",
      "[{'BRAND': 'apple', 'MODEL': 'mac air', 'RAM': '4', 'ROM': '1tb', 'PROCESSOR': 'm1', 'GRAPHIC': '2', 'PRICE': '200000'}, {'BRAND': 'asus', 'MODEL': 'rog', 'RAM': '16', 'ROM': '1', 'PROCESSOR': 'i5', 'GRAPHIC': '4', 'PRICE': '72000'}]\n"
     ]
    }
   ],
   "source": [
    "def update_specific_field(filename=\"\", recordid='', fieldname=\"\", oldvalue=\"\",newvalue=''):\n",
    "    import csv\n",
    "    if filename == \"\":\n",
    "        return \"invalid filename\"\n",
    "    fp = open(r'C:\\Users\\candr\\Documents\\python\\%s.csv' % (filename), 'r+', newline='')\n",
    "    res = csv.DictReader(fp)\n",
    "    res=list(res)\n",
    "    print(list(res))\n",
    "    for i in res:\n",
    "        if i['MODEL'].upper()==recordid.upper():\n",
    "            print('|', 'BRAND'.center(10), '|', 'MODEL'.center(10), '|', 'RAM'.center(10), '|',\n",
    "                  'ROM'.center(10), '|', 'PROCESSOR'.center(10), '|', 'GRAPHIC'.center(10), '|', 'PRICE'.center(10), '|', )\n",
    "            print('-'*93)\n",
    "            print('|', i['BRAND'].center(10,), '|', i['MODEL'].center(10), '|', i['RAM'].center(10), '|',\n",
    "                  i['ROM'].center(10), '|', i['PROCESSOR'].center(10), '|', i['GRAPHIC'].center(10), '|', i['PRICE'].center(10),\n",
    "                    '|', '---->old content')\n",
    "            print('-'*93)\n",
    "            if i[fieldname.upper()].upper() == oldvalue.upper():\n",
    "                i[fieldname.upper()] = newvalue.upper()\n",
    "                print('|', i['BRAND'].center(10,), '|', i['MODEL'].center(10), '|', i['RAM'].center(10), '|',\n",
    "                      i['ROM'].center(10), '|', i['PROCESSOR'].center(10), '|', i['GRAPHIC'].center(10), '|', i['PRICE'].center(10), \n",
    "                      '|', '---->new content')\n",
    "    list(res)\n",
    "    fp.close()\n",
    "update_specific_field('file', 'mac air','price','50000','200000')\n",
    "# read_allrecords('file')"
   ]
  },
  {
   "cell_type": "code",
   "execution_count": 10,
   "metadata": {},
   "outputs": [
    {
     "name": "stdout",
     "output_type": "stream",
     "text": [
      "[{'BRAND': 'apple', 'MODEL': 'mac air', 'RAM': '4', 'ROM': '1tb', 'PROCESSOR': 'm1', 'GRAPHIC': '2', 'PRICE': '50000'}, {'BRAND': 'asus', 'MODEL': 'rog', 'RAM': '16', 'ROM': '1', 'PROCESSOR': 'i5', 'GRAPHIC': '4', 'PRICE': '72000'}]\n",
      "|   BRAND    |   MODEL    |    RAM     |    ROM     | PROCESSOR  |  GRAPHIC   |   PRICE    |\n",
      "---------------------------------------------------------------------------------------------\n",
      "|   apple    |  mac air   |     4      |    1tb     |     m1     |     2      |   50000    | ---->old content\n",
      "---------------------------------------------------------------------------------------------\n",
      "|   apple    |  mac air   |     4      |    1tb     |     m1     |     2      |   200000   | ---->new content\n"
     ]
    }
   ],
   "source": [
    "def update_specific_field(filename=\"\", recordid='', fieldname=\"\", oldvalue=\"\",newvalue=''):\n",
    "    import csv\n",
    "    if filename == \"\":\n",
    "        return \"invalid filename\"\n",
    "    fp = open(r'C:\\Users\\candr\\Documents\\python\\%s.csv' % (filename), 'r+', newline='')\n",
    "    res = csv.DictReader(fp)\n",
    "    res=list(res)\n",
    "    print(list(res))\n",
    "    for i in res:\n",
    "        if i['MODEL'].upper()==recordid.upper():\n",
    "            print('|', 'BRAND'.center(10), '|', 'MODEL'.center(10), '|', 'RAM'.center(10), '|',\n",
    "                  'ROM'.center(10), '|', 'PROCESSOR'.center(10), '|', 'GRAPHIC'.center(10), '|', 'PRICE'.center(10), '|', )\n",
    "            print('-'*93)\n",
    "            print('|', i['BRAND'].center(10,), '|', i['MODEL'].center(10), '|', i['RAM'].center(10), '|',\n",
    "                  i['ROM'].center(10), '|', i['PROCESSOR'].center(10), '|', i['GRAPHIC'].center(10), '|', i['PRICE'].center(10),\n",
    "                    '|', '---->old content')\n",
    "            print('-'*93)\n",
    "            if i[fieldname.upper()].upper() == oldvalue.upper():\n",
    "                i[fieldname.upper()] = newvalue.upper()\n",
    "                print('|', i['BRAND'].center(10,), '|', i['MODEL'].center(10), '|', i['RAM'].center(10), '|',\n",
    "                      i['ROM'].center(10), '|', i['PROCESSOR'].center(10), '|', i['GRAPHIC'].center(10), '|', i['PRICE'].center(10), \n",
    "                      '|', '---->new content')\n",
    "    write=csv.DictWriter(fp,['BRAND','MODEL','RAM','ROM','PROCESSOR','GRAPHIC','PRICE'])\n",
    "    write.writerows(list(res))\n",
    "    fp.close()\n",
    "update_specific_field('file', 'mac air','price','50000','200000')"
   ]
  },
  {
   "cell_type": "code",
   "execution_count": 14,
   "metadata": {},
   "outputs": [
    {
     "data": {
      "text/plain": [
       "'database exteaction gathering the database from csv JSon databasebase\\nonce we extract the database selecting hte database \\nwhat database we required this is called cleaning\\nfor these have to be done the pandas will use\\ndatabase analysis '"
      ]
     },
     "execution_count": 14,
     "metadata": {},
     "output_type": "execute_result"
    }
   ],
   "source": [
    "word='''data exteaction gathering the data from csv JSon database\n",
    "once we extract the data selecting hte data \n",
    "what data we required this is called cleaning\n",
    "for these have to be done the pandas will use\n",
    "data analysis '''\n",
    "def replace(coll,ele,new):\n",
    "    res=''''''\n",
    "    i=0\n",
    "    while i<len(coll):\n",
    "        if ele==coll[i:len(ele)+i]:\n",
    "            res+=new\n",
    "            i+=len(ele)-1\n",
    "        else:\n",
    "            res+=coll[i]\n",
    "        i+=1\n",
    "    return res\n",
    "replace(word,'data','database')\n"
   ]
  },
  {
   "cell_type": "code",
   "execution_count": 21,
   "metadata": {},
   "outputs": [
    {
     "data": {
      "text/plain": [
       "'data exteaction gathering the data from csv JSon database\\nonce we extract the data selecting hte data \\nwhat data we required this is called cleaning\\nfor these have to be done the pandas will use\\ndata analysis '"
      ]
     },
     "execution_count": 21,
     "metadata": {},
     "output_type": "execute_result"
    }
   ],
   "source": [
    "def elminate(coll,ele):\n",
    "    res=''''''\n",
    "    i=0\n",
    "    while i<len(coll):\n",
    "        if ele==coll[i:len(ele)+i] and coll[i-1]==' ' and coll[len(ele)+1]=='':\n",
    "            i+=len(ele)\n",
    "        else:\n",
    "            res+=coll[i]\n",
    "        i+=1\n",
    "    return res\n",
    "elminate(word,'the')"
   ]
  },
  {
   "cell_type": "code",
   "execution_count": 3,
   "metadata": {},
   "outputs": [
    {
     "ename": "SyntaxError",
     "evalue": "(unicode error) 'unicodeescape' codec can't decode bytes in position 2-3: truncated \\UXXXXXXXX escape (862682786.py, line 1)",
     "output_type": "error",
     "traceback": [
      "\u001b[1;36m  Cell \u001b[1;32mIn[3], line 1\u001b[1;36m\u001b[0m\n\u001b[1;33m    fp=open('c:\\Users\\candr\\Documents\\python\\pen.txt')\u001b[0m\n\u001b[1;37m                                                     ^\u001b[0m\n\u001b[1;31mSyntaxError\u001b[0m\u001b[1;31m:\u001b[0m (unicode error) 'unicodeescape' codec can't decode bytes in position 2-3: truncated \\UXXXXXXXX escape\n"
     ]
    }
   ],
   "source": [
    "fp=open('c:\\Users\\candr\\Documents\\python\\pen.txt')\n",
    "res=fp.read()\n",
    "fp.close()"
   ]
  },
  {
   "cell_type": "code",
   "execution_count": 5,
   "metadata": {},
   "outputs": [
    {
     "ename": "FileNotFoundError",
     "evalue": "[Errno 2] No such file or directory: 'pen.txt'",
     "output_type": "error",
     "traceback": [
      "\u001b[1;31m---------------------------------------------------------------------------\u001b[0m",
      "\u001b[1;31mFileNotFoundError\u001b[0m                         Traceback (most recent call last)",
      "Cell \u001b[1;32mIn[5], line 10\u001b[0m\n\u001b[0;32m      8\u001b[0m     fp\u001b[39m.\u001b[39mwrite(data)\n\u001b[0;32m      9\u001b[0m     fp\u001b[39m.\u001b[39mclose()\n\u001b[1;32m---> 10\u001b[0m writefile(\u001b[39m'\u001b[39;49m\u001b[39mpen.txt\u001b[39;49m\u001b[39m'\u001b[39;49m,data)\n",
      "Cell \u001b[1;32mIn[5], line 7\u001b[0m, in \u001b[0;36mwritefile\u001b[1;34m(file, mode, data)\u001b[0m\n\u001b[0;32m      6\u001b[0m \u001b[39mdef\u001b[39;00m \u001b[39mwritefile\u001b[39m(file,mode\u001b[39m=\u001b[39m\u001b[39m'\u001b[39m\u001b[39mw\u001b[39m\u001b[39m'\u001b[39m,data\u001b[39m=\u001b[39m\u001b[39mNone\u001b[39;00m):\n\u001b[1;32m----> 7\u001b[0m     fp\u001b[39m=\u001b[39m\u001b[39mopen\u001b[39;49m(file)\n\u001b[0;32m      8\u001b[0m     fp\u001b[39m.\u001b[39mwrite(data)\n\u001b[0;32m      9\u001b[0m     fp\u001b[39m.\u001b[39mclose()\n",
      "File \u001b[1;32m~\\AppData\\Roaming\\Python\\Python311\\site-packages\\IPython\\core\\interactiveshell.py:284\u001b[0m, in \u001b[0;36m_modified_open\u001b[1;34m(file, *args, **kwargs)\u001b[0m\n\u001b[0;32m    277\u001b[0m \u001b[39mif\u001b[39;00m file \u001b[39min\u001b[39;00m {\u001b[39m0\u001b[39m, \u001b[39m1\u001b[39m, \u001b[39m2\u001b[39m}:\n\u001b[0;32m    278\u001b[0m     \u001b[39mraise\u001b[39;00m \u001b[39mValueError\u001b[39;00m(\n\u001b[0;32m    279\u001b[0m         \u001b[39mf\u001b[39m\u001b[39m\"\u001b[39m\u001b[39mIPython won\u001b[39m\u001b[39m'\u001b[39m\u001b[39mt let you open fd=\u001b[39m\u001b[39m{\u001b[39;00mfile\u001b[39m}\u001b[39;00m\u001b[39m by default \u001b[39m\u001b[39m\"\u001b[39m\n\u001b[0;32m    280\u001b[0m         \u001b[39m\"\u001b[39m\u001b[39mas it is likely to crash IPython. If you know what you are doing, \u001b[39m\u001b[39m\"\u001b[39m\n\u001b[0;32m    281\u001b[0m         \u001b[39m\"\u001b[39m\u001b[39myou can use builtins\u001b[39m\u001b[39m'\u001b[39m\u001b[39m open.\u001b[39m\u001b[39m\"\u001b[39m\n\u001b[0;32m    282\u001b[0m     )\n\u001b[1;32m--> 284\u001b[0m \u001b[39mreturn\u001b[39;00m io_open(file, \u001b[39m*\u001b[39;49margs, \u001b[39m*\u001b[39;49m\u001b[39m*\u001b[39;49mkwargs)\n",
      "\u001b[1;31mFileNotFoundError\u001b[0m: [Errno 2] No such file or directory: 'pen.txt'"
     ]
    }
   ],
   "source": [
    "data='''data exteaction gathering the data from csv JSon database\n",
    "once we extract the data selecting hte data \n",
    "what data we required this is called cleaning\n",
    "for these have to be done the pandas will use\n",
    "data analysis '''\n",
    "def writefile(file,mode='w',data=None):\n",
    "    fp=open(file)\n",
    "    fp.write(data)\n",
    "    fp.close()\n",
    "writefile('pen.txt',data)"
   ]
  },
  {
   "cell_type": "code",
   "execution_count": 25,
   "metadata": {},
   "outputs": [
    {
     "data": {
      "text/plain": [
       "'data exteaction gathering the data from csv JSon database\\nonce we extract the data selecting hte data \\nwhat data we required this is called cleaning\\nfor these have to be done the pandas will use\\ndata analysis '"
      ]
     },
     "execution_count": 25,
     "metadata": {},
     "output_type": "execute_result"
    }
   ],
   "source": [
    "def readfile(file):\n",
    "    fp=open(file,'r')\n",
    "    res=fp.read()\n",
    "    fp.close()\n",
    "    return res\n",
    "readfile('pen.txt')"
   ]
  },
  {
   "cell_type": "code",
   "execution_count": 24,
   "metadata": {},
   "outputs": [],
   "source": [
    "\n",
    "def writefile(file,data,mode='w'):\n",
    "    fp=open(file,mode)\n",
    "    fp.write(data)\n",
    "    fp.close()\n",
    "data='''data exteaction gathering the data from csv JSon database\n",
    "once we extract the data selecting hte data \n",
    "what data we required this is called cleaning\n",
    "for these have to be done the pandas will use\n",
    "data analysis '''\n",
    "writefile('pen.txt',data)"
   ]
  },
  {
   "cell_type": "code",
   "execution_count": 17,
   "metadata": {},
   "outputs": [],
   "source": [
    "fp=open('pen.txt','w')\n",
    "\n",
    "fp.close()"
   ]
  },
  {
   "cell_type": "code",
   "execution_count": 103,
   "metadata": {},
   "outputs": [],
   "source": [
    "l={'name':'sai','age':25,'phone':[9988774444,99555588771],'email':'sai@gmail.com'}\n",
    "def writefile(file,data,mode='w'):\n",
    "    fp=open(file,mode)\n",
    "    fp.write(str(data))\n",
    "    fp.close()\n",
    "writefile('file.txt',l)\n",
    "def readfile(file,mode='r'):\n",
    "    fp=open(file,mode)\n",
    "    res=fp.read()\n",
    "    res=eval(res)\n",
    "    fp.close()\n",
    "    return res\n",
    "readfile('file.txt')\n",
    "def appendfile(file,newdata,mode='a'):\n",
    "    fp=open(file,mode)\n",
    "    fp.write('\\n'+str(newdata))\n",
    "    fp.close()\n",
    "appendfile('file.txt',{'name':'kiran','age':25,'phone':[99895522214,99554466222],'email':'kiran@gmail.com'})\n",
    "def readline(file):\n",
    "    fp=open(file,'r')\n",
    "    res=fp.readline()\n",
    "    temp=[]\n",
    "    for i in res:\n",
    "        temp+=[eval(i)]\n",
    "    return temp\n"
   ]
  },
  {
   "cell_type": "code",
   "execution_count": 102,
   "metadata": {},
   "outputs": [
    {
     "ename": "TypeError",
     "evalue": "string indices must be integers, not 'str'",
     "output_type": "error",
     "traceback": [
      "\u001b[1;31m---------------------------------------------------------------------------\u001b[0m",
      "\u001b[1;31mTypeError\u001b[0m                                 Traceback (most recent call last)",
      "Cell \u001b[1;32mIn[102], line 5\u001b[0m\n\u001b[0;32m      3\u001b[0m t\u001b[39m=\u001b[39m\u001b[39mNone\u001b[39;00m\n\u001b[0;32m      4\u001b[0m \u001b[39mfor\u001b[39;00m i \u001b[39min\u001b[39;00m resu:\n\u001b[1;32m----> 5\u001b[0m     \u001b[39mif\u001b[39;00m i[\u001b[39m'\u001b[39;49m\u001b[39mname\u001b[39;49m\u001b[39m'\u001b[39;49m]\u001b[39m==\u001b[39mname:\n\u001b[0;32m      6\u001b[0m         t\u001b[39m=\u001b[39mi\n",
      "\u001b[1;31mTypeError\u001b[0m: string indices must be integers, not 'str'"
     ]
    }
   ],
   "source": [
    "resu=readline('file.txt')\n",
    "name='kiran'\n",
    "t=None\n",
    "for i in resu:\n",
    "    if i['name']==name:\n",
    "        t=i"
   ]
  },
  {
   "cell_type": "code",
   "execution_count": 93,
   "metadata": {},
   "outputs": [
    {
     "data": {
      "text/plain": [
       "'kiran'"
      ]
     },
     "execution_count": 93,
     "metadata": {},
     "output_type": "execute_result"
    }
   ],
   "source": [
    "t"
   ]
  }
 ],
 "metadata": {
  "kernelspec": {
   "display_name": "Python 3",
   "language": "python",
   "name": "python3"
  },
  "language_info": {
   "codemirror_mode": {
    "name": "ipython",
    "version": 3
   },
   "file_extension": ".py",
   "mimetype": "text/x-python",
   "name": "python",
   "nbconvert_exporter": "python",
   "pygments_lexer": "ipython3",
   "version": "3.11.1"
  },
  "orig_nbformat": 4
 },
 "nbformat": 4,
 "nbformat_minor": 2
}
