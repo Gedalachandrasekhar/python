{
 "cells": [
  {
   "cell_type": "code",
   "execution_count": 3,
   "metadata": {},
   "outputs": [
    {
     "name": "stdout",
     "output_type": "stream",
     "text": [
      "(0, 1, 2, 3)\n"
     ]
    }
   ],
   "source": [
    "def sam(a):\n",
    "    for i in range(0,a):\n",
    "        yield i;\n",
    "res=tuple(sam(4))\n",
    "print(res)"
   ]
  },
  {
   "cell_type": "code",
   "execution_count": 4,
   "metadata": {},
   "outputs": [
    {
     "name": "stdout",
     "output_type": "stream",
     "text": [
      "0\n",
      "1\n",
      "2\n",
      "3\n"
     ]
    }
   ],
   "source": [
    "for i in res:\n",
    "    print(i)"
   ]
  },
  {
   "cell_type": "code",
   "execution_count": 8,
   "metadata": {},
   "outputs": [
    {
     "name": "stdout",
     "output_type": "stream",
     "text": [
      "0\n",
      "1\n",
      "2\n",
      "3\n"
     ]
    },
    {
     "ename": "StopIteration",
     "evalue": "",
     "output_type": "error",
     "traceback": [
      "\u001b[1;31m---------------------------------------------------------------------------\u001b[0m",
      "\u001b[1;31mStopIteration\u001b[0m                             Traceback (most recent call last)",
      "Cell \u001b[1;32mIn[8], line 6\u001b[0m\n\u001b[0;32m      4\u001b[0m \u001b[39mprint\u001b[39m(\u001b[39mnext\u001b[39m(r))\n\u001b[0;32m      5\u001b[0m \u001b[39mprint\u001b[39m(\u001b[39mnext\u001b[39m(r))\n\u001b[1;32m----> 6\u001b[0m \u001b[39mprint\u001b[39m(\u001b[39mnext\u001b[39;49m(r))\n",
      "\u001b[1;31mStopIteration\u001b[0m: "
     ]
    }
   ],
   "source": [
    "r=iter(res)\n",
    "print(next(r))\n",
    "print(next(r))\n",
    "print(next(r))\n",
    "print(next(r))\n",
    "print(next(r))"
   ]
  },
  {
   "cell_type": "code",
   "execution_count": 3,
   "metadata": {},
   "outputs": [
    {
     "name": "stdout",
     "output_type": "stream",
     "text": [
      "{0: 0, 1: 1, 2: 4, 3: 9, 4: 16}\n"
     ]
    }
   ],
   "source": [
    "def sam(a):\n",
    "    for i in range(0,a):\n",
    "        yield (i,i**2);\n",
    "res=dict(sam(5))\n",
    "print(res)"
   ]
  },
  {
   "cell_type": "code",
   "execution_count": 9,
   "metadata": {},
   "outputs": [
    {
     "data": {
      "text/plain": [
       "[0, 1, 4, 9, 16, 25, 36, 49, 64, 81, 100]"
      ]
     },
     "execution_count": 9,
     "metadata": {},
     "output_type": "execute_result"
    }
   ],
   "source": [
    "def sample(m,n):\n",
    "    op=[]\n",
    "    while m<=n:\n",
    "        op+=[m**2]\n",
    "        m+=1\n",
    "    return op\n",
    "ma=sample(0,10)\n",
    "ma\n"
   ]
  },
  {
   "cell_type": "code",
   "execution_count": 14,
   "metadata": {},
   "outputs": [
    {
     "name": "stdout",
     "output_type": "stream",
     "text": [
      "[0, 1, 4, 9, 16, 25, 36, 49, 64, 81, 100]\n"
     ]
    }
   ],
   "source": [
    "def it(m=0,n=10,o=[]):\n",
    "    if m==n+1:\n",
    "        return o\n",
    "    o+=[m**2]\n",
    "    it(m+1,n,o)\n",
    "    return o\n",
    "var=it()\n",
    "print(var)\n"
   ]
  },
  {
   "cell_type": "code",
   "execution_count": 18,
   "metadata": {},
   "outputs": [
    {
     "name": "stdout",
     "output_type": "stream",
     "text": [
      "[0, 1, 4, 9, 16, 25, 36, 49, 64, 81, 100]\n"
     ]
    }
   ],
   "source": [
    "m=0\n",
    "n=10\n",
    "ot=[]\n",
    "res=range(m,n+1)\n",
    "func=lambda ot:ot**2\n",
    "v=map(func,res)\n",
    "print(list(v))"
   ]
  },
  {
   "cell_type": "code",
   "execution_count": 23,
   "metadata": {},
   "outputs": [
    {
     "data": {
      "text/plain": [
       "['a',\n",
       " 'b',\n",
       " 'c',\n",
       " 'd',\n",
       " 'e',\n",
       " 'f',\n",
       " 'g',\n",
       " 'h',\n",
       " 'i',\n",
       " 'j',\n",
       " 'k',\n",
       " 'l',\n",
       " 'm',\n",
       " 'n',\n",
       " 'o',\n",
       " 'p',\n",
       " 'q',\n",
       " 'r',\n",
       " 's',\n",
       " 't',\n",
       " 'u',\n",
       " 'v',\n",
       " 'w',\n",
       " 'x',\n",
       " 'y',\n",
       " 'z']"
      ]
     },
     "execution_count": 23,
     "metadata": {},
     "output_type": "execute_result"
    }
   ],
   "source": [
    "def samll(m,n):\n",
    "    l=[]\n",
    "    for i in range(ord(m),ord(n)+1):\n",
    "        if 'a'<=chr(i)<='z':\n",
    "            l+=[chr(i)]\n",
    "        elif 'A'<=chr(i)<='Z':\n",
    "            l+=[chr(ord(chr(i))+32)]\n",
    "    return l\n",
    "samll('A','Z')\n",
    "    "
   ]
  },
  {
   "cell_type": "code",
   "execution_count": 24,
   "metadata": {},
   "outputs": [
    {
     "name": "stdout",
     "output_type": "stream",
     "text": [
      "['a', 'b', 'c', 'd', 'e', 'f', 'g', 'h', 'i', 'j', 'k', 'l', 'm', 'n', 'o', 'p', 'q', 'r', 's', 't', 'u', 'v', 'w', 'x', 'y', 'z']\n"
     ]
    }
   ],
   "source": [
    "m='A'\n",
    "n='Z'\n",
    "st=ord(m)\n",
    "end=ord(n)\n",
    "o=[]\n",
    "while st<=end:\n",
    "    if 'A'<=chr(st)<='Z':\n",
    "        o+=[chr(st+32)]\n",
    "    else:\n",
    "        o+=[chr(st)]\n",
    "    st+=1\n",
    "print(o)"
   ]
  },
  {
   "cell_type": "code",
   "execution_count": 34,
   "metadata": {},
   "outputs": [
    {
     "name": "stdout",
     "output_type": "stream",
     "text": [
      "hellosword\n"
     ]
    }
   ],
   "source": [
    "m='HeLLosWoRD'\n",
    "def con(coll):\n",
    "    if 'a'<=coll<='z':\n",
    "        return coll\n",
    "    elif 'A'<=coll<='Z':\n",
    "         return chr(ord(coll)+32)\n",
    "    else:\n",
    "        return coll\n",
    "var=map(con,m)\n",
    "print(''.join(list(var)))\n",
    "\n",
    "\n"
   ]
  },
  {
   "cell_type": "code",
   "execution_count": 47,
   "metadata": {},
   "outputs": [
    {
     "name": "stdout",
     "output_type": "stream",
     "text": [
      "[10, 88, 76, 96, 84]\n"
     ]
    }
   ],
   "source": [
    "l=[10,15,88,76,25,96,84,15,79]\n",
    "def even(coll):\n",
    "    if coll%2==0:\n",
    "        return coll\n",
    "var=filter(even,l)\n",
    "print(list(var))"
   ]
  },
  {
   "cell_type": "code",
   "execution_count": 46,
   "metadata": {},
   "outputs": [
    {
     "name": "stdout",
     "output_type": "stream",
     "text": [
      "[10, 88, 76, 96, 84]\n",
      "[10, 88, 76, 96, 84]\n"
     ]
    }
   ],
   "source": [
    "res=list(filter(lambda arg:arg if arg%2==0 else None ,l))\n",
    "op=[]\n",
    "for i in res:\n",
    "    if i!=None:\n",
    "        op+=[i]\n",
    "    else:\n",
    "        i\n",
    "print(op)\n",
    "print(res)"
   ]
  },
  {
   "cell_type": "code",
   "execution_count": null,
   "metadata": {},
   "outputs": [],
   "source": []
  }
 ],
 "metadata": {
  "kernelspec": {
   "display_name": "Python 3",
   "language": "python",
   "name": "python3"
  },
  "language_info": {
   "codemirror_mode": {
    "name": "ipython",
    "version": 3
   },
   "file_extension": ".py",
   "mimetype": "text/x-python",
   "name": "python",
   "nbconvert_exporter": "python",
   "pygments_lexer": "ipython3",
   "version": "3.11.1"
  },
  "orig_nbformat": 4
 },
 "nbformat": 4,
 "nbformat_minor": 2
}
