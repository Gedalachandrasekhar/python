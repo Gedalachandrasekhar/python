{
 "cells": [
  {
   "cell_type": "code",
   "execution_count": 3,
   "metadata": {},
   "outputs": [
    {
     "name": "stdout",
     "output_type": "stream",
     "text": [
      "h\n",
      "he\n",
      "hel\n",
      "hell\n",
      "hello\n",
      "hello\n"
     ]
    }
   ],
   "source": [
    "l=''\n",
    "for i in 'hello':\n",
    "    l+=i\n",
    "    print(l)\n",
    "print(l)\n"
   ]
  },
  {
   "attachments": {},
   "cell_type": "markdown",
   "metadata": {},
   "source": [
    "list comprehensive:\n",
    "in python list comprehensive is a simple andcompact syntax for making a list out of a list\n",
    "Its a quick technique to make a new list by performing an operation on each item in the old one\n",
    "list comprehension ismuch faster than using a for loop to handle a list\n",
    "A list comprehension is made up of brackets that hold the expression that is run for each element as well as for loop that iterates each element\n",
    "syntax\n",
    "var=[returnvalue for var in collection]\n",
    "var=[returnvalue for var in collection if<condition>]\n",
    "var=[returnvalue if<condition> else return valvefor var in collection]\n",
    "var=[returnvalue for var in collection for var in collection if<condition>]\n",
    "var=[returnvalue if<condition> else return valve for var in collection for var in collection]"
   ]
  },
  {
   "cell_type": "code",
   "execution_count": 5,
   "metadata": {},
   "outputs": [
    {
     "name": "stdout",
     "output_type": "stream",
     "text": [
      "['h', 'e', 'l', 'l', 'o']\n"
     ]
    }
   ],
   "source": [
    "l=[i for i in 'hello']\n",
    "print(l)\n"
   ]
  },
  {
   "cell_type": "code",
   "execution_count": 6,
   "metadata": {},
   "outputs": [
    {
     "name": "stdout",
     "output_type": "stream",
     "text": [
      "[1, 2, 3, 4, 5, 6, 7, 8, 9, 10]\n"
     ]
    }
   ],
   "source": [
    "l=[i for i in range(int(input('enter1')),int(input('enter1'))+1)]\n",
    "print(l)"
   ]
  },
  {
   "cell_type": "code",
   "execution_count": 5,
   "metadata": {},
   "outputs": [
    {
     "name": "stdout",
     "output_type": "stream",
     "text": [
      "[1, 3, 5, 7, 9, 11, 13, 15, 17, 19]\n"
     ]
    }
   ],
   "source": [
    "#wap to store the even value from 1 to 20 using the range\n",
    "l=[i for i in range(int(input(\"enter\")),int(input(\"enter\"))+1,2)]\n",
    "print(l)\n"
   ]
  },
  {
   "cell_type": "code",
   "execution_count": 18,
   "metadata": {},
   "outputs": [
    {
     "name": "stdout",
     "output_type": "stream",
     "text": [
      "['A', 'B', 'C', 'D', 'E', 'F', 'G', 'H', 'I', 'J', 'K', 'L', 'M', 'N', 'O', 'P', 'Q', 'R', 'S', 'T', 'U', 'V', 'W', 'X', 'Y', 'Z']\n"
     ]
    }
   ],
   "source": [
    "#wap to print seqence of alphabets from the given range\n",
    "l=[chr(i) for i in range(int(input('enter the char')),int(input('enter'))+1)]\n",
    "print(l)"
   ]
  },
  {
   "cell_type": "code",
   "execution_count": 21,
   "metadata": {},
   "outputs": [
    {
     "name": "stdout",
     "output_type": "stream",
     "text": [
      "[10, 20, 30]\n",
      "[10, 20, 30]\n"
     ]
    }
   ],
   "source": [
    "s='10 20 30'\n",
    "l=[]\n",
    "for i in s.split():\n",
    "    l+=[int(i)]\n",
    "print(l)\n",
    "l=[int(i) for i in s.split()]\n",
    "print(l)"
   ]
  },
  {
   "cell_type": "code",
   "execution_count": 34,
   "metadata": {},
   "outputs": [
    {
     "name": "stdout",
     "output_type": "stream",
     "text": [
      "['sai', 'raghu', 'ramana', 'rani']\n",
      "['gmail.com', 'gmail.com', 'ymail.com', 'outlook.com']\n"
     ]
    }
   ],
   "source": [
    "l=[]\n",
    "for i in s.split():\n",
    "    l+=[i.split('@')[0]]\n",
    "print(l)\n",
    "l=[]\n",
    "for i in s.split():\n",
    "    l+=[i.split('@')[1]]\n",
    "print(l)"
   ]
  },
  {
   "cell_type": "code",
   "execution_count": 38,
   "metadata": {},
   "outputs": [
    {
     "name": "stdout",
     "output_type": "stream",
     "text": [
      "['sai', 'raghu', 'ramana', 'rani'] ['gmail.com', 'gmail.com', 'ymail.com', 'outlook.com']\n"
     ]
    }
   ],
   "source": [
    "#cord.s.world\n",
    "s=\"sai@gmail.com raghu@gmail.com ramana@ymail.com rani@outlook.com\"\n",
    "l=[i.split('@')[0] for i in s.split()]\n",
    "l1=[i.split('@')[1] for i in s.split()]\n",
    "print(l,l1)"
   ]
  },
  {
   "cell_type": "code",
   "execution_count": 7,
   "metadata": {},
   "outputs": [
    {
     "name": "stdout",
     "output_type": "stream",
     "text": [
      "['a', 'u']\n",
      "au\n"
     ]
    }
   ],
   "source": [
    "#wap to extract vowels and ascii number by using list comprehension\n",
    "s='chandu'\n",
    "l=[]\n",
    "for i in s:\n",
    "    if i in 'aeiouAEIOU' or '1'<=i<='9':\n",
    "        l+=[i]\n",
    "print(l)\n",
    "l=''.join([i for i in s if i in 'aeiouAEIOU' or '1'<=i<='9'])\n",
    "print(l)\n"
   ]
  },
  {
   "cell_type": "code",
   "execution_count": 1,
   "metadata": {},
   "outputs": [
    {
     "name": "stdout",
     "output_type": "stream",
     "text": [
      "helloworld@123\n"
     ]
    }
   ],
   "source": [
    "#convert upper case to lower case\n",
    "st='HelLOWorld@123'\n",
    "res=''.join([chr(ord(i)+32) if 'A'<=i<='Z' else i for i in st])\n",
    "print(res)\n"
   ]
  },
  {
   "cell_type": "code",
   "execution_count": 12,
   "metadata": {},
   "outputs": [
    {
     "name": "stdout",
     "output_type": "stream",
     "text": [
      "123@HLOWdelor\n"
     ]
    }
   ],
   "source": [
    "#wap to emilinate duplicate character for given string\n",
    "st='HelLOWorld@123'\n",
    "temp=list(set(st))\n",
    "temp.sort()\n",
    "print(''.join(temp))\n"
   ]
  },
  {
   "cell_type": "code",
   "execution_count": 14,
   "metadata": {},
   "outputs": [
    {
     "ename": "TypeError",
     "evalue": "string indices must be integers, not 'str'",
     "output_type": "error",
     "traceback": [
      "\u001b[1;31m---------------------------------------------------------------------------\u001b[0m",
      "\u001b[1;31mTypeError\u001b[0m                                 Traceback (most recent call last)",
      "Cell \u001b[1;32mIn[14], line 4\u001b[0m\n\u001b[0;32m      2\u001b[0m res\u001b[39m=\u001b[39m[]\n\u001b[0;32m      3\u001b[0m \u001b[39mfor\u001b[39;00m i \u001b[39min\u001b[39;00m st:\n\u001b[1;32m----> 4\u001b[0m     \u001b[39mif\u001b[39;00m st[i]  \u001b[39mnot\u001b[39;00m \u001b[39min\u001b[39;00m res:\n\u001b[0;32m      5\u001b[0m         res\u001b[39m+\u001b[39m\u001b[39m=\u001b[39m[st]\n\u001b[0;32m      6\u001b[0m     \u001b[39melse\u001b[39;00m:\n",
      "\u001b[1;31mTypeError\u001b[0m: string indices must be integers, not 'str'"
     ]
    }
   ],
   "source": [
    "st='hellllo'\n",
    "res=[]\n",
    "for i in st:\n",
    "    if i  not in res:\n",
    "        res+=[st]\n",
    "    else:\n",
    "        res+=[i]\n",
    "print(''.join(res))"
   ]
  },
  {
   "cell_type": "code",
   "execution_count": 19,
   "metadata": {},
   "outputs": [
    {
     "name": "stdout",
     "output_type": "stream",
     "text": [
      "hello****world***\n",
      "hello****world***\n"
     ]
    }
   ],
   "source": [
    "#wap to replace the specific character \n",
    "st='hello@#$ world123'\n",
    "res=[]\n",
    "for i in st:\n",
    "    if not('A'<=i<='Z'or 'a'<=i<='z'):\n",
    "        res+=['*']\n",
    "    else:\n",
    "        res+=[i]\n",
    "print(''.join(res))\n",
    "res=['*' if not('A'<=i<='Z'or 'a'<=i<='z') else i for i in st]\n",
    "print(''.join(res))\n"
   ]
  },
  {
   "cell_type": "code",
   "execution_count": 26,
   "metadata": {},
   "outputs": [
    {
     "name": "stdout",
     "output_type": "stream",
     "text": [
      "h1ll4w6rldh111213\n",
      "h1ll4w6rldh111213\n"
     ]
    }
   ],
   "source": [
    "st='helloworldhaii'\n",
    "res=[]\n",
    "for i in range(0, len(st)):\n",
    "    if st[i] in 'aeiouAEIOU':\n",
    "        res+=[str(i)]\n",
    "    else:\n",
    "        res+=[st[i]]\n",
    "print(''.join(res))\n",
    "st='helloworldhaii'\n",
    "res=[str(i) if st[i] in 'AEIOUaeiou' else st[i] for i in range(0,len(st))]\n",
    "print(''.join(res))"
   ]
  },
  {
   "cell_type": "code",
   "execution_count": 36,
   "metadata": {},
   "outputs": [
    {
     "name": "stdout",
     "output_type": "stream",
     "text": [
      "a a\n",
      "a i\n",
      "i a\n",
      "i i\n",
      "aa ai ia ii\n"
     ]
    }
   ],
   "source": [
    "#wap to combinationation of substring from a given string\n",
    "st='ai'\n",
    "l=[]\n",
    "for i in st:\n",
    "    for j in st:\n",
    "        print(i,j)\n",
    "\n",
    "l=[i+j for i in st for j in st]\n",
    "print(' '.join(l))\n"
   ]
  },
  {
   "cell_type": "code",
   "execution_count": 15,
   "metadata": {},
   "outputs": [
    {
     "name": "stdout",
     "output_type": "stream",
     "text": [
      "['646', 12, 15]\n",
      "['646']\n"
     ]
    }
   ],
   "source": [
    "st='012345200221646231'\n",
    "n=3\n",
    "l=[]\n",
    "for i in range(0,len(st)-(n-1)):\n",
    "    if st[i:i+n]==st[i:i+n][::-1]:\n",
    "        l+=[st[i:i+n],i,i+n]\n",
    "      \n",
    "print(l)\n",
    "st='012345200221646231'\n",
    "l=[st[i:i+n] for i in range(0,len(st)-(n-1)) if st[i:i+n]==st[i:i+n][::-1]]\n",
    "print(l)"
   ]
  },
  {
   "cell_type": "code",
   "execution_count": 61,
   "metadata": {},
   "outputs": [
    {
     "name": "stdout",
     "output_type": "stream",
     "text": [
      "252\n",
      "525\n"
     ]
    }
   ],
   "source": [
    "\n",
    "\n",
    "st1='1234252513'\n",
    "l=[]\n",
    "for i in range(0,len(st1)):\n",
    "               for j in range(i+1,len(st1)):\n",
    "                 if len(st1[i:j])>1 and st1[i:j]==st1[i:j][::-1]:\n",
    "                    print(st1[i:j])\n",
    "\n"
   ]
  },
  {
   "cell_type": "code",
   "execution_count": 17,
   "metadata": {},
   "outputs": [
    {
     "name": "stdout",
     "output_type": "stream",
     "text": [
      "1\n",
      "12\n",
      "123\n",
      "1234\n",
      "12342\n",
      "123421\n",
      "2\n",
      "23\n",
      "234\n",
      "2342\n",
      "23421\n",
      "3\n",
      "34\n",
      "342\n",
      "3421\n",
      "4\n",
      "42\n",
      "421\n",
      "2\n",
      "21\n",
      "1\n"
     ]
    }
   ],
   "source": [
    "st='1234213'\n",
    "l=[]\n",
    "for i in range(0,len(st)):\n",
    "               for j in range(i+1,len(st)):\n",
    "                      print(st[i:j])"
   ]
  },
  {
   "cell_type": "code",
   "execution_count": 7,
   "metadata": {},
   "outputs": [
    {
     "name": "stdout",
     "output_type": "stream",
     "text": [
      "1234321\n",
      "23432\n",
      "343\n",
      "['1234321', '23432', '343']\n"
     ]
    }
   ],
   "source": [
    "st='12343213'\n",
    "for i in range(0,len(st)):\n",
    "    for j in range(i+1,len(st)):\n",
    "        if len(st[i:j])>1 and st[i:j]==st[i:j][::-1]:\n",
    "            print(st[i:j])\n",
    "l=[st[i:j] for i in range(0,len(st)) for j in range(i+1,len(st)) if len(st[i:j])>1 and st[i:j]==st[i:j][::-1]]\n",
    "print(l)"
   ]
  },
  {
   "cell_type": "code",
   "execution_count": 19,
   "metadata": {},
   "outputs": [
    {
     "name": "stdout",
     "output_type": "stream",
     "text": [
      "[10, 3, 60, 5, 16, 18, 16, 7, 6, 9, 7, 12, 8, 22, 10, 3, 60, 5, 16, 18, 16, 7, 6, 9, 7, 12, 8, 22, 10, 3, 60, 5, 16, 18, 16, 7, 6, 9, 7, 12, 8, 22, 10, 3, 60, 5, 16, 18, 16, 7, 6, 9, 7, 12, 8, 22]\n",
      "[[10, 3, 60], [5, 16, 18, 16], [7, 6, 9, 7], [12, 8, 22], [10, 3, 60], [5, 16, 18, 16], [7, 6, 9, 7], [12, 8, 22], [10, 3, 60], [5, 16, 18, 16], [7, 6, 9, 7], [12, 8, 22], [10, 3, 60], [5, 16, 18, 16], [7, 6, 9, 7], [12, 8, 22]]\n"
     ]
    }
   ],
   "source": [
    "l=[[10,3,60],[5,16,18,16],[7,6,9,7],[12,8,22]]\n",
    "u=[]\n",
    "for i in l:\n",
    "    for j in l:\n",
    "        u+=j\n",
    "print(u)\n",
    "l=[j for i in l for j in l]\n",
    "print(l)\n"
   ]
  },
  {
   "cell_type": "code",
   "execution_count": 18,
   "metadata": {},
   "outputs": [
    {
     "name": "stdout",
     "output_type": "stream",
     "text": [
      "[10, 9, 60, 25, 16, 18, 16, 49, 6, 81, 49, 12, 8, 22]\n"
     ]
    }
   ],
   "source": [
    "l=[[10,3,60],[5,16,18,16],[7,6,9,7],[12,8,22]]\n",
    "u=[]\n",
    "for i in l:\n",
    "    for j in i:\n",
    "        if j%2==0:\n",
    "            u+=[j]\n",
    "        else:\n",
    "            u+=[j**2]\n",
    "print(u)"
   ]
  },
  {
   "cell_type": "code",
   "execution_count": 21,
   "metadata": {},
   "outputs": [
    {
     "name": "stdout",
     "output_type": "stream",
     "text": [
      "[[10, 3, 60], [5, 16, 18, 16], [7, 6, 9, 7], [12, 8, 22], [10, 3, 60], [5, 16, 18, 16], [7, 6, 9, 7], [12, 8, 22], [10, 3, 60], [5, 16, 18, 16], [7, 6, 9, 7], [12, 8, 22], [10, 3, 60], [5, 16, 18, 16], [7, 6, 9, 7], [12, 8, 22]]\n"
     ]
    }
   ],
   "source": [
    "l=[[10,3,60],[5,16,18,16],[7,6,9,7],[12,8,22]]\n",
    "l=[j for i in l for j in l]\n",
    "print(l)"
   ]
  },
  {
   "attachments": {},
   "cell_type": "markdown",
   "metadata": {},
   "source": [
    "tuple comrehension:\n",
    "var=(return value for in collection)\n",
    "var=(returnvalue for var in collection if <condition>)\n",
    "var=(return value if <condition> else return value for in collection)\n",
    "var=(return value for var in collection for var in collection)\n",
    "var=(return value for var in collection for var in collection if <condition>)\n",
    "var=(returnvalue if <condition> else return value for var in collection for var in collection)\n",
    "set comprehension:\n",
    "var={return value for in collection}\n",
    "var={returnvalue for var in collection if <condition>}\n",
    "var={return value if <condition> else return value for in collection}\n",
    "var={return value for var in collection for var in collection}\n",
    "var={return value for var in collection for var in collection if <condition>}\n",
    "var={returnvalue if <condition> else return value for var in collection for var in collection}\n",
    "dict comprehension:\n",
    "var={returnkey:reuturnvalue for in collection}\n",
    "var={returnkey:returnvalue for var in collection if <condition>}\n",
    "var={returnkey:return value if <condition> else return value for in collection}\n",
    "var={returnkey:return value for var in collection for var in collection}\n",
    "var={returnkey:return value for var in collection for var in collection if <condition>}\n",
    "war={returnkey:returnvalue if <condition> else return value for var in collection for var in collection}"
   ]
  },
  {
   "cell_type": "code",
   "execution_count": 26,
   "metadata": {},
   "outputs": [
    {
     "name": "stdout",
     "output_type": "stream",
     "text": [
      "{3, 5, 6, 7, 8, 9, 10, 12, 16, 18, 22, 60}\n",
      "{10: 10, 3: 3, 60: 60, 5: 5, 16: 16, 18: 18, 7: 7, 6: 6, 9: 9, 12: 12, 8: 8, 22: 22}\n",
      "(10, 3, 60, 5, 16, 18, 16, 7, 6, 9, 7, 12, 8, 22)\n"
     ]
    }
   ],
   "source": [
    "l=[[10,3,60],[5,16,18,16],[7,6,9,7],[12,8,22]]\n",
    "l={j for i in l for j in i}\n",
    "print(l)\n",
    "l=[[10,3,60],[5,16,18,16],[7,6,9,7],[12,8,22]]\n",
    "l={j:j for i in l for j in i}\n",
    "print(l)\n",
    "l=[[10,3,60],[5,16,18,16],[7,6,9,7],[12,8,22]]\n",
    "l=(j for i in l for j in i)\n",
    "print(tuple(l))"
   ]
  },
  {
   "cell_type": "code",
   "execution_count": 1,
   "metadata": {},
   "outputs": [
    {
     "name": "stdout",
     "output_type": "stream",
     "text": [
      "{0: 0, 1: 1, 2: 8, 3: 27, 4: 64, 5: 125, 6: 216, 7: 343, 8: 512, 9: 729}\n",
      "{0: 0, 1: 1, 2: 8, 3: 27, 4: 64, 5: 125, 6: 216, 7: 343, 8: 512, 9: 729}\n"
     ]
    }
   ],
   "source": [
    "s={1:1,2:8,3:27}\n",
    "d={}\n",
    "for ie in range(0,10):\n",
    "    d[i]=i**3\n",
    "print(d)\n",
    "d={i:i**3 for i in range(0,10)}\n",
    "print(d)"
   ]
  },
  {
   "attachments": {},
   "cell_type": "markdown",
   "metadata": {},
   "source": [
    "pandas or numpy\n",
    "data exteaction gathering the data from csv JSon database\n",
    "once we extract the data selecting hte data \n",
    "what data we required this is called cleaning\n",
    "for these have to be done the pandas will use\n",
    "data analysis \n",
    "pandas it is a data analysis related package or library\n",
    "when we have object or structure form of data that time we have to use pandas \n",
    "numpy:\n",
    "if we have to perform the matheaticals and statitical problems we have to use the numpy\n",
    "\n",
    "all these we call the data maniplucation\n",
    "to perform the data maniplucation we have to use the pandas and numpy"
   ]
  }
 ],
 "metadata": {
  "kernelspec": {
   "display_name": "Python 3",
   "language": "python",
   "name": "python3"
  },
  "language_info": {
   "codemirror_mode": {
    "name": "ipython",
    "version": 3
   },
   "file_extension": ".py",
   "mimetype": "text/x-python",
   "name": "python",
   "nbconvert_exporter": "python",
   "pygments_lexer": "ipython3",
   "version": "3.11.1"
  },
  "orig_nbformat": 4
 },
 "nbformat": 4,
 "nbformat_minor": 2
}
