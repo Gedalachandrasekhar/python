{
 "cells": [
  {
   "cell_type": "code",
   "execution_count": 15,
   "metadata": {},
   "outputs": [
    {
     "name": "stdout",
     "output_type": "stream",
     "text": [
      "0 1 1 3 5 9 15 25 "
     ]
    }
   ],
   "source": [
    "# WAP to print Fibonacci series 0 to nth.\n",
    "a=0\n",
    "b=1\n",
    "n=int(input('nth number'))\n",
    "print(a,b,end=' ')\n",
    "while a<=n:\n",
    "    c=a+b\n",
    "    a=b\n",
    "    b=c\n",
    "    a+=1\n",
    "    print(c,end=\" \")\n"
   ]
  },
  {
   "cell_type": "code",
   "execution_count": 17,
   "metadata": {},
   "outputs": [
    {
     "name": "stdout",
     "output_type": "stream",
     "text": [
      "720\n"
     ]
    }
   ],
   "source": [
    "# WAP to find out the factorial number of a given number.\n",
    "a=int(input('number'))\n",
    "s=1\n",
    "product=1\n",
    "while a>=s:\n",
    "    product*=a\n",
    "    a-=1\n",
    "print(product)\n"
   ]
  },
  {
   "cell_type": "code",
   "execution_count": 24,
   "metadata": {},
   "outputs": [
    {
     "name": "stdout",
     "output_type": "stream",
     "text": [
      "360\n"
     ]
    }
   ],
   "source": [
    "# WAP to print the factorial numbers in the given range m to n.\n",
    "m=int(input('number'))\n",
    "n=int(input('number2'))\n",
    "\n",
    "product=1\n",
    "while n>=m:\n",
    "    product*=n\n",
    "    n-=1\n",
    "print(product)"
   ]
  },
  {
   "cell_type": "code",
   "execution_count": 28,
   "metadata": {},
   "outputs": [
    {
     "name": "stdout",
     "output_type": "stream",
     "text": [
      "A,B,C,D,E,F,G,H,I,J,K,L,M,N,O,P,Q,R,S,T,U,V,W,X,Y,Z,"
     ]
    }
   ],
   "source": [
    "# WAP to print the uppercase character from ‘A’ to ‘Z’ by using a while loop.\n",
    "a=ord('A')\n",
    "b=ord('Z')\n",
    "while a<=b:\n",
    "    c=chr(a)\n",
    "    a+=1\n",
    "    print(c,end=',')"
   ]
  },
  {
   "cell_type": "code",
   "execution_count": 29,
   "metadata": {},
   "outputs": [
    {
     "name": "stdout",
     "output_type": "stream",
     "text": [
      "a,b,c,d,e,f,g,h,i,j,k,l,m,n,o,p,q,r,s,t,u,v,w,x,y,z,"
     ]
    }
   ],
   "source": [
    "# WAP to print the lowercase character from ‘a’ to ‘z’ by using a while loop\n",
    "a=ord('a')\n",
    "b=ord('z')\n",
    "while a<=b:\n",
    "    c=chr(a)\n",
    "    a+=1\n",
    "    print(c,end=',')"
   ]
  },
  {
   "cell_type": "code",
   "execution_count": 36,
   "metadata": {},
   "outputs": [
    {
     "name": "stdout",
     "output_type": "stream",
     "text": [
      "0,0,0,0,0,0,0,0,0,0,"
     ]
    }
   ],
   "source": [
    "a='0'\n",
    "b='9'\n",
    "d=ord(a)\n",
    "while d<=ord(b):\n",
    "    c=chr(ord(a))\n",
    "    d+=1\n",
    "    print(c,end=',')"
   ]
  },
  {
   "cell_type": "code",
   "execution_count": 37,
   "metadata": {},
   "outputs": [
    {
     "name": "stdout",
     "output_type": "stream",
     "text": [
      "E,F,G,H,I,J,K,L,M,N,O,P,Q,R,S,T,U,"
     ]
    }
   ],
   "source": [
    "#WAP to print the uppercase character from ‘E’ to ‘U’ by using a while loop.\n",
    "a=ord('E')\n",
    "b=ord('U')\n",
    "while a<=b:\n",
    "    c=chr(a)\n",
    "    a+=1\n",
    "    print(c,end=',')"
   ]
  },
  {
   "cell_type": "code",
   "execution_count": 38,
   "metadata": {},
   "outputs": [
    {
     "name": "stdout",
     "output_type": "stream",
     "text": [
      "Z,Y,X,W,V,U,T,S,R,Q,P,O,N,M,L,K,J,I,H,G,F,E,D,C,B,A,"
     ]
    }
   ],
   "source": [
    "#WAP to print the uppercase character from ‘Z’ to ‘A’ by using a while loop\n",
    "a=ord('A')\n",
    "b=ord('Z')\n",
    "while b>=a:\n",
    "    c=chr(b)\n",
    "    b-=1\n",
    "    print(c,end=',')"
   ]
  },
  {
   "cell_type": "code",
   "execution_count": 39,
   "metadata": {},
   "outputs": [
    {
     "name": "stdout",
     "output_type": "stream",
     "text": [
      "U,T,S,R,Q,P,O,N,M,L,K,J,I,H,G,"
     ]
    }
   ],
   "source": [
    "#WAP to print the uppercase character from ‘U’ to ‘G’ by using a while loop.\n",
    "a=ord('G')\n",
    "b=ord('U')\n",
    "while b>=a:\n",
    "    c=chr(b)\n",
    "    b-=1\n",
    "    print(c,end=',')"
   ]
  },
  {
   "cell_type": "code",
   "execution_count": 40,
   "metadata": {},
   "outputs": [
    {
     "name": "stdout",
     "output_type": "stream",
     "text": [
      "i,j,k,l,m,n,o,p,q,r,s,t,u,v,w,x,y,"
     ]
    }
   ],
   "source": [
    "# WAP to print the lowercase character from ‘i’ to ‘y’ by using a while loop.\n",
    "a=ord('i')\n",
    "b=ord('y')\n",
    "while a<=b:\n",
    "    c=chr(a)\n",
    "    a+=1\n",
    "    print(c,end=',')"
   ]
  },
  {
   "cell_type": "code",
   "execution_count": 41,
   "metadata": {},
   "outputs": [
    {
     "name": "stdout",
     "output_type": "stream",
     "text": [
      "z,y,x,w,v,u,t,s,r,q,p,o,n,m,l,k,j,i,h,g,f,e,d,c,b,a,"
     ]
    }
   ],
   "source": [
    "\n",
    "# 43. WAP to print the lowercase character from ‘z’ to ‘a’ by using a while loop.\n",
    "a=ord('a')\n",
    "b=ord('z')\n",
    "while b>=a:\n",
    "    c=chr(b)\n",
    "    b-=1\n",
    "    print(c,end=',')"
   ]
  },
  {
   "cell_type": "code",
   "execution_count": 42,
   "metadata": {},
   "outputs": [
    {
     "name": "stdout",
     "output_type": "stream",
     "text": [
      "p,o,n,m,l,k,j,i,h,g,f,e,d,c,"
     ]
    }
   ],
   "source": [
    "# 44. WAP to print the lowercase character from ‘p’ to ‘c’ by using a while loop.\n",
    "a=ord('c')\n",
    "b=ord('p')\n",
    "while b>=a:\n",
    "    c=chr(b)\n",
    "    b-=1\n",
    "    print(c,end=',')"
   ]
  },
  {
   "cell_type": "code",
   "execution_count": 64,
   "metadata": {},
   "outputs": [
    {
     "name": "stdout",
     "output_type": "stream",
     "text": [
      "B,D,F,H,J,L,N,P,R,T,V,X,Z,"
     ]
    }
   ],
   "source": [
    "# 45. WAP to print the uppercase characters based on even ascii values.\n",
    "a=ord('A')\n",
    "b=ord('Z')\n",
    "while a<=b:\n",
    "    if a%2==0: \n",
    "        \n",
    "        print(chr(a),end=',')\n",
    "    a+=1"
   ]
  },
  {
   "cell_type": "code",
   "execution_count": 57,
   "metadata": {},
   "outputs": [
    {
     "name": "stdout",
     "output_type": "stream",
     "text": [
      "b,d,f,h,j,l,n,p,r,t,v,x,z,"
     ]
    }
   ],
   "source": [
    "# WAP to print the lowercase characters based on even ascii values\n",
    "a=ord('a')\n",
    "b=ord('z')\n",
    "while a<=b:\n",
    "    if a%2==0: \n",
    "        \n",
    "        print(chr(a),end=',')\n",
    "    a+=1"
   ]
  },
  {
   "cell_type": "code",
   "execution_count": 61,
   "metadata": {},
   "outputs": [
    {
     "name": "stdout",
     "output_type": "stream",
     "text": [
      "A,C,E,G,I,K,M,O,Q,S,U,W,Y,"
     ]
    }
   ],
   "source": [
    "#WAP to print the uppercase characters based on odd ascii values.\n",
    "a=ord('A')\n",
    "b=ord('Z')\n",
    "while a<=b:\n",
    "    if a%2!=0: \n",
    "        \n",
    "        print(chr(a),end=',')\n",
    "    a+=1"
   ]
  },
  {
   "cell_type": "code",
   "execution_count": 62,
   "metadata": {},
   "outputs": [
    {
     "name": "stdout",
     "output_type": "stream",
     "text": [
      "a,c,e,g,i,k,m,o,q,s,u,w,y,"
     ]
    }
   ],
   "source": [
    "#WAP to print the lowercase characters based on odd ascii values\n",
    "a=ord('a')\n",
    "b=ord('z')\n",
    "while a<=b:\n",
    "    if a%2!=0: \n",
    "        \n",
    "        print(chr(a),end=',')\n",
    "    a+=1"
   ]
  },
  {
   "cell_type": "code",
   "execution_count": 65,
   "metadata": {},
   "outputs": [
    {
     "name": "stdout",
     "output_type": "stream",
     "text": [
      "B,D,F,H,J,L,N,P,R,T,V,X,Z,"
     ]
    }
   ],
   "source": [
    "# WAP to print all the even characters from ‘A’ to ‘Z’\n",
    "a='ABCDEFGHIJKLMNOPQRSTUVWXYZ'\n",
    "s=0\n",
    "e=len(a)\n",
    "while s<e:\n",
    "    if s%2!=0:\n",
    "        print(a[s],end=\",\")\n",
    "    s+=1"
   ]
  },
  {
   "cell_type": "code",
   "execution_count": 66,
   "metadata": {},
   "outputs": [
    {
     "name": "stdout",
     "output_type": "stream",
     "text": [
      "a,c,e,g,i,k,m,o,q,s,u,w,y,"
     ]
    }
   ],
   "source": [
    "#WAP to print all the odd characters from ‘a’ to ‘z’\n",
    "a='ABCDEFGHIJKLMNOPQRSTUVWXYZ'\n",
    "s=0\n",
    "e=len(a)\n",
    "while s<e:\n",
    "    if s%2==0:\n",
    "        print(chr(ord(a[s])+32),end=\",\")\n",
    "    s+=1"
   ]
  },
  {
   "cell_type": "code",
   "execution_count": 67,
   "metadata": {},
   "outputs": [
    {
     "name": "stdout",
     "output_type": "stream",
     "text": [
      "4\n"
     ]
    }
   ],
   "source": [
    "#WAP to count the number of vowels present in D to V.\n",
    "a=ord('D')\n",
    "b=ord('V')\n",
    "count=0\n",
    "while a<=b:\n",
    "    if chr(a) in 'AEIOUaeiou':\n",
    "        count+=1\n",
    "    a+=1\n",
    "print(count)"
   ]
  },
  {
   "cell_type": "code",
   "execution_count": 70,
   "metadata": {},
   "outputs": [
    {
     "name": "stdout",
     "output_type": "stream",
     "text": [
      "4\n"
     ]
    }
   ],
   "source": [
    "# WAP to count the number of vowels present in u to e.\n",
    "a=ord('u')\n",
    "b=ord('e')\n",
    "count=0\n",
    "if not(a<b):\n",
    "    a,b=b,a\n",
    "\n",
    "while a<=b:\n",
    "    if chr(a) in 'AEIOUaeiou':\n",
    "        count+=1\n",
    "    a+=1\n",
    "print(count)"
   ]
  },
  {
   "cell_type": "code",
   "execution_count": 82,
   "metadata": {},
   "outputs": [
    {
     "name": "stdout",
     "output_type": "stream",
     "text": [
      "9,36,81,"
     ]
    }
   ],
   "source": [
    "# WAP to print the square of the number in between the range from m to n which is multiple of 3\n",
    "m=int(input('number1'))\n",
    "n=int(input('number2'))\n",
    "c=0\n",
    "while m<=n:\n",
    "    if m%3==0:\n",
    "        print(m**2,end=',')\n",
    "    m+=1\n",
    "    \n"
   ]
  },
  {
   "cell_type": "code",
   "execution_count": 81,
   "metadata": {},
   "outputs": [
    {
     "name": "stdout",
     "output_type": "stream",
     "text": [
      "25,100,"
     ]
    }
   ],
   "source": [
    "# WAP to print the square of the number in between the range from m to n which is multiple of 5\n",
    "m=int(input('number1'))\n",
    "n=int(input('number2'))\n",
    "\n",
    "while m<=n:\n",
    "    if m%5==0:\n",
    "        print(m**2,end=',')\n",
    "    m+=1\n",
    "    "
   ]
  },
  {
   "cell_type": "code",
   "execution_count": 110,
   "metadata": {},
   "outputs": [
    {
     "name": "stdout",
     "output_type": "stream",
     "text": [
      "32\n",
      "5\n"
     ]
    }
   ],
   "source": [
    "# Write a program which takes an integer number and find the sum of digits and\n",
    "# repeat until the sum gets a single digit in the end.\n",
    "a=input('number')\n",
    "s=0\n",
    "sum=0\n",
    "res=0\n",
    "temp=0\n",
    "while s<len(a):\n",
    "    res=int(a[s])\n",
    "    sum+=res\n",
    "    temp=str(sum)\n",
    "    s+=1\n",
    "print(temp)\n",
    "s1=0\n",
    "sum1=0\n",
    "res1=0\n",
    "while s1<len(temp):\n",
    "    res1=int(temp[s1])\n",
    "    sum1+=res1\n",
    "    s1+=1\n",
    "print(sum1)"
   ]
  },
  {
   "cell_type": "code",
   "execution_count": 124,
   "metadata": {},
   "outputs": [
    {
     "ename": "IndexError",
     "evalue": "string index out of range",
     "output_type": "error",
     "traceback": [
      "\u001b[1;31m---------------------------------------------------------------------------\u001b[0m",
      "\u001b[1;31mIndexError\u001b[0m                                Traceback (most recent call last)",
      "Cell \u001b[1;32mIn[124], line 10\u001b[0m\n\u001b[0;32m      8\u001b[0m     \u001b[39mif\u001b[39;00m res \u001b[39min\u001b[39;00m \u001b[39m'\u001b[39m\u001b[39m2\u001b[39m\u001b[39m'\u001b[39m:\n\u001b[0;32m      9\u001b[0m         s\u001b[39m+\u001b[39m\u001b[39m=\u001b[39m\u001b[39m1\u001b[39m\n\u001b[1;32m---> 10\u001b[0m     \u001b[39mprint\u001b[39m(res[\u001b[39m2\u001b[39;49m],end\u001b[39m=\u001b[39m\u001b[39m'\u001b[39m\u001b[39m,\u001b[39m\u001b[39m'\u001b[39m)\n\u001b[0;32m     11\u001b[0m \u001b[39mprint\u001b[39m(count)\n",
      "\u001b[1;31mIndexError\u001b[0m: string index out of range"
     ]
    }
   ],
   "source": [
    "#. Write a program to count the numbers of 2’s between 0 and n\n",
    "a=input('number')\n",
    "s=0\n",
    "res=0\n",
    "count=0\n",
    "while s<=int(a):\n",
    "    res=str(s)\n",
    "    if res in '2':\n",
    "        s+=1\n",
    "    print(res,end=',')\n",
    "print(count)"
   ]
  },
  {
   "cell_type": "code",
   "execution_count": 1,
   "metadata": {},
   "outputs": [
    {
     "ename": "TypeError",
     "evalue": "'int' object is not subscriptable",
     "output_type": "error",
     "traceback": [
      "\u001b[1;31m---------------------------------------------------------------------------\u001b[0m",
      "\u001b[1;31mTypeError\u001b[0m                                 Traceback (most recent call last)",
      "Cell \u001b[1;32mIn[1], line 5\u001b[0m\n\u001b[0;32m      3\u001b[0m res\u001b[39m=\u001b[39m\u001b[39m'\u001b[39m\u001b[39m'\u001b[39m\n\u001b[0;32m      4\u001b[0m \u001b[39mwhile\u001b[39;00m s\u001b[39m<\u001b[39m\u001b[39mlen\u001b[39m(a):\n\u001b[1;32m----> 5\u001b[0m     \u001b[39mif\u001b[39;00m s[a] \u001b[39mnot\u001b[39;00m \u001b[39min\u001b[39;00m \u001b[39m'\u001b[39m\u001b[39maeiouAEIOU\u001b[39m\u001b[39m'\u001b[39m:\n\u001b[0;32m      6\u001b[0m         res\u001b[39m+\u001b[39m\u001b[39m=\u001b[39ms[a]\n\u001b[0;32m      7\u001b[0m     \u001b[39melse\u001b[39;00m:\n",
      "\u001b[1;31mTypeError\u001b[0m: 'int' object is not subscriptable"
     ]
    }
   ],
   "source": [
    "a=\"chandu\"\n",
    "s=0\n",
    "res=''\n",
    "while s<len(a):\n",
    "    if s[a] not in 'aeiouAEIOU':\n",
    "        res+=s[a]\n",
    "    else:\n",
    "        res+=s\n",
    "print(res)"
   ]
  },
  {
   "cell_type": "code",
   "execution_count": null,
   "metadata": {},
   "outputs": [],
   "source": []
  }
 ],
 "metadata": {
  "kernelspec": {
   "display_name": "Python 3",
   "language": "python",
   "name": "python3"
  },
  "language_info": {
   "codemirror_mode": {
    "name": "ipython",
    "version": 3
   },
   "file_extension": ".py",
   "mimetype": "text/x-python",
   "name": "python",
   "nbconvert_exporter": "python",
   "pygments_lexer": "ipython3",
   "version": "3.11.1"
  },
  "orig_nbformat": 4
 },
 "nbformat": 4,
 "nbformat_minor": 2
}
