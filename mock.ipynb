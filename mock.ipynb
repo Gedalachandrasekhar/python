{
 "cells": [
  {
   "cell_type": "code",
   "execution_count": 9,
   "metadata": {},
   "outputs": [],
   "source": [
    "class employee:\n",
    "    company_name='CTS'\n",
    "    branch='HYD'\n",
    "    techpark='Mind Space'\n",
    "    details={}\n",
    "    def __init__(self,IDno,Emp_name,Emp_salary,Designation):\n",
    "        self.IDno=IDno \n",
    "        self.Emp_name=Emp_name \n",
    "        self.Emp_salary=Emp_salary \n",
    "        self.Designation=Designation\n",
    "        self.add_details(self.IDno,self)\n",
    "    @classmethod\n",
    "    def add_details(cls,id,name):\n",
    "        cls.details[id]=name\n",
    "    @classmethod\n",
    "    def details_dis(cls):\n",
    "        for i in cls.details:\n",
    "            n=eval(input('enter the option'))\n",
    "            print('1:modify salary\\n2:modify designation')\n",
    "            match n:\n",
    "                case 1:\n",
    "                    cls.modify_salary(cls.details[i])\n",
    "                case 2:\n",
    "                    cls.modify_designation(cls.details[i])\n",
    "                case 3:\n",
    "                    return\n",
    "        cls.display()\n",
    "    @classmethod\n",
    "    def display(cls):\n",
    "        for i in cls.details:\n",
    "            print(cls.details[i].__dict__)\n",
    "    def modify_salary(self):\n",
    "        if self.IDno==eval(input('enter the Idno')):\n",
    "            self.Emp_salary=eval(input('enter the salary'))\n",
    "    def modify_designation(self):\n",
    "        if self.IDno==eval(input('enter the Idno')):\n",
    "            self.Designation=eval(input('enter the designation'))\n",
    "\n",
    "emp1=employee('CTS001','chandu',22350,'system adminstrator')\n",
    "emp2=employee('CTS002','pranay',27840,'devops engineer')\n"
   ]
  },
  {
   "cell_type": "code",
   "execution_count": 10,
   "metadata": {},
   "outputs": [
    {
     "name": "stdout",
     "output_type": "stream",
     "text": [
      "{'IDno': 'CTS001', 'Emp_name': 'chandu', 'Emp_salary': 22350, 'Designation': 'system adminstrator'}\n",
      "{'IDno': 'CTS002', 'Emp_name': 'pranay', 'Emp_salary': 27840, 'Designation': 'devops engineer'}\n"
     ]
    }
   ],
   "source": [
    "emp1.display()"
   ]
  },
  {
   "cell_type": "code",
   "execution_count": 17,
   "metadata": {},
   "outputs": [
    {
     "name": "stdout",
     "output_type": "stream",
     "text": [
      "1:modify salary\n",
      "2:modify designation\n",
      "1:modify salary\n",
      "2:modify designation\n"
     ]
    }
   ],
   "source": [
    "emp1.details_dis()"
   ]
  },
  {
   "cell_type": "code",
   "execution_count": 18,
   "metadata": {},
   "outputs": [
    {
     "name": "stdout",
     "output_type": "stream",
     "text": [
      "{'IDno': 'CTS001', 'Emp_name': 'chandu', 'Emp_salary': 22350, 'Designation': 'developer'}\n",
      "{'IDno': 'CTS002', 'Emp_name': 'pranay', 'Emp_salary': 27840, 'Designation': 'devops engineer'}\n"
     ]
    }
   ],
   "source": [
    "emp1.display()"
   ]
  },
  {
   "cell_type": "code",
   "execution_count": 118,
   "metadata": {},
   "outputs": [],
   "source": [
    "class lap:\n",
    "    company_name='HP'\n",
    "    os='WIN11'\n",
    "    store='HP ltd'\n",
    "    location='HYD'\n",
    "    details={}\n",
    "    def __init__(self,IDno,model_name,price,ram,rom):\n",
    "        self.IDno=IDno \n",
    "        self.model_name=model_name \n",
    "        self.price=price \n",
    "        self.ram=ram\n",
    "        self.rom=rom\n",
    "        self.a_details(self.IDno,self)\n",
    "    @classmethod\n",
    "    def a_details(cls,id,name):\n",
    "        cls.details[id]=name\n",
    "    @classmethod\n",
    "    def modify(cls):\n",
    "        print('1:modify model name\\n2:modify price\\n3:modify ram\\n4:modify rom')\n",
    "        m=eval(input('enter the option'))\n",
    "        \n",
    "        for i in cls.details:\n",
    "                match m:\n",
    "                    case 1:\n",
    "                        cls.modify_model(cls.details[i])\n",
    "                    case 2:\n",
    "                        cls.modify_price(cls.details[i])\n",
    "                    case 3:\n",
    "                        cls.modify_ram(cls.details[i])\n",
    "                    case 4:\n",
    "                        cls.modify_rom(cls.details[i])   \n",
    "                    case 5:\n",
    "                        return\n",
    "    @classmethod\n",
    "    def display(cls):\n",
    "        for i in cls.details:\n",
    "            print(cls.details[i].__dict__)        \n",
    "    def modify_model(self):\n",
    "        if self.IDno==eval(input('enter the Idno')):\n",
    "            self.model_name=eval(input('enter the maodel name'))\n",
    "    def modify_price(self):\n",
    "        if self.IDno==eval(input('enter the Idno')):\n",
    "            self.price=eval(input('enter the new price'))\n",
    "    def modify_ram(self):\n",
    "        if self.IDno==eval(input('enter the Idno')):\n",
    "            self.ram=eval(input('enter the new ram'))\n",
    "    def modify_rom(self):\n",
    "        if self.IDno==eval(input('enter the Idno')):\n",
    "            self.rom=eval(input('enter the new rom'))\n",
    "    @classmethod\n",
    "    def delete(cls):\n",
    "        print('1:modify model name\\n2:modify price\\n3:modify ram\\n4:modify rom')\n",
    "        m=eval(input('enter the option'))\n",
    "        \n",
    "        for i in cls.details:\n",
    "                match m:\n",
    "                    case 1:\n",
    "                        cls.del_model(cls.details[i])\n",
    "                    case 2:\n",
    "                        cls.del_price(cls.details[i])\n",
    "                    case 3:\n",
    "                        cls.del_ram(cls.details[i])\n",
    "                    case 4:\n",
    "                        cls.del_rom(cls.details[i])  \n",
    "                    case 5:\n",
    "                        return\n",
    "    def del_model(self):\n",
    "       if self.IDno==eval(input('enter the Idno')):\n",
    "           del self.model_name\n",
    "    def del_price(self):\n",
    "        if self.IDno==eval(input('enter the Idno')):\n",
    "           del self.price\n",
    "    def del_ram(self):\n",
    "        if self.IDno==eval(input('enter the Idno')):\n",
    "            del self.ram\n",
    "    def del_rom(self):\n",
    "        if self.IDno==eval(input('enter the Idno')):\n",
    "            del self.rom\n",
    "    @classmethod\n",
    "    def dis(cls):\n",
    "        print('1:modify model name\\n2:modify price\\n3:modify ram\\n4:modify rom')\n",
    "        m=eval(input('enter the option'))\n",
    "        \n",
    "        for i in cls.details:\n",
    "                match m:\n",
    "                    case 1:\n",
    "                        cls.dis_model(cls.details[i])\n",
    "                    case 2:\n",
    "                        cls.dis_price(cls.details[i])\n",
    "                    case 3:\n",
    "                        cls.dis_ram(cls.details[i])\n",
    "                    case 4:\n",
    "                        cls.dis_rom(cls.details[i])  \n",
    "                    case 5:\n",
    "                        return\n",
    "    def dis_model(self):\n",
    "       if self.IDno==eval(input('enter the Idno')):\n",
    "           print(self.model_name)\n",
    "    def dis_price(self):\n",
    "        if self.IDno==eval(input('enter the Idno')):\n",
    "            print(self.price)\n",
    "    def dis_ram(self):\n",
    "        if self.IDno==eval(input('enter the Idno')):\n",
    "             print(self.ram)\n",
    "    def dis_rom(self):\n",
    "        if self.IDno==eval(input('enter the Idno')):\n",
    "            print(self.rom)\n",
    "    @classmethod\n",
    "    def delrom(cls):\n",
    "        for i in cls.details:\n",
    "            print(cls.details[i].__dict__)\n",
    "            if \"rom\" in cls.details[i].__dict__:\n",
    "                del cls.details[i].rom\n",
    "        \n",
    "lap1=lap(15021,'ROG 17',77000,'16GB','1TB')\n",
    "lap2=lap(15022,'ROG 15',68000,'8GB','512GB')\n"
   ]
  },
  {
   "cell_type": "code",
   "execution_count": null,
   "metadata": {},
   "outputs": [],
   "source": []
  },
  {
   "cell_type": "code",
   "execution_count": 83,
   "metadata": {},
   "outputs": [
    {
     "data": {
      "text/plain": [
       "{'IDno': 15021,\n",
       " 'model_name': 'ROG 17',\n",
       " 'price': 77000,\n",
       " 'ram': '16GB',\n",
       " 'rom': '1TB'}"
      ]
     },
     "execution_count": 83,
     "metadata": {},
     "output_type": "execute_result"
    }
   ],
   "source": [
    "lap1.__dict__"
   ]
  },
  {
   "cell_type": "code",
   "execution_count": 75,
   "metadata": {},
   "outputs": [
    {
     "name": "stdout",
     "output_type": "stream",
     "text": [
      "{'IDno': 15021, 'model_name': 'ROG 17', 'price': 77000, 'ram': '16GB', 'rom': '1TB'}\n",
      "{'IDno': 15022, 'model_name': 'ROG 15', 'price': 68000, 'ram': '8GB', 'rom': '512GB'}\n"
     ]
    }
   ],
   "source": [
    "lap.display()"
   ]
  },
  {
   "cell_type": "code",
   "execution_count": 119,
   "metadata": {},
   "outputs": [
    {
     "name": "stdout",
     "output_type": "stream",
     "text": [
      "{'IDno': 15021, 'model_name': 'ROG 17', 'price': 77000, 'ram': '16GB', 'rom': '1TB'}\n",
      "{'IDno': 15022, 'model_name': 'ROG 15', 'price': 68000, 'ram': '8GB', 'rom': '512GB'}\n"
     ]
    }
   ],
   "source": [
    "lap.delrom()"
   ]
  },
  {
   "cell_type": "code",
   "execution_count": 120,
   "metadata": {},
   "outputs": [
    {
     "name": "stdout",
     "output_type": "stream",
     "text": [
      "{'IDno': 15021, 'model_name': 'ROG 17', 'price': 77000, 'ram': '16GB'}\n",
      "{'IDno': 15022, 'model_name': 'ROG 15', 'price': 68000, 'ram': '8GB'}\n"
     ]
    }
   ],
   "source": [
    "lap.display()"
   ]
  },
  {
   "cell_type": "code",
   "execution_count": 21,
   "metadata": {},
   "outputs": [
    {
     "ename": "AttributeError",
     "evalue": "type object 'student' has no attribute 'Roll_no'",
     "output_type": "error",
     "traceback": [
      "\u001b[1;31m---------------------------------------------------------------------------\u001b[0m",
      "\u001b[1;31mAttributeError\u001b[0m                            Traceback (most recent call last)",
      "Cell \u001b[1;32mIn[21], line 21\u001b[0m\n\u001b[0;32m     19\u001b[0m         \u001b[39mfor\u001b[39;00m i \u001b[39min\u001b[39;00m \u001b[39mcls\u001b[39m\u001b[39m.\u001b[39mdetail:\n\u001b[0;32m     20\u001b[0m             \u001b[39mprint\u001b[39m(i)\n\u001b[1;32m---> 21\u001b[0m stud1\u001b[39m=\u001b[39mstudent(\u001b[39m15021\u001b[39;49m,\u001b[39m'\u001b[39;49m\u001b[39mchandu\u001b[39;49m\u001b[39m'\u001b[39;49m,\u001b[39m10\u001b[39;49m,\u001b[39m20\u001b[39;49m,\u001b[39m30\u001b[39;49m,\u001b[39m50\u001b[39;49m)\n",
      "Cell \u001b[1;32mIn[21], line 12\u001b[0m, in \u001b[0;36mstudent.__init__\u001b[1;34m(self, Roll_no, name, mark1, mark2, mark3, total_marks)\u001b[0m\n\u001b[0;32m     10\u001b[0m \u001b[39mself\u001b[39m\u001b[39m.\u001b[39mmark2\u001b[39m=\u001b[39mmark2\n\u001b[0;32m     11\u001b[0m \u001b[39mself\u001b[39m\u001b[39m.\u001b[39mmark3\u001b[39m=\u001b[39mmark3\n\u001b[1;32m---> 12\u001b[0m \u001b[39mself\u001b[39;49m\u001b[39m.\u001b[39;49madd_details(\u001b[39mself\u001b[39;49m\u001b[39m.\u001b[39;49mRoll_no,\u001b[39mself\u001b[39;49m)\n\u001b[0;32m     13\u001b[0m \u001b[39mself\u001b[39m\u001b[39m.\u001b[39mtotal_marks\u001b[39m=\u001b[39mtotal_marks\n",
      "Cell \u001b[1;32mIn[21], line 16\u001b[0m, in \u001b[0;36mstudent.add_details\u001b[1;34m(cls, Roll_no, marks)\u001b[0m\n\u001b[0;32m     14\u001b[0m \u001b[39m@classmethod\u001b[39m\n\u001b[0;32m     15\u001b[0m \u001b[39mdef\u001b[39;00m \u001b[39madd_details\u001b[39m(\u001b[39mcls\u001b[39m,Roll_no,marks):\n\u001b[1;32m---> 16\u001b[0m     \u001b[39mcls\u001b[39m\u001b[39m.\u001b[39mdetail\u001b[39m|\u001b[39m\u001b[39m=\u001b[39m{\u001b[39mcls\u001b[39;49m\u001b[39m.\u001b[39;49mRoll_no}\n",
      "\u001b[1;31mAttributeError\u001b[0m: type object 'student' has no attribute 'Roll_no'"
     ]
    }
   ],
   "source": [
    "class student:\n",
    "    college_name:'amrita'\n",
    "    code='AMT001'\n",
    "    loaction='HYD'\n",
    "    detail={}\n",
    "    def __init__(self,Roll_no,name,mark1,mark2,mark3,total_marks):\n",
    "        self.Roll_no=Roll_no\n",
    "        self.name=name\n",
    "        self.mark1=mark1\n",
    "        self.mark2=mark2\n",
    "        self.mark3=mark3\n",
    "        self.add_details(self.Roll_no,self)\n",
    "        self.total_marks=total_marks\n",
    "    @classmethod\n",
    "    def add_details(cls,Roll_no,marks):\n",
    "        cls.detail|={cls.Roll_no}\n",
    "    @classmethod\n",
    "    def display(cls):\n",
    "        for i in cls.detail:\n",
    "            print(i)\n",
    "stud1=student(15021,'chandu',10,20,30,50)"
   ]
  },
  {
   "cell_type": "code",
   "execution_count": 10,
   "metadata": {},
   "outputs": [],
   "source": [
    "student.display()"
   ]
  },
  {
   "cell_type": "code",
   "execution_count": 7,
   "metadata": {},
   "outputs": [
    {
     "name": "stdout",
     "output_type": "stream",
     "text": [
      "SrEdIpS\n"
     ]
    }
   ],
   "source": [
    "a='JSPIDERS'\n",
    "s=0\n",
    "e=len(a)-1\n",
    "r=''\n",
    "while e>s:\n",
    "    if e%2==0:\n",
    "        r+=chr(ord(a[e])+32)\n",
    "    else:\n",
    "        r+=a[e]\n",
    "    e-=1\n",
    "print(r)"
   ]
  },
  {
   "cell_type": "code",
   "execution_count": 2,
   "metadata": {},
   "outputs": [
    {
     "name": "stdout",
     "output_type": "stream",
     "text": [
      "not a prime\n"
     ]
    }
   ],
   "source": [
    "a=12\n",
    "f=[]\n",
    "s=1\n",
    "while s<=a:\n",
    "    if a%s==0:\n",
    "        f+=[s]\n",
    "    s+=1\n",
    "if len(f)==2:\n",
    "    print('prime')\n",
    "else:\n",
    "    print('not a prime')"
   ]
  },
  {
   "cell_type": "code",
   "execution_count": 9,
   "metadata": {},
   "outputs": [
    {
     "name": "stdout",
     "output_type": "stream",
     "text": [
      "c 0\n",
      "h 0\n",
      "a 0\n",
      "n 0\n",
      "d 0\n",
      "r 0\n",
      "a 0\n",
      "s 0\n",
      "e 0\n",
      "k 0\n",
      "h 0\n",
      "a 0\n"
     ]
    },
    {
     "ename": "IndexError",
     "evalue": "string index out of range",
     "output_type": "error",
     "traceback": [
      "\u001b[1;31m---------------------------------------------------------------------------\u001b[0m",
      "\u001b[1;31mIndexError\u001b[0m                                Traceback (most recent call last)",
      "Cell \u001b[1;32mIn[9], line 7\u001b[0m\n\u001b[0;32m      5\u001b[0m r\u001b[39m=\u001b[39m\u001b[39m0\u001b[39m\n\u001b[0;32m      6\u001b[0m \u001b[39mwhile\u001b[39;00m s\u001b[39m<\u001b[39me:\n\u001b[1;32m----> 7\u001b[0m     \u001b[39mif\u001b[39;00m a[s]\u001b[39m==\u001b[39ma[s\u001b[39m+\u001b[39;49m\u001b[39m1\u001b[39;49m]:\n\u001b[0;32m      8\u001b[0m         c\u001b[39m+\u001b[39m\u001b[39m=\u001b[39m\u001b[39m1\u001b[39m\n\u001b[0;32m      9\u001b[0m     \u001b[39mif\u001b[39;00m c\u001b[39m>\u001b[39mr:\n",
      "\u001b[1;31mIndexError\u001b[0m: string index out of range"
     ]
    }
   ],
   "source": [
    "a='chandrasekhar'\n",
    "s=0\n",
    "e=len(a)\n",
    "c=0\n",
    "r=0\n",
    "while s<e:\n",
    "    if a[s]==a[s+1]:\n",
    "        c+=1\n",
    "    if c>r:\n",
    "        r=c\n",
    "    else:\n",
    "        print(a[s],c)\n",
    "    s+=1"
   ]
  },
  {
   "cell_type": "code",
   "execution_count": 30,
   "metadata": {},
   "outputs": [
    {
     "name": "stdout",
     "output_type": "stream",
     "text": [
      "chandrsek ahar\n"
     ]
    }
   ],
   "source": [
    "a='chandrasekhar'\n",
    "s=0\n",
    "e=len(a)\n",
    "r=''\n",
    "d=''\n",
    "while s<e:\n",
    "    if a[s] not in r:\n",
    "        r+=a[s]\n",
    "    else:\n",
    "        d+=a[s]\n",
    "    s+=1\n",
    "print(r,d,end='\\n')"
   ]
  },
  {
   "cell_type": "code",
   "execution_count": null,
   "metadata": {},
   "outputs": [],
   "source": []
  },
  {
   "cell_type": "code",
   "execution_count": 3,
   "metadata": {},
   "outputs": [
    {
     "name": "stdout",
     "output_type": "stream",
     "text": [
      "hannah\n",
      "palindrome\n",
      "\n"
     ]
    }
   ],
   "source": [
    "a='hannah'\n",
    "s=0\n",
    "e=len(a)\n",
    "f=len(a)-1\n",
    "r=''\n",
    "o=''\n",
    "if e%2==0:\n",
    "    while f>=s:\n",
    "        r+=a[f]\n",
    "        f-=1\n",
    "    print(r)\n",
    "    if a==r:\n",
    "        print('palindrome')\n",
    "    else:\n",
    "        print('not a pallindrome')\n",
    "else:\n",
    "    while s<e:\n",
    "        if s%2==0:\n",
    "            o+=a[s]\n",
    "        s+=1\n",
    "print(o)"
   ]
  },
  {
   "cell_type": "code",
   "execution_count": 22,
   "metadata": {},
   "outputs": [
    {
     "name": "stdout",
     "output_type": "stream",
     "text": [
      "28\n",
      "10"
     ]
    }
   ],
   "source": [
    "a=9865\n",
    "b=a\n",
    "fs=0\n",
    "ss=0\n",
    "while a:\n",
    "    res=a%10\n",
    "    fs+=res\n",
    "    a=a//10\n",
    "print(fs)\n",
    "while fs:\n",
    "    res1=fs%10\n",
    "    ss+=res1\n",
    "    fs=fs//10\n",
    "print(ss,end='')\n"
   ]
  },
  {
   "cell_type": "code",
   "execution_count": 34,
   "metadata": {},
   "outputs": [
    {
     "name": "stdout",
     "output_type": "stream",
     "text": [
      "name\n",
      "cha\n",
      "age\n",
      "12\n"
     ]
    },
    {
     "data": {
      "text/plain": [
       "'12'"
      ]
     },
     "execution_count": 34,
     "metadata": {},
     "output_type": "execute_result"
    }
   ],
   "source": [
    "l=[]\n",
    "k=[]\n",
    "def var(**kwargs):\n",
    "    return kwargs\n",
    "l+=[var(name='cha',age=16)]\n",
    "# l+=[var(name='nmw',age=18)]\n",
    "for i in l:\n",
    "    for j in i:\n",
    "        print(j)\n",
    "        j=input('mnink')\n",
    "        print(j)"
   ]
  },
  {
   "cell_type": "code",
   "execution_count": 45,
   "metadata": {},
   "outputs": [
    {
     "name": "stdout",
     "output_type": "stream",
     "text": [
      "number has to be added\n"
     ]
    }
   ],
   "source": [
    "def pas(coll):\n",
    "    if len(coll)>=8 and 'A'<=coll[0]<='Z':\n",
    "        uc,lc,sp,num=0,0,0,0,\n",
    "        for i in coll:\n",
    "            if 'A'<=i<='Z':\n",
    "                uc+=1\n",
    "            elif 'a'<=i<='z':\n",
    "                lc+=1\n",
    "            elif '0'<=i<='9':\n",
    "                num+=1\n",
    "            else:\n",
    "                sp+=1\n",
    "        if uc<2:\n",
    "            print('upper case letter has to be added')\n",
    "        elif lc<2:\n",
    "            print('lower case letter has to be added')\n",
    "        elif num<2:\n",
    "            print('number has to be added')\n",
    "        elif sp<1:\n",
    "            print('special character has to be added')\n",
    "    else:\n",
    "        print('password should be more than 8')\n",
    "\n",
    "pas('ChsadksadsajdCV')        \n",
    "\n"
   ]
  },
  {
   "cell_type": "code",
   "execution_count": 64,
   "metadata": {},
   "outputs": [
    {
     "name": "stdout",
     "output_type": "stream",
     "text": [
      "for\n",
      "best\n",
      "results\n",
      "refill\n",
      "\n",
      "\n",
      "\n",
      "with\n",
      "doms\n",
      "white\n",
      "board\n",
      "maker\n",
      "ink\n"
     ]
    }
   ],
   "source": [
    "st='for best results refill    with doms white board maker ink'\n",
    "def split(coll):\n",
    "    res=''\n",
    "    for i in coll:\n",
    "        if i!=' ':\n",
    "            res+=i\n",
    "        else:\n",
    "            print(res)\n",
    "            res=''\n",
    "    print(res)\n",
    "split(st)    \n"
   ]
  },
  {
   "cell_type": "code",
   "execution_count": 74,
   "metadata": {},
   "outputs": [
    {
     "name": "stdout",
     "output_type": "stream",
     "text": [
      "['for', 'best', 'results', 'refill', '', '', '', 'with', 'doms', 'white', 'board', 'maker', 'ink']\n",
      "['for', 'best', 'results', 'refill', 'with', 'doms', 'white', 'board', 'maker', 'ink']\n"
     ]
    }
   ],
   "source": [
    "st='for best results refill    with doms white board maker ink'\n",
    "def split(coll):\n",
    "    res=['']\n",
    "    for i in coll:\n",
    "        if i!=' ':\n",
    "            res[-1]+=i\n",
    "        else:\n",
    "            # print(res)\n",
    "            res+=['']\n",
    "\n",
    "    print(res)\n",
    "    r=[]\n",
    "    for j in res:\n",
    "        if j !='':\n",
    "            r+=[j]\n",
    "    print(r)\n",
    "split(st)"
   ]
  },
  {
   "cell_type": "code",
   "execution_count": 20,
   "metadata": {},
   "outputs": [
    {
     "name": "stdout",
     "output_type": "stream",
     "text": [
      "1\n",
      "2\n",
      "3\n",
      "4\n",
      "5\n",
      "<class 'int'>\n"
     ]
    }
   ],
   "source": [
    "n=input('enter the number')\n",
    "f=1\n",
    "for i in n:\n",
    "    s=i\n",
    "for j in range(1,int(s)+1):\n",
    "    print(j)\n",
    "print(type(j))"
   ]
  }
 ],
 "metadata": {
  "kernelspec": {
   "display_name": "Python 3",
   "language": "python",
   "name": "python3"
  },
  "language_info": {
   "codemirror_mode": {
    "name": "ipython",
    "version": 3
   },
   "file_extension": ".py",
   "mimetype": "text/x-python",
   "name": "python",
   "nbconvert_exporter": "python",
   "pygments_lexer": "ipython3",
   "version": "3.11.1"
  },
  "orig_nbformat": 4
 },
 "nbformat": 4,
 "nbformat_minor": 2
}
