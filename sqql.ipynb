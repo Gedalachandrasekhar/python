{
 "cells": [
  {
   "cell_type": "code",
   "execution_count": 1,
   "metadata": {},
   "outputs": [
    {
     "ename": "NameError",
     "evalue": "name 'chandu' is not defined",
     "output_type": "error",
     "traceback": [
      "\u001b[1;31m---------------------------------------------------------------------------\u001b[0m",
      "\u001b[1;31mNameError\u001b[0m                                 Traceback (most recent call last)",
      "Cell \u001b[1;32mIn[1], line 2\u001b[0m\n\u001b[0;32m      1\u001b[0m \u001b[39mimport\u001b[39;00m \u001b[39mpymysql\u001b[39;00m\n\u001b[1;32m----> 2\u001b[0m conect\u001b[39m=\u001b[39mpymysql\u001b[39m.\u001b[39mconnect(db\u001b[39m=\u001b[39mchandu)\n\u001b[0;32m      3\u001b[0m cus\u001b[39m=\u001b[39mconect\u001b[39m.\u001b[39mcursor\n\u001b[0;32m      4\u001b[0m \u001b[39mdef\u001b[39;00m \u001b[39mcreate\u001b[39m(conect,cus):\n",
      "\u001b[1;31mNameError\u001b[0m: name 'chandu' is not defined"
     ]
    }
   ],
   "source": [
    "import pymysql\n",
    "conect=pymysql.connect(db=chandu)\n",
    "cus=conect.cursor\n",
    "def create(conect,cus):\n",
    "    cus.execute(\"create table emp(id int,name varchar(50),age int,email varchar(50),phone int,gender varchar(50))\")\n",
    "    print(\"query ok %s rows affected,%(cus.rowcount)\" )\n",
    "    conect.commit()\n",
    "create(conect,cus)"
   ]
  }
 ],
 "metadata": {
  "kernelspec": {
   "display_name": "Python 3",
   "language": "python",
   "name": "python3"
  },
  "language_info": {
   "codemirror_mode": {
    "name": "ipython",
    "version": 3
   },
   "file_extension": ".py",
   "mimetype": "text/x-python",
   "name": "python",
   "nbconvert_exporter": "python",
   "pygments_lexer": "ipython3",
   "version": "3.11.1"
  },
  "orig_nbformat": 4
 },
 "nbformat": 4,
 "nbformat_minor": 2
}
