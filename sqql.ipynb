{
 "cells": [
  {
   "cell_type": "code",
   "execution_count": null,
   "metadata": {},
   "outputs": [],
   "source": [
    "import sqlite3\n",
    "conect=sqlite3.connect('chandu.db')\n",
    "cus=conect.cursor()\n",
    "def create(conect,cus):\n",
    "    cus.execute(\"create table emp(id int,name varchar(50),age int,email varchar(50),phone int,gender varchar(50))\")\n",
    "    print(\"query ok %s rows affected,%(cus.rowcount)\" )\n",
    "    conect.commit()\n",
    "create(conect,cus)\n"
   ]
  },
  {
   "cell_type": "code",
   "execution_count": null,
   "metadata": {},
   "outputs": [],
   "source": [
    "import sqlite3\n",
    "conect=sqlite3.connect('chandu.db')\n",
    "cus=conect.cursor()\n",
    "def insert(conect,cus):\n",
    "    cus.execute(\"insert into emp(id ,name ,age ,email ,phone ,gender) values (?,?,?,?,?,?)\",(1,'cherry',25,'cherry@gmail.com',91866562566,'male'))\n",
    "    print(f\"query ok  rows affected\",(cus.rowcount) )\n",
    "    conect.commit()\n",
    "# insert(conect,cus)\n",
    "def delete(conect,cus):\n",
    "    cus.execute('delete from emp where id=1')\n",
    "    print(f\"query ok  rows affected\",(cus.rowcount) )\n",
    "    conect.commit()\n",
    "delete(conect,cus)"
   ]
  },
  {
   "cell_type": "code",
   "execution_count": null,
   "metadata": {},
   "outputs": [],
   "source": [
    "def dbconnection(func):\n",
    "    def inner(*args,**kwargs):\n",
    "        import sqlite3\n",
    "        dbconn=sqlite3.connect('student.db')\n",
    "        cus=dbconn.cursor()\n",
    "        res=func(dbconn,cus,*args,**kwargs)\n",
    "        dbconn.commit()\n",
    "        dbconn.close()\n",
    "        return res\n",
    "    return inner\n",
    "@dbconnection\n",
    "def creat(dbconn,cus):\n",
    "    cus.execute(\"create table student(id int,name varchar(20),age int,email varchar(50),phone int)\")\n",
    "@dbconnection\n",
    "def inser(dbconn,cus):\n",
    "    cus.execute(\"insert into student(id ,name ,age ,email ,phone) values (?,?,?,?,?)\",(1,'cherry',25,'cherry@gmail.com',91866562566))\n",
    "@dbconnection\n",
    "def updare(dbconn,cus):\n",
    "    cus.execute('update table student where id=2 (name) values(?)',('cherry'))\n",
    "@dbconnection\n",
    "def select(dbconn,cus):\n",
    "    cus.execute('select * from student')\n",
    "    res=cus.fetchall()\n",
    "    for i in res:\n",
    "        print(i)\n",
    "@dbconnection\n",
    "def delete(dbconn,cus):\n",
    "    cus.execute('delete table student where id=2')\n"
   ]
  },
  {
   "cell_type": "code",
   "execution_count": 2,
   "metadata": {},
   "outputs": [],
   "source": []
  },
  {
   "cell_type": "code",
   "execution_count": 5,
   "metadata": {},
   "outputs": [
    {
     "name": "stdout",
     "output_type": "stream",
     "text": [
      "(13130012633, 'cherry', 'cherry@gmail.com', 'cherryC@2021', 9133711133, 'icic001122', 2400)\n",
      "2400\n",
      "(1231456214821, 'sekhar', 'sekhar@gmail.com', 'sekhar@2021', 96657741462, 'icic001122', 1500)\n"
     ]
    }
   ],
   "source": [
    "withdrawl()"
   ]
  }
 ],
 "metadata": {
  "kernelspec": {
   "display_name": "Python 3",
   "language": "python",
   "name": "python3"
  },
  "language_info": {
   "codemirror_mode": {
    "name": "ipython",
    "version": 3
   },
   "file_extension": ".py",
   "mimetype": "text/x-python",
   "name": "python",
   "nbconvert_exporter": "python",
   "pygments_lexer": "ipython3",
   "version": "3.11.1"
  },
  "orig_nbformat": 4
 },
 "nbformat": 4,
 "nbformat_minor": 2
}
