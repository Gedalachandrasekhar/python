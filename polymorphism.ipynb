{
 "cells": [
  {
   "cell_type": "code",
   "execution_count": 4,
   "metadata": {},
   "outputs": [
    {
     "name": "stdout",
     "output_type": "stream",
     "text": [
      "[8, -5, 15, 10, 3]\n"
     ]
    }
   ],
   "source": [
    "l=[10,20,30,40,5]\n",
    "m=[2,25,15,30,2]\n",
    "n=[]\n",
    "for i in range(0,len(l)):\n",
    "    n+=[l[i]-m[i]]\n",
    "print(n)"
   ]
  },
  {
   "cell_type": "code",
   "execution_count": 38,
   "metadata": {},
   "outputs": [],
   "source": [
    "class gcs:\n",
    "    def __init__(self,m):\n",
    "        self.m=m\n",
    "    def __add__(self,other):\n",
    "        return self.m+other.m\n",
    "    def __sub__(self,other):\n",
    "        x=list(self.m)\n",
    "        y=list(other.m)\n",
    "        res=[]\n",
    "        if len(x)!=len(y):\n",
    "            if len(x)<len(y):\n",
    "                r=len(y)-len(x)\n",
    "                x+=[0]*r\n",
    "            else:\n",
    "                r=len(x)-len(y)\n",
    "                y+=[0]*r\n",
    "            for i in range(0,len(x)):\n",
    "                res+=[x[i]-y[i]]\n",
    "            return res\n",
    "    def __mul__(self,other):\n",
    "        x=list(self.m)\n",
    "        y=list(other.m)\n",
    "        res=[]\n",
    "        for i,j in zip(x,y):\n",
    "            res+=[i*j]\n",
    "        return res\n",
    "        \n",
    "\n",
    "    \n",
    "\n",
    "\n",
    "a=gcs([10,20,23,35,1,4,58,62])\n",
    "b=gcs((20,10,50,84,23,54))        "
   ]
  },
  {
   "cell_type": "code",
   "execution_count": 39,
   "metadata": {},
   "outputs": [
    {
     "data": {
      "text/plain": [
       "[200, 200, 1150, 2940, 23, 216]"
      ]
     },
     "execution_count": 39,
     "metadata": {},
     "output_type": "execute_result"
    }
   ],
   "source": [
    "a*b"
   ]
  }
 ],
 "metadata": {
  "kernelspec": {
   "display_name": "Python 3",
   "language": "python",
   "name": "python3"
  },
  "language_info": {
   "codemirror_mode": {
    "name": "ipython",
    "version": 3
   },
   "file_extension": ".py",
   "mimetype": "text/x-python",
   "name": "python",
   "nbconvert_exporter": "python",
   "pygments_lexer": "ipython3",
   "version": "3.11.1"
  },
  "orig_nbformat": 4
 },
 "nbformat": 4,
 "nbformat_minor": 2
}
