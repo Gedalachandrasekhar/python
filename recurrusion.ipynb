{
 "cells": [
  {
   "cell_type": "code",
   "execution_count": 3,
   "metadata": {},
   "outputs": [
    {
     "name": "stdout",
     "output_type": "stream",
     "text": [
      "helloworld\n",
      "helloworld\n",
      "helloworld\n",
      "helloworld\n",
      "helloworld\n"
     ]
    }
   ],
   "source": [
    "# WAP to print the “hello world” for 5 times by using a while loop.\n",
    "def print1(coll,i=0):\n",
    "    if i==5:\n",
    "        return \n",
    "    print1(coll,i+1)\n",
    "    print(coll)\n",
    "print1('helloworld')"
   ]
  },
  {
   "cell_type": "code",
   "execution_count": 7,
   "metadata": {},
   "outputs": [
    {
     "name": "stdout",
     "output_type": "stream",
     "text": [
      "1\n",
      "2\n",
      "3\n",
      "4\n",
      "5\n",
      "6\n",
      "7\n",
      "8\n",
      "9\n",
      "10\n"
     ]
    }
   ],
   "source": [
    "# WAP to print the number from 1 to 10 by using a while loop.\n",
    "def print1(i=1):\n",
    "    if i==11:\n",
    "        return \n",
    "    print(i)\n",
    "    print1(i+1)\n",
    "print1()"
   ]
  },
  {
   "cell_type": "code",
   "execution_count": 9,
   "metadata": {},
   "outputs": [
    {
     "name": "stdout",
     "output_type": "stream",
     "text": [
      "1\n",
      "2\n",
      "3\n",
      "4\n",
      "5\n",
      "6\n",
      "7\n",
      "8\n",
      "9\n",
      "10\n",
      "11\n"
     ]
    }
   ],
   "source": [
    "# WAP to print the natural number until 1 to nth times by using a while loop.\n",
    "def print1(i=1,n=int(input('enter the number'))):\n",
    "    if i==n+1:\n",
    "        return \n",
    "    print(i)\n",
    "    print1(i+1)\n",
    "print1()"
   ]
  },
  {
   "cell_type": "code",
   "execution_count": 10,
   "metadata": {},
   "outputs": [
    {
     "name": "stdout",
     "output_type": "stream",
     "text": [
      "11\n",
      "10\n",
      "9\n",
      "8\n",
      "7\n",
      "6\n",
      "5\n",
      "4\n",
      "3\n",
      "2\n",
      "1\n"
     ]
    }
   ],
   "source": [
    "# WAP to print the reverse of the natural number nth to 0 times by using a while loop.\n",
    "def print1(i=1,n=int(input('enter the number'))):\n",
    "    if i==n+1:\n",
    "        return \n",
    "    print1(i+1)\n",
    "    print(i)\n",
    "print1()"
   ]
  },
  {
   "cell_type": "code",
   "execution_count": 12,
   "metadata": {},
   "outputs": [
    {
     "name": "stdout",
     "output_type": "stream",
     "text": [
      "0\n",
      "1\n",
      "2\n",
      "3\n",
      "4\n",
      "5\n",
      "6\n",
      "7\n",
      "8\n",
      "9\n",
      "10\n",
      "11\n",
      "12\n"
     ]
    }
   ],
   "source": [
    "# WAP to print the whole number until nth times by using a while loop.\n",
    "def print1(i=0,n=int(input('enter the number'))):\n",
    "    if i==n+1:\n",
    "        return \n",
    "    print(i)\n",
    "    print1(i+1)\n",
    "print1()"
   ]
  },
  {
   "cell_type": "code",
   "execution_count": 13,
   "metadata": {},
   "outputs": [
    {
     "name": "stdout",
     "output_type": "stream",
     "text": [
      "12\n",
      "11\n",
      "10\n",
      "9\n",
      "8\n",
      "7\n",
      "6\n",
      "5\n",
      "4\n",
      "3\n",
      "2\n",
      "1\n",
      "0\n"
     ]
    }
   ],
   "source": [
    "# WAP to print the reverse of the whole number until nth times by using a while loop.\n",
    "def print1(i=0,n=int(input('enter the number'))):\n",
    "    if i==n+1:\n",
    "        return \n",
    "    print1(i+1)\n",
    "    print(i)\n",
    "print1()"
   ]
  },
  {
   "cell_type": "code",
   "execution_count": 23,
   "metadata": {},
   "outputs": [
    {
     "name": "stdout",
     "output_type": "stream",
     "text": [
      "8\n",
      "6\n",
      "4\n",
      "2\n",
      "0\n"
     ]
    }
   ],
   "source": [
    "# WAP to print the even number until nth times by using a while loop.\n",
    "def sum(i=0,n=int(input('enter the number'))):\n",
    "    if i==n+1:\n",
    "        return \n",
    "    if i%2==0:\n",
    "        print(i)\n",
    "    return sum(i+1,n)\n",
    "sum()"
   ]
  },
  {
   "cell_type": "code",
   "execution_count": 24,
   "metadata": {},
   "outputs": [
    {
     "name": "stdout",
     "output_type": "stream",
     "text": [
      "8\n",
      "6\n",
      "4\n",
      "2\n",
      "0\n"
     ]
    }
   ],
   "source": [
    "# WAP to print reserve the even number until nth times by using a while loop.\n",
    "def sum(i=0,n=int(input('enter the number'))):\n",
    "    if i==n+1:\n",
    "        return \n",
    "    sum(i+1,n)\n",
    "    if i%2==0:\n",
    "            print(i)\n",
    "sum()"
   ]
  },
  {
   "cell_type": "code",
   "execution_count": 26,
   "metadata": {},
   "outputs": [
    {
     "name": "stdout",
     "output_type": "stream",
     "text": [
      "1\n",
      "3\n",
      "5\n",
      "7\n",
      "9\n"
     ]
    }
   ],
   "source": [
    "# WAP to print the odd number until nth times by using a while loop.\n",
    "def odd(i=0,n=int(input('enter the number'))):\n",
    "    if i==n+1:\n",
    "        return \n",
    "    if i%2!=0:\n",
    "        print(i)\n",
    "    return odd(i+1,n)\n",
    "odd()"
   ]
  },
  {
   "cell_type": "code",
   "execution_count": 30,
   "metadata": {},
   "outputs": [
    {
     "name": "stdout",
     "output_type": "stream",
     "text": [
      "9\n",
      "7\n",
      "5\n",
      "3\n",
      "1\n"
     ]
    }
   ],
   "source": [
    "# WAP to print reserve the odd number until nth times by using a while loop.\n",
    "def oddr(i=0,n=int(input('enter the number'))):\n",
    "    if i==n+1:\n",
    "        return \n",
    "    oddr(i+1,n)\n",
    "    if i%2!=0:\n",
    "            print(i)\n",
    "oddr()"
   ]
  },
  {
   "cell_type": "code",
   "execution_count": 34,
   "metadata": {},
   "outputs": [
    {
     "name": "stdout",
     "output_type": "stream",
     "text": [
      "5 * 1 = 5\n",
      "5 * 2 = 10\n",
      "5 * 3 = 15\n",
      "5 * 4 = 20\n",
      "5 * 5 = 25\n",
      "5 * 6 = 30\n",
      "5 * 7 = 35\n",
      "5 * 8 = 40\n",
      "5 * 9 = 45\n",
      "5 * 10 = 50\n",
      "5 * 11 = 55\n",
      "5 * 12 = 60\n",
      "5 * 13 = 65\n",
      "5 * 14 = 70\n",
      "5 * 15 = 75\n",
      "5 * 16 = 80\n",
      "5 * 17 = 85\n",
      "5 * 18 = 90\n",
      "5 * 19 = 95\n",
      "5 * 20 = 100\n"
     ]
    }
   ],
   "source": [
    "# WAP to print the nth table 1 to 20, format ==> 5 * 1 = 5 to 5 * 20 = 100\n",
    "def table(i,n=1,prod=1):\n",
    "    if n==21:\n",
    "        return\n",
    "    prod=i*n\n",
    "    print(i,'*',n,'=',prod)\n",
    "    table(i,n+1,prod)\n",
    "table(5)"
   ]
  },
  {
   "cell_type": "code",
   "execution_count": 35,
   "metadata": {},
   "outputs": [
    {
     "name": "stdout",
     "output_type": "stream",
     "text": [
      "5 * 20 = 100\n",
      "5 * 19 = 95\n",
      "5 * 18 = 90\n",
      "5 * 17 = 85\n",
      "5 * 16 = 80\n",
      "5 * 15 = 75\n",
      "5 * 14 = 70\n",
      "5 * 13 = 65\n",
      "5 * 12 = 60\n",
      "5 * 11 = 55\n",
      "5 * 10 = 50\n",
      "5 * 9 = 45\n",
      "5 * 8 = 40\n",
      "5 * 7 = 35\n",
      "5 * 6 = 30\n",
      "5 * 5 = 25\n",
      "5 * 4 = 20\n",
      "5 * 3 = 15\n",
      "5 * 2 = 10\n",
      "5 * 1 = 5\n"
     ]
    }
   ],
   "source": [
    "# WAP to print the nth table 20 to 1, format ==> 5 * 20 = 100 to 5 * 1 = 5\n",
    "def tabler(i,n=1,prod=1):\n",
    "    if n==21:\n",
    "        return\n",
    "    prod=i*n\n",
    "    tabler(i,n+1,prod)\n",
    "    print(i,'*',n,'=',prod)\n",
    "tabler(5)"
   ]
  },
  {
   "cell_type": "code",
   "execution_count": 41,
   "metadata": {},
   "outputs": [
    {
     "name": "stdout",
     "output_type": "stream",
     "text": [
      "27\n",
      "30\n",
      "33\n",
      "36\n",
      "39\n",
      "42\n",
      "45\n",
      "48\n",
      "51\n",
      "54\n",
      "57\n",
      "60\n",
      "63\n",
      "66\n"
     ]
    }
   ],
   "source": [
    "# WAP to print the numbers which are divisible by 3 from 25 to 66.\n",
    "def d3(i=25):\n",
    "    if i==67:\n",
    "        return \n",
    "    if i%3==0:\n",
    "        print(i)\n",
    "    d3(i+1)\n",
    "d3()\n"
   ]
  },
  {
   "cell_type": "code",
   "execution_count": 42,
   "metadata": {},
   "outputs": [
    {
     "name": "stdout",
     "output_type": "stream",
     "text": [
      "15\n",
      "30\n",
      "45\n",
      "60\n",
      "75\n"
     ]
    }
   ],
   "source": [
    "# WAP to print the numbers which are divisible by 3 and 5 from 15 to 76.\n",
    "def d35(i=15):\n",
    "    if i==76:\n",
    "        return \n",
    "    if i%3==0 and i%5==0:\n",
    "        print(i)\n",
    "    d35(i+1)\n",
    "d35()"
   ]
  },
  {
   "cell_type": "code",
   "execution_count": 43,
   "metadata": {},
   "outputs": [
    {
     "name": "stdout",
     "output_type": "stream",
     "text": [
      "70\n",
      "35\n"
     ]
    }
   ],
   "source": [
    "# WAP to print the numbers which are divisible by 5 and 7 from 77 to 22.\n",
    "def d57(i=77):\n",
    "    if i==22:\n",
    "        return \n",
    "    if i%7==0 and i%5==0:\n",
    "        print(i)\n",
    "    d57(i-1)\n",
    "d57()"
   ]
  },
  {
   "cell_type": "code",
   "execution_count": 44,
   "metadata": {},
   "outputs": [
    {
     "name": "stdout",
     "output_type": "stream",
     "text": [
      "love you\n",
      "hate you\n",
      "love you\n",
      "love you\n",
      "hate you\n",
      "love you\n",
      "love you\n",
      "love you\n",
      "hate you\n",
      "love you\n",
      "love you\n",
      "hate you\n",
      "love you\n",
      "love you\n"
     ]
    }
   ],
   "source": [
    "# WAP to print the ”love you” if value is divisible by 3, or print “hate you” value is\n",
    "# divisible by 5, to print “i like you” if divisible by 3 and 5, from 1 to 30.\n",
    "def ly(i=1):\n",
    "    if i==31:\n",
    "        return\n",
    "    if i%3==0:\n",
    "        print('love you')\n",
    "    elif i%5==0:\n",
    "        print('hate you')\n",
    "    elif i%3==0 and i%5==0:\n",
    "        print('i like you')\n",
    "    ly(i+1)\n",
    "ly()"
   ]
  },
  {
   "cell_type": "code",
   "execution_count": 46,
   "metadata": {},
   "outputs": [
    {
     "data": {
      "text/plain": [
       "55"
      ]
     },
     "execution_count": 46,
     "metadata": {},
     "output_type": "execute_result"
    }
   ],
   "source": [
    "# WAP to print sum of the 1 to nth natural numbers.\n",
    "def natural(i=1,n=int(input('enter the number')),sum=0):\n",
    "    if i==n+1:\n",
    "        return sum\n",
    "    sum+=i\n",
    "    return natural(i+1,n,sum)\n",
    "natural()"
   ]
  },
  {
   "cell_type": "code",
   "execution_count": 48,
   "metadata": {},
   "outputs": [
    {
     "data": {
      "text/plain": [
       "110"
      ]
     },
     "execution_count": 48,
     "metadata": {},
     "output_type": "execute_result"
    }
   ],
   "source": [
    "# WAP to print sum of the even numbers 1 to 20 numbers.\n",
    "def evens(i=1,sum=0):\n",
    "    if i==21:\n",
    "        return sum\n",
    "    if i%2==0:\n",
    "        sum+=i\n",
    "    return evens(i+1,sum)\n",
    "evens()"
   ]
  },
  {
   "cell_type": "code",
   "execution_count": 50,
   "metadata": {},
   "outputs": [
    {
     "data": {
      "text/plain": [
       "48"
      ]
     },
     "execution_count": 50,
     "metadata": {},
     "output_type": "execute_result"
    }
   ],
   "source": [
    "# WAP to print products of the 1 to 6 numbers.\n",
    "def prod(i=1,s=1):\n",
    "    if i==7:\n",
    "        return s\n",
    "    if i%2==0:\n",
    "        s*=i\n",
    "    return prod(i+1,s)\n",
    "prod()"
   ]
  },
  {
   "cell_type": "code",
   "execution_count": 55,
   "metadata": {},
   "outputs": [
    {
     "data": {
      "text/plain": [
       "15"
      ]
     },
     "execution_count": 55,
     "metadata": {},
     "output_type": "execute_result"
    }
   ],
   "source": [
    "# WAP to count the no of odd values from 1 to 30 numbers.\n",
    "def count(i=1,c=0,n=31):\n",
    "    if i==n:\n",
    "        return c\n",
    "    if i%2!=0:\n",
    "        c+=1\n",
    "    return count(i+1,c,n)\n",
    "count()"
   ]
  },
  {
   "cell_type": "code",
   "execution_count": 58,
   "metadata": {},
   "outputs": [
    {
     "name": "stdout",
     "output_type": "stream",
     "text": [
      "1\n",
      "2\n",
      "3\n",
      "6\n"
     ]
    }
   ],
   "source": [
    "# WAP to print the factors of the given number.\n",
    "def factor(i,n=1):\n",
    "    if n==i+1:\n",
    "        return \n",
    "    if i%n==0:\n",
    "        print(n)\n",
    "    factor(i,n+1)\n",
    "factor(6)"
   ]
  },
  {
   "cell_type": "code",
   "execution_count": 68,
   "metadata": {},
   "outputs": [
    {
     "data": {
      "text/plain": [
       "12"
      ]
     },
     "execution_count": 68,
     "metadata": {},
     "output_type": "execute_result"
    }
   ],
   "source": [
    "# WAP to sum of the factors of the given number.\n",
    "def factor(i,n=1,s=0):\n",
    "    if n==i+1:\n",
    "        return s\n",
    "    if i%n==0:\n",
    "        s+=n\n",
    "    return factor(i,n+1,s)\n",
    "factor(6)"
   ]
  },
  {
   "cell_type": "code",
   "execution_count": 70,
   "metadata": {},
   "outputs": [
    {
     "data": {
      "text/plain": [
       "36"
      ]
     },
     "execution_count": 70,
     "metadata": {},
     "output_type": "execute_result"
    }
   ],
   "source": [
    "# WAP to prod of the factors of the given number.\n",
    "def factor(i,n=1,s=1):\n",
    "    if n==i+1:\n",
    "        return s\n",
    "    if i%n==0:\n",
    "        s*=n\n",
    "    return factor(i,n+1,s)\n",
    "factor(6)"
   ]
  },
  {
   "cell_type": "code",
   "execution_count": 80,
   "metadata": {},
   "outputs": [],
   "source": [
    "# WAP to print Fibonacci series 0 to nth.\n",
    "def fab(a=0,b=1,i=3,n=int(input('enter the number')),s=0):\n",
    "    if i==n:\n",
    "        return \n",
    "    s=a+b\n",
    "    a=b\n",
    "    b=s\n",
    "    fab(a,b,i+1,n,s)\n",
    "fab()\n",
    "\n"
   ]
  },
  {
   "cell_type": "code",
   "execution_count": 17,
   "metadata": {},
   "outputs": [
    {
     "name": "stdout",
     "output_type": "stream",
     "text": [
      "2\n",
      "it is a prime number\n",
      "2\n",
      "it is a prime number\n",
      "2\n",
      "it is a prime number\n",
      "2\n",
      "it is a prime number\n",
      "2\n",
      "it is a prime number\n"
     ]
    }
   ],
   "source": [
    "# WAP to check whether a given number is a prime number or not.\n",
    "c=0\n",
    "def cprime(i=1,n=eval(input('number'))):\n",
    "    global c\n",
    "    if i==n+1:\n",
    "        return \n",
    "    if n%i==0:\n",
    "        c+=1\n",
    "    cprime(i+1,n)\n",
    "    print(c)\n",
    "    if c==2:\n",
    "        print('it is a prime number')\n",
    "    else:\n",
    "        print('it is not a prime number')\n",
    "cprime()"
   ]
  },
  {
   "cell_type": "code",
   "execution_count": 38,
   "metadata": {},
   "outputs": [
    {
     "name": "stdout",
     "output_type": "stream",
     "text": [
      "3\n",
      "9\n"
     ]
    }
   ],
   "source": [
    "# WAP to print the prime numbers in the given range m to n.\n",
    "def prime(i=eval(input('number 1')),n=eval(input('number2')),s=1):\n",
    "    if i==n+1:\n",
    "        return \n",
    "    if   n%i==0 :\n",
    "        print(i)\n",
    "    prime(i+1,n,s)\n",
    "\n",
    "prime()"
   ]
  },
  {
   "cell_type": "code",
   "execution_count": 69,
   "metadata": {},
   "outputs": [
    {
     "name": "stdout",
     "output_type": "stream",
     "text": [
      "3\n",
      "27\n"
     ]
    }
   ],
   "source": [
    "# WAP to check whether a given number is an armstrong number or not.\n",
    "def amg(i,a,c=0):\n",
    "    a=str(i)\n",
    "    b=len(a)\n",
    "    if a==b:\n",
    "        return\n",
    "    d=i\n",
    "    d=d%10\n",
    "    c+=d**3\n",
    "    d=d//10\n",
    "    print(d)\n",
    "    amg(i,c)\n",
    "    "
   ]
  }
 ],
 "metadata": {
  "kernelspec": {
   "display_name": "Python 3",
   "language": "python",
   "name": "python3"
  },
  "language_info": {
   "codemirror_mode": {
    "name": "ipython",
    "version": 3
   },
   "file_extension": ".py",
   "mimetype": "text/x-python",
   "name": "python",
   "nbconvert_exporter": "python",
   "pygments_lexer": "ipython3",
   "version": "3.11.1"
  },
  "orig_nbformat": 4
 },
 "nbformat": 4,
 "nbformat_minor": 2
}
