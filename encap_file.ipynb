{
 "cells": [
  {
   "cell_type": "code",
   "execution_count": 2,
   "metadata": {},
   "outputs": [],
   "source": [
    "class person:\n",
    "    surname='G'\n",
    "    def __init__(self,name):\n",
    "        self.name=name\n",
    "    @classmethod\n",
    "    def modify_cls(cls,value):\n",
    "        cls.surname=value\n",
    "    def modify_self(self,value):\n",
    "        self.name=value\n",
    "    @staticmethod\n",
    "    def display():\n",
    "        print('welcome')\n",
    "class child(person):\n",
    "    pass\n"
   ]
  },
  {
   "cell_type": "code",
   "execution_count": 8,
   "metadata": {},
   "outputs": [
    {
     "name": "stdout",
     "output_type": "stream",
     "text": [
      "chandu\n",
      "S\n",
      "welcome\n"
     ]
    }
   ],
   "source": [
    "obj=child('chandu')\n",
    "print(obj.name)\n",
    "obj.modify_cls('S')\n",
    "print(obj.surname)\n",
    "obj.display()"
   ]
  },
  {
   "cell_type": "code",
   "execution_count": 11,
   "metadata": {},
   "outputs": [],
   "source": [
    "class person:\n",
    "    _surname='G'\n",
    "    def __init__(self,name):\n",
    "        self._name=name\n",
    "    @classmethod\n",
    "    def _modify_cls(cls,value):\n",
    "        cls._surname=value\n",
    "    def _modify_self(self,value):\n",
    "        self._name=value\n",
    "    @staticmethod\n",
    "    def _display():\n",
    "        print('welcome')\n",
    "class child(person):\n",
    "    pass\n"
   ]
  },
  {
   "cell_type": "code",
   "execution_count": 13,
   "metadata": {},
   "outputs": [
    {
     "name": "stdout",
     "output_type": "stream",
     "text": [
      "chandu\n",
      "S\n",
      "welcome\n"
     ]
    }
   ],
   "source": [
    "obj=child('chandu')\n",
    "print(obj._name)\n",
    "obj._modify_cls('S')\n",
    "print(obj._surname)\n",
    "obj._display()"
   ]
  },
  {
   "cell_type": "code",
   "execution_count": 19,
   "metadata": {},
   "outputs": [
    {
     "name": "stdout",
     "output_type": "stream",
     "text": [
      "G\n"
     ]
    }
   ],
   "source": [
    "class person2:\n",
    "    __surname='G'\n",
    "    def __init__(self,name):\n",
    "        self.__name=name\n",
    "    @classmethod\n",
    "    def __modify_cls(cls,value):\n",
    "        cls.__surname=value\n",
    "    def __modify_self(self,value):\n",
    "        self.__name=value\n",
    "    @staticmethod\n",
    "    def __display():\n",
    "        print('welcome')\n",
    "    print(__surname)\n",
    "class child2(person2):\n",
    "    pass"
   ]
  },
  {
   "cell_type": "code",
   "execution_count": 26,
   "metadata": {},
   "outputs": [
    {
     "data": {
      "text/plain": [
       "{'_name': 'chandu'}"
      ]
     },
     "execution_count": 26,
     "metadata": {},
     "output_type": "execute_result"
    }
   ],
   "source": [
    "obj.__dict__"
   ]
  },
  {
   "cell_type": "code",
   "execution_count": 21,
   "metadata": {},
   "outputs": [
    {
     "name": "stdout",
     "output_type": "stream",
     "text": [
      "4.2.2\n"
     ]
    }
   ],
   "source": [
    "import django\n",
    "print(django.get_version())"
   ]
  },
  {
   "cell_type": "code",
   "execution_count": 28,
   "metadata": {},
   "outputs": [],
   "source": [
    "class person3:\n",
    "    surname='G'\n",
    "    place='ogl'\n",
    "    def __init__(self,name,age,phone,height):\n",
    "        self.name=name\n",
    "        self.__age=age\n",
    "        self.__phone=phone\n",
    "        self.height=height\n",
    "chandu=person3('chandu',23,9133711133,6.0)"
   ]
  },
  {
   "cell_type": "code",
   "execution_count": 29,
   "metadata": {},
   "outputs": [
    {
     "data": {
      "text/plain": [
       "{'name': 'chandu',\n",
       " '_person3__age': 23,\n",
       " '_person3__phone': 9133711133,\n",
       " 'height': 6.0}"
      ]
     },
     "execution_count": 29,
     "metadata": {},
     "output_type": "execute_result"
    }
   ],
   "source": [
    "chandu.__dict__"
   ]
  },
  {
   "cell_type": "code",
   "execution_count": 30,
   "metadata": {},
   "outputs": [
    {
     "data": {
      "text/plain": [
       "9133711133"
      ]
     },
     "execution_count": 30,
     "metadata": {},
     "output_type": "execute_result"
    }
   ],
   "source": [
    "chandu._person3__phone"
   ]
  }
 ],
 "metadata": {
  "kernelspec": {
   "display_name": "Python 3",
   "language": "python",
   "name": "python3"
  },
  "language_info": {
   "codemirror_mode": {
    "name": "ipython",
    "version": 3
   },
   "file_extension": ".py",
   "mimetype": "text/x-python",
   "name": "python",
   "nbconvert_exporter": "python",
   "pygments_lexer": "ipython3",
   "version": "3.11.1"
  },
  "orig_nbformat": 4
 },
 "nbformat": 4,
 "nbformat_minor": 2
}
