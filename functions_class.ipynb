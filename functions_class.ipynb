{
 "cells": [
  {
   "cell_type": "code",
   "execution_count": null,
   "metadata": {},
   "outputs": [],
   "source": []
  },
  {
   "attachments": {},
   "cell_type": "markdown",
   "metadata": {},
   "source": [
    "User defined function:it is named memory block to store the set of instruction when we want to perform the task we just call\n",
    "based on the user requirement or senarioes there have to design own function \n",
    "1)function without arguments and without return\n",
    "2)function with arguments and without return\n",
    "3)function without arguments and with return\n",
    "4x)function with arguments and with return\n",
    "1)def func name()\n",
    "    start\n",
    "    print\n",
    "func name()\n",
    "2)func with arguments with out return\n",
    "syntax \n",
    "def func(arguments):\n",
    "    statements \n",
    "    print()\n",
    "func(arguments...)\n",
    "3)function without arguments and with return\n",
    "def func():\n",
    "    statements \n",
    "    retrun values\n",
    "func()\n",
    "if you want to carry any value to any space (either the main space or the method area) we can use the statement called return\n",
    "return is the predefined keyword it is used to carry the data from one space to another space\n",
    "sometimes we might need the result of the function to be used in further processes \n",
    "hence the function should also return a value when it is finished or it is excuted default function will return None value if want some other than user should use the return keyword\n",
    "a return statements is used to end the excution of the function and return value \n",
    "excetion process:\n",
    "the controller sees the retrun keyword stop the excution of the function. the control gets back to where we call that function and it carries the results sometimes values or none value\n",
    "if any case any other statements are present after the return statement those statements are not excuted\n",
    "advantages of user defined function:\n",
    "user defined enablr you to break down a huge into smaller programs making it easier to comprehend maintain debug\n",
    "if a program code is repeated a function can be used to incorporate those codes and call them when they are needed\n",
    "programmers who are working on a huge project can divide their work by creating distinct function\n",
    "arguments():arguments are nothing but the requirements of the function to perform the task inside the function\n",
    "there are 2 types of arguments \n"
   ]
  },
  {
   "cell_type": "code",
   "execution_count": null,
   "metadata": {},
   "outputs": [],
   "source": [
    "# function without argument and without return\n",
    "def na():\n",
    "    a=10\n",
    "    b=20\n",
    "    c=a+b\n",
    "    print(c)\n",
    "na()\n",
    "# 2)func with arguments with out return\n",
    "def add(a,b):\n",
    "    c=a+b\n",
    "    print(c)\n",
    "add(10,20)\n",
    "# 3)function without arguments and with return\n",
    "def add1():\n",
    "    a=10\n",
    "    b=20\n",
    "    c=a+b\n",
    "    return c\n",
    "print(add1())\n",
    "# 4 )function with arguments and with return\n",
    "def add2(a,b):\n",
    "    c=a+b\n",
    "    return c\n",
    "add2(10,40)\n"
   ]
  },
  {
   "cell_type": "code",
   "execution_count": null,
   "metadata": {},
   "outputs": [],
   "source": [
    "def func(a,b,c):\n",
    "    print(a,b,c)\n",
    "func(10,20,30)\n",
    "func(b=10,c=20,a=30)"
   ]
  },
  {
   "cell_type": "code",
   "execution_count": null,
   "metadata": {},
   "outputs": [],
   "source": [
    "class my:\n",
    "    x=5\n",
    "p1=x"
   ]
  },
  {
   "cell_type": "code",
   "execution_count": null,
   "metadata": {},
   "outputs": [],
   "source": [
    "class sam:\n",
    "    def __init__(self,name,phne):\n",
    "        self.name=name\n",
    "        self.phne=phne\n",
    "p1=sam('chandu',99887766554)\n",
    "print(p1.name)"
   ]
  },
  {
   "cell_type": "code",
   "execution_count": null,
   "metadata": {},
   "outputs": [],
   "source": [
    "class Person:\n",
    "  def __init__(self, name, age):\n",
    "    self.name = name\n",
    "    self.age = age\n",
    "\n",
    "p1 = Person(\"John\", 36)\n",
    "\n",
    "print(p1.name)\n",
    "print(p1.age)"
   ]
  },
  {
   "attachments": {},
   "cell_type": "markdown",
   "metadata": {},
   "source": [
    "default argument:\n",
    "Sometimes we can provide default values for formal positional arguments.\n",
    "  If we are not passing any actual argument, then only it considers the default values.\n",
    "If we are passing any actual argument, then it considers those values.\n",
    "• Here formal arguments are divided into two types:\n",
    "   default arguments\n",
    "   non default argument\n",
    "Default argument another name called optional arguments.\n",
    "default arguments are nothing but argument name with value. here values it will consider as default values. when the user is not assigned the value in the function call then it will consider the default value. if a user is assigned then it will consider the user assigned value.\n",
    "Non Default argument another name called mandatory arguments.\n",
    "Art\n",
    "Non default arguments are nothing but argument names onlv. The aruments kre waiting for \n",
    "default arguments are nothing but argument name with value here value it will consider as default values if a user is assigned then it will consider the user assigned value \n",
    "non default arguments another name called mandatory arguments\n",
    "non default arguments are nothing but arguments names only the arguments are waiting for the value when the user is assigned the value then it will consider that particular value if the user is not assigned then it will raise the exception \n",
    "if in case we are passing default argument"
   ]
  },
  {
   "cell_type": "code",
   "execution_count": null,
   "metadata": {},
   "outputs": [],
   "source": [
    "apple=10\n",
    "print(globals())\n",
    "def sa():\n",
    "    print('local space',locals())\n",
    "    print(apple)\n",
    "    print('local space',locals())\n",
    "sa()\n",
    "print(globals())"
   ]
  },
  {
   "attachments": {},
   "cell_type": "markdown",
   "metadata": {},
   "source": [
    "local variable:\n",
    "--->these are the variable defined or created inside the function area or nested function area known as local variable \n",
    "--->we can access or modify delete create the local variable in that function\n",
    "--->when the controller enter into function area method area then it excutes those statements these variable will be created ance in the function call is done. variable life scope will start thefunction excution and once after the excution is done then the variable scope is dellocated these variable will be deleted once the controller comes out of the function\n",
    "--->we can access local variable inside child function but it is not possible to modify local variable inside the nested function\n",
    "--->To overcome the above problem we make use of keyword 'nonlocal'\n",
    "syntax():\n",
    "def hello():\n",
    "    var1,var2,var3,....varn\n",
    "        #all these variable are called as local variable\n",
    "hello()\n",
    "--->when the control reaches the function area all the statements are excuted one by one if in case any variable are there all things will be created inside the function area memory\n",
    "nonlocal keyword:\n",
    "--->if we want access the local variable of nested function directly we can do so and the nested function is allowed. but if we want to modify then it is not allowed. if ever we still wanted to modify delete the local variable in nested function then we are using a non local keyword \n",
    "--->once we specify the nonlocal keyword we can delete modify the local variable and it will affect in the local function area only."
   ]
  },
  {
   "cell_type": "code",
   "execution_count": null,
   "metadata": {},
   "outputs": [],
   "source": [
    "def outer():\n",
    "    a,b=10,20\n",
    "    def inner():\n",
    "        nonlocal a,b\n",
    "        print(a,b)\n",
    "        a,b=b,a\n",
    "        print(a,b)\n",
    "    print(a,b)\n",
    "    inner()\n",
    "    print(a,b)\n",
    "outer()"
   ]
  },
  {
   "cell_type": "code",
   "execution_count": null,
   "metadata": {},
   "outputs": [],
   "source": [
    "x=10\n",
    "print(globals())\n",
    "def s():\n",
    "    a=10\n",
    "    b=12\n",
    "    print(locals())\n",
    "    print(a,b)\n",
    "    a=100\n",
    "    print(locals())\n",
    "    print(a)\n",
    "    del a\n",
    "    print(locals())\n",
    "s()\n",
    "\n"
   ]
  },
  {
   "cell_type": "code",
   "execution_count": null,
   "metadata": {},
   "outputs": [],
   "source": [
    "def sample():\n",
    "    a=10#local variable\n",
    "    print('local',locals())\n",
    "    def demo():\n",
    "        nonlocal a\n",
    "        print(a)\n",
    "        print('non local',locals())\n",
    "        a=15#non local variable\n",
    "        print(a)\n",
    "        print('non local',locals())\n",
    "    demo()\n",
    "    print('local',locals())\n",
    "sample()"
   ]
  },
  {
   "cell_type": "code",
   "execution_count": 6,
   "metadata": {},
   "outputs": [
    {
     "data": {
      "text/plain": [
       "<function __main__.outer.<locals>.inner(*args, **kwargs)>"
      ]
     },
     "execution_count": 6,
     "metadata": {},
     "output_type": "execute_result"
    }
   ],
   "source": [
    "def outer(func):\n",
    "    def inner(*args,**kwargs):\n",
    "        print('start task')\n",
    "        func(*args,**kwargs)\n",
    "        r=['fail','success'][func(100,200)==300]\n",
    "        print(f'testcase1 {r}')\n",
    "        r=['fail','success'][func(150,200)==350]\n",
    "        print(f'test case2 {r}')\n",
    "        r=['fail','success'][func(-10,-20)==-30]\n",
    "        print(f'test case3 {r}')\n",
    "        print('end task')\n",
    "    return inner\n",
    "\n",
    "outer('a')    \n"
   ]
  },
  {
   "cell_type": "code",
   "execution_count": 9,
   "metadata": {},
   "outputs": [
    {
     "name": "stdout",
     "output_type": "stream",
     "text": [
      "start task\n",
      "testcase1 success\n",
      "test case2 success\n",
      "test case3 success\n",
      "end task\n"
     ]
    }
   ],
   "source": [
    "@outer\n",
    "def add(a,b):\n",
    "    return a+b\n",
    "add(10,20)"
   ]
  },
  {
   "cell_type": "code",
   "execution_count": 17,
   "metadata": {},
   "outputs": [],
   "source": [
    "def outer(func):\n",
    "    def inner(*args,**kwargs):\n",
    "        print('-'*30)\n",
    "        res=func(*args,**kwargs)\n",
    "        print(f'hai {res}'.title())\n",
    "        print('-'*30)\n",
    "    return inner"
   ]
  },
  {
   "cell_type": "code",
   "execution_count": 18,
   "metadata": {},
   "outputs": [
    {
     "name": "stdout",
     "output_type": "stream",
     "text": [
      "------------------------------\n",
      "Hai Chandu\n",
      "------------------------------\n"
     ]
    }
   ],
   "source": [
    "@outer\n",
    "def sample(name):\n",
    "    return name\n",
    "sample('chandu')"
   ]
  },
  {
   "cell_type": "code",
   "execution_count": 53,
   "metadata": {},
   "outputs": [],
   "source": [
    "import time\n",
    "def out_time(func):\n",
    "    def in_time(*args,**kwargs):\n",
    "        start=time.time()\n",
    "        res=func(*args,**kwargs)\n",
    "        end=time.time()\n",
    "        print(end-start)\n",
    "        return res\n",
    "    return in_time\n",
    "\n",
    "        "
   ]
  },
  {
   "cell_type": "code",
   "execution_count": 54,
   "metadata": {},
   "outputs": [
    {
     "name": "stdout",
     "output_type": "stream",
     "text": [
      "0.0\n",
      "{1: 1, 2: 2, 3: 6, 4: 24, 5: 120, 6: 720}\n"
     ]
    }
   ],
   "source": [
    "@out_time\n",
    "def fact(sta,en):\n",
    "    d={}\n",
    "    for i in range(sta,en+1):\n",
    "        f=1\n",
    "        for j in range(1,i+1):\n",
    "            f*=j\n",
    "        d[i]=f\n",
    "    return d\n",
    "print(fact(1,6))"
   ]
  },
  {
   "cell_type": "code",
   "execution_count": 57,
   "metadata": {},
   "outputs": [
    {
     "name": "stdout",
     "output_type": "stream",
     "text": [
      "0.0\n",
      "0.001987934112548828\n",
      "0.001987934112548828\n",
      "0.001987934112548828\n",
      "0.001987934112548828\n",
      "0.001987934112548828\n",
      "0.001987934112548828\n",
      "0.001987934112548828\n",
      "0.001987934112548828\n",
      "0.001987934112548828\n",
      "0.001987934112548828\n",
      "{1: 1, 2: 2, 3: 6, 4: 24, 5: 120, 6: 720, 7: 5040, 8: 40320, 9: 362880, 10: 3628800}\n"
     ]
    }
   ],
   "source": [
    "@out_time\n",
    "def ser(m,n,d={}):\n",
    "    if m==n+1:\n",
    "        return d\n",
    "    def fact(n,f=1,i=1):\n",
    "        if i==n+1:\n",
    "            return f\n",
    "        f*=i\n",
    "        return fact(n,f,i+1)\n",
    "    d[m]=fact(m)\n",
    "    return ser(m+1,n,d)\n",
    "print(ser(1,10))"
   ]
  },
  {
   "cell_type": "code",
   "execution_count": 59,
   "metadata": {},
   "outputs": [
    {
     "name": "stdout",
     "output_type": "stream",
     "text": [
      "[0, 1, 2, 3]\n"
     ]
    }
   ],
   "source": []
  },
  {
   "attachments": {},
   "cell_type": "markdown",
   "metadata": {},
   "source": [
    "recursion:\n",
    "It is a phenomenon of a function calling it self until the given condition is statisfied \n",
    "function that are satisfying the recursion are called as recursive function \n",
    "syntax:\n",
    "def func_name(arg,initialization):\n",
    "    statements/instructions\n",
    "    func_name(arg,increment/decrement)\n",
    "func_name(arg,arg)\n",
    "if in case we are using above syntax we are not writing any conditional statement with return keyword inside the function\n",
    "it will excute no of times(the selfcall will happen until stack memory is full)\n",
    "for each and every function call an instance memory will be allocated in memory segmentation\n",
    "syntax with return statement + func call\n",
    "def func_name(args):\n",
    "    if <condition>:\n",
    "        statement/instruction\n",
    "        return value\n",
    "    statements/instructions\n",
    "    return func_name(args,increments/decrements)\n",
    "func_name(args)\n",
    "syntax with out return statement + func call\n",
    "def func_name(args):\n",
    "    if <condition>:\n",
    "        statement/instruction\n",
    "        return value\n",
    "    statements/instructions\n",
    "    func_name(args,increments/decrements)\n",
    "func_name(args)\n",
    "other way:\n",
    "syntax with return statement + func call\n",
    "def func_name(args):\n",
    "    if <condition>:\n",
    "        statement/instruction\n",
    "        return func_name(args,increments/decrements)\n",
    "    statements/instructions\n",
    "    return value \n",
    "func_name(args)\n",
    "syntax with out return statement + func call\n",
    "def func_name(args):\n",
    "    if <condition>:\n",
    "        statement/instruction\n",
    "        func_name(args,increments/decrements)\n",
    "    statements/instructions\n",
    "    return value\n",
    "func_name(args)\n"
   ]
  },
  {
   "cell_type": "code",
   "execution_count": 8,
   "metadata": {},
   "outputs": [
    {
     "name": "stdout",
     "output_type": "stream",
     "text": [
      "0,1,2,4,1,1,"
     ]
    }
   ],
   "source": [
    "\n",
    "def s(x):\n",
    "    if x==3:\n",
    "        return \n",
    "    print(x,end=',')\n",
    "    s(x+1)\n",
    "    print(x**x,end=',')\n",
    "   \n",
    "s(0)"
   ]
  },
  {
   "cell_type": "code",
   "execution_count": 14,
   "metadata": {},
   "outputs": [
    {
     "name": "stdout",
     "output_type": "stream",
     "text": [
      "helloolleh"
     ]
    }
   ],
   "source": [
    "def s(x,coll):\n",
    "    if x==len(coll):\n",
    "        return\n",
    "    print(coll[x],end='')\n",
    "    s(x+1,coll)\n",
    "    print(coll[x],end='')\n",
    "s(0,'hello')\n",
    "    "
   ]
  },
  {
   "cell_type": "code",
   "execution_count": 91,
   "metadata": {},
   "outputs": [
    {
     "name": "stdout",
     "output_type": "stream",
     "text": [
      "hello11olleh\n"
     ]
    }
   ],
   "source": [
    "a='hello1'\n",
    "res=''\n",
    "def s(x):\n",
    "    global res\n",
    "    if x==len(a):\n",
    "        return\n",
    "    res+=a[x]\n",
    "    s(x+1)\n",
    "    res+=a[x]\n",
    "s(0)\n",
    "print(res)"
   ]
  },
  {
   "cell_type": "code",
   "execution_count": 18,
   "metadata": {},
   "outputs": [
    {
     "name": "stdout",
     "output_type": "stream",
     "text": [
      "helloolleh\n"
     ]
    }
   ],
   "source": [
    "res=\"\"\n",
    "def s(x,a):\n",
    "    global res\n",
    "    if x==len(a):\n",
    "        return \n",
    "    else:\n",
    "        res+=a[x]\n",
    "        s(x+1,a)\n",
    "        res+=a[x]\n",
    "s(0,\"hello\")\n",
    "print(res)\n"
   ]
  },
  {
   "cell_type": "code",
   "execution_count": 33,
   "metadata": {},
   "outputs": [
    {
     "data": {
      "text/plain": [
       "'hello'"
      ]
     },
     "execution_count": 33,
     "metadata": {},
     "output_type": "execute_result"
    }
   ],
   "source": [
    "res=''\n",
    "def lower(coll,i=0):\n",
    "    global res\n",
    "    if i==len(coll):\n",
    "        return res\n",
    "    \n",
    "    if 'A'<=coll[i]<='Z':\n",
    "        res+=chr(ord(coll[i])+32)\n",
    "    else:\n",
    "        res+=coll[i]\n",
    "    return lower(coll,i+1)\n",
    "lower('HElLO')\n",
    "\n"
   ]
  },
  {
   "cell_type": "code",
   "execution_count": 35,
   "metadata": {},
   "outputs": [
    {
     "name": "stdout",
     "output_type": "stream",
     "text": [
      "hell1o\n"
     ]
    }
   ],
   "source": [
    "res=''\n",
    "def lower1(coll,i=0):\n",
    "    global res\n",
    "    if i==len(coll):\n",
    "        return\n",
    "    \n",
    "    if 'A'<=coll[i]<='Z':\n",
    "        res+=chr(ord(coll[i])+32)\n",
    "    else:\n",
    "        res+=coll[i]\n",
    "    lower1(coll,i+1)\n",
    "lower1('HElL1O')\n",
    "print(res)"
   ]
  },
  {
   "cell_type": "code",
   "execution_count": 41,
   "metadata": {},
   "outputs": [
    {
     "data": {
      "text/plain": [
       "'HELLO'"
      ]
     },
     "execution_count": 41,
     "metadata": {},
     "output_type": "execute_result"
    }
   ],
   "source": [
    "\n",
    "def upper(coll,i=0,res=''):\n",
    "\n",
    "    if i==len(coll):\n",
    "        return res\n",
    "    \n",
    "    if 'a'<=coll[i]<='z':\n",
    "        res+=chr(ord(coll[i])-32)\n",
    "    else:\n",
    "        res+=coll[i]\n",
    "    return upper(coll,i+1,res)\n",
    "upper('HElLO')"
   ]
  },
  {
   "cell_type": "code",
   "execution_count": 45,
   "metadata": {},
   "outputs": [
    {
     "data": {
      "text/plain": [
       "'helo'"
      ]
     },
     "execution_count": 45,
     "metadata": {},
     "output_type": "execute_result"
    }
   ],
   "source": [
    "# wap to eleminate the duplicate data item from the given coll\n",
    "def elminate(coll,res='',i=0):\n",
    "    if type(coll) not in [list,tuple,str]:\n",
    "        return\n",
    "    if i==len(coll):\n",
    "        return res\n",
    "    if coll[i] not in res:\n",
    "        res+=coll[i]\n",
    "    return elminate(coll,res,i+1)\n",
    "elminate('hello')\n"
   ]
  },
  {
   "cell_type": "code",
   "execution_count": 53,
   "metadata": {},
   "outputs": [
    {
     "data": {
      "text/plain": [
       "'l'"
      ]
     },
     "execution_count": 53,
     "metadata": {},
     "output_type": "execute_result"
    }
   ],
   "source": [
    "# wap to extarct the unique data items from the coll\n",
    "def elminate(coll,res='',temp='',i=0):\n",
    "    if type(coll) not in [list,tuple,str]:\n",
    "        return -1\n",
    "    if i==len(coll):\n",
    "        return temp\n",
    "    if coll[i] not in res:\n",
    "        res+=coll[i]\n",
    "    else:\n",
    "        temp+=coll[i]\n",
    "    return elminate(coll,res,temp,i+1)\n",
    "elminate('hello')"
   ]
  },
  {
   "cell_type": "code",
   "execution_count": 65,
   "metadata": {},
   "outputs": [
    {
     "data": {
      "text/plain": [
       "104"
      ]
     },
     "execution_count": 65,
     "metadata": {},
     "output_type": "execute_result"
    }
   ],
   "source": [
    "# wap to sum of the even value from coll\n",
    "def sum(coll,s=0,i=0):\n",
    "    if i==len(coll):\n",
    "        return s\n",
    "    if coll[i]%2==0:\n",
    "        s+=coll[i]\n",
    "    return sum(coll,s,i+1)\n",
    "sum([10,20,15,-5,-86,15,-76,96,154,-14])"
   ]
  },
  {
   "cell_type": "code",
   "execution_count": 63,
   "metadata": {},
   "outputs": [
    {
     "data": {
      "text/plain": [
       "-9"
      ]
     },
     "execution_count": 63,
     "metadata": {},
     "output_type": "execute_result"
    }
   ],
   "source": [
    "# wap to program to find the difference the odd value from the coll\n",
    "def diff(coll,s=0,i=0):\n",
    "    if i==len(coll):\n",
    "        return s\n",
    "    if coll[i]%2!=0:\n",
    "        s-=coll[i]\n",
    "    return diff(coll,s,i+1)\n",
    "diff([1,2,3,4,5,6])"
   ]
  },
  {
   "cell_type": "code",
   "execution_count": 76,
   "metadata": {},
   "outputs": [
    {
     "data": {
      "text/plain": [
       "720"
      ]
     },
     "execution_count": 76,
     "metadata": {},
     "output_type": "execute_result"
    }
   ],
   "source": [
    "#to find out the factorial of the given number\n",
    "def fact(num,fac=1,):\n",
    "    if num==0:\n",
    "        return\n",
    "    if num==1:\n",
    "        return fac\n",
    "    fac*=num\n",
    "    return fact(num-1,fac)\n",
    "fact(6)"
   ]
  },
  {
   "cell_type": "code",
   "execution_count": 4,
   "metadata": {},
   "outputs": [
    {
     "name": "stdout",
     "output_type": "stream",
     "text": [
      "{101: ['hyd', 'vij'], 102: ['vij', 'hyd'], 103: ['hyd', 'ogl'], 104: ['ogl', 'hyd'], 105: ['ogl', 'goa']}\n"
     ]
    }
   ],
   "source": [
    "import copy\n",
    "seats={'A1':True,'A2':True,'A3':True,'A4':True,\n",
    "       'B1':True,'B2':True,'B3':True,'B4':True,\n",
    "       'C1':True,'C2':True,'C3':True,'C4':True,\n",
    "       'D1':True,'D2':True,'D3':True,'D4':True,\n",
    "       'E1':True,'E2':True,'E3':True,'E4':True,\n",
    "       'F1':True,'F2':True,'F3':True,'F4':True,}\n",
    "services={101:['hyd','vij'],102:['vij','hyd'],103:['hyd','ogl'],104:['ogl','hyd']}\n",
    "service_no=105\n",
    "def create_services(services):\n",
    "    global service_no\n",
    "    src=input('eter the source city')\n",
    "    dst=input('enter the destination city')\n",
    "    services[service_no]=[src,dst]\n",
    "    service_no+=1\n",
    "    \n",
    "create_services(services)\n",
    "\n",
    "print(services)\n"
   ]
  },
  {
   "cell_type": "code",
   "execution_count": null,
   "metadata": {},
   "outputs": [],
   "source": [
    "import copy\n",
    "seats={'A1':True,'A2':True,'A3':True,'A4':True,\n",
    "       'B1':True,'B2':True,'B3':True,'B4':True,\n",
    "       'C1':True,'C2':True,'C3':True,'C4':True,\n",
    "       'D1':True,'D2':True,'D3':True,'D4':True,\n",
    "       'E1':True,'E2':True,'E3':True,'E4':True,\n",
    "       'F1':True,'F2':True,'F3':True,'F4':True,}\n",
    "services={101:['hyd','vij',14.00,22.00,300,copy.deepcopy(seats)],\n",
    "          102:['vij','hyd',23.30,5.30,300,copy.deepcopy(seats)],\n",
    "          103:['hyd','ogl',10.00,2.00,200,copy.deepcopy(seats)],\n",
    "          104:['ogl','hyd',12.00,4.00,200,copy.deepcopy(seats)]}\n",
    "def update_service(service):\n",
    "    num=int(input('enter the service no:'))\n",
    "    if num in service:\n",
    "        print(f'src:{service[num[0]]}\\ndes:{service[num[1]]}')\n",
    "        n=int(input(f'are you sure to miodify{num}details:\\n'))"
   ]
  },
  {
   "cell_type": "code",
   "execution_count": 9,
   "metadata": {},
   "outputs": [
    {
     "name": "stdout",
     "output_type": "stream",
     "text": [
      "total seats 24\n",
      "available seats ['A1', 'A2', 'A3', 'A4', 'B1', 'B2', 'B3', 'B4', 'C1', 'C2', 'C3', 'C4', 'D1', 'D2', 'D3', 'D4', 'E1', 'E2', 'E3', 'E4', 'F1', 'F2', 'F3', 'F4']\n",
      "unavailable seats []\n"
     ]
    }
   ],
   "source": [
    "seats={'A1':True,'A2':True,'A3':True,'A4':True,\n",
    "       'B1':True,'B2':True,'B3':True,'B4':True,\n",
    "       'C1':True,'C2':True,'C3':True,'C4':True,\n",
    "       'D1':True,'D2':True,'D3':True,'D4':True,\n",
    "       'E1':True,'E2':True,'E3':True,'E4':True,\n",
    "       'F1':True,'F2':True,'F3':True,'F4':True,}\n",
    "def bus_seat(coll):\n",
    "    available=[]\n",
    "    unavailable=[]\n",
    "    for i in coll:\n",
    "        if coll[i]==True:\n",
    "            available+=[i]\n",
    "        else:\n",
    "            unavailable+=[i]\n",
    "    return (available,unavailable)\n",
    "res=bus_seat(seats)\n",
    "print('total seats',len(seats))\n",
    "print('available seats',res[0])\n",
    "print('unavailable seats',res[1])"
   ]
  },
  {
   "cell_type": "code",
   "execution_count": 18,
   "metadata": {},
   "outputs": [
    {
     "ename": "TypeError",
     "evalue": "string indices must be integers, not 'str'",
     "output_type": "error",
     "traceback": [
      "\u001b[1;31m---------------------------------------------------------------------------\u001b[0m",
      "\u001b[1;31mTypeError\u001b[0m                                 Traceback (most recent call last)",
      "Cell \u001b[1;32mIn[18], line 13\u001b[0m\n\u001b[0;32m      3\u001b[0m         seats\u001b[39m=\u001b[39mbus_seat(i[\u001b[39m1\u001b[39m][\u001b[39m-\u001b[39m\u001b[39m1\u001b[39m])\n\u001b[0;32m      4\u001b[0m         \u001b[39mprint\u001b[39m(\u001b[39mstr\u001b[39m(i[\u001b[39m0\u001b[39m])\u001b[39m.\u001b[39mcenter(\u001b[39m20\u001b[39m),\n\u001b[0;32m      5\u001b[0m               i[\u001b[39m1\u001b[39m][\u001b[39m0\u001b[39m]\u001b[39m.\u001b[39mcenter(\u001b[39m20\u001b[39m),\n\u001b[0;32m      6\u001b[0m               i[\u001b[39m1\u001b[39m][\u001b[39m1\u001b[39m]\u001b[39m.\u001b[39mcenter(\u001b[39m20\u001b[39m),\n\u001b[1;32m   (...)\u001b[0m\n\u001b[0;32m     11\u001b[0m               \u001b[39mstr\u001b[39m(\u001b[39mlen\u001b[39m(seats[\u001b[39m0\u001b[39m]))\u001b[39m.\u001b[39mcenter(\u001b[39m20\u001b[39m),\n\u001b[0;32m     12\u001b[0m               \u001b[39mstr\u001b[39m(\u001b[39mlen\u001b[39m(seats[\u001b[39m1\u001b[39m]))\u001b[39m.\u001b[39mcenter(\u001b[39m20\u001b[39m))\n\u001b[1;32m---> 13\u001b[0m display_all(services)\n",
      "Cell \u001b[1;32mIn[18], line 3\u001b[0m, in \u001b[0;36mdisplay_all\u001b[1;34m(service)\u001b[0m\n\u001b[0;32m      1\u001b[0m \u001b[39mdef\u001b[39;00m \u001b[39mdisplay_all\u001b[39m(service):\n\u001b[0;32m      2\u001b[0m     \u001b[39mfor\u001b[39;00m i \u001b[39min\u001b[39;00m service\u001b[39m.\u001b[39mitems():\n\u001b[1;32m----> 3\u001b[0m         seats\u001b[39m=\u001b[39mbus_seat(i[\u001b[39m1\u001b[39;49m][\u001b[39m-\u001b[39;49m\u001b[39m1\u001b[39;49m])\n\u001b[0;32m      4\u001b[0m         \u001b[39mprint\u001b[39m(\u001b[39mstr\u001b[39m(i[\u001b[39m0\u001b[39m])\u001b[39m.\u001b[39mcenter(\u001b[39m20\u001b[39m),\n\u001b[0;32m      5\u001b[0m               i[\u001b[39m1\u001b[39m][\u001b[39m0\u001b[39m]\u001b[39m.\u001b[39mcenter(\u001b[39m20\u001b[39m),\n\u001b[0;32m      6\u001b[0m               i[\u001b[39m1\u001b[39m][\u001b[39m1\u001b[39m]\u001b[39m.\u001b[39mcenter(\u001b[39m20\u001b[39m),\n\u001b[1;32m   (...)\u001b[0m\n\u001b[0;32m     11\u001b[0m               \u001b[39mstr\u001b[39m(\u001b[39mlen\u001b[39m(seats[\u001b[39m0\u001b[39m]))\u001b[39m.\u001b[39mcenter(\u001b[39m20\u001b[39m),\n\u001b[0;32m     12\u001b[0m               \u001b[39mstr\u001b[39m(\u001b[39mlen\u001b[39m(seats[\u001b[39m1\u001b[39m]))\u001b[39m.\u001b[39mcenter(\u001b[39m20\u001b[39m))\n",
      "Cell \u001b[1;32mIn[9], line 11\u001b[0m, in \u001b[0;36mbus_seat\u001b[1;34m(coll)\u001b[0m\n\u001b[0;32m      9\u001b[0m unavailable\u001b[39m=\u001b[39m[]\n\u001b[0;32m     10\u001b[0m \u001b[39mfor\u001b[39;00m i \u001b[39min\u001b[39;00m coll:\n\u001b[1;32m---> 11\u001b[0m     \u001b[39mif\u001b[39;00m coll[i]\u001b[39m==\u001b[39m\u001b[39mTrue\u001b[39;00m:\n\u001b[0;32m     12\u001b[0m         available\u001b[39m+\u001b[39m\u001b[39m=\u001b[39m[i]\n\u001b[0;32m     13\u001b[0m     \u001b[39melse\u001b[39;00m:\n",
      "\u001b[1;31mTypeError\u001b[0m: string indices must be integers, not 'str'"
     ]
    }
   ],
   "source": [
    "def display_all(service):\n",
    "    for i in service.items():\n",
    "        seats=bus_seat(i[1][-1])\n",
    "        print(str(i[0]).center(20),\n",
    "              i[1][0].center(20),\n",
    "              i[1][1].center(20),\n",
    "              str(i[1][2]).center(20),\n",
    "              str(i[1][3]).center(20),\n",
    "              str(i[1][4]).center(20),\n",
    "              str(len(i[1][-1])).center(20),\n",
    "              str(len(seats[0])).center(20),\n",
    "              str(len(seats[1])).center(20))\n",
    "display_all(services)"
   ]
  },
  {
   "cell_type": "code",
   "execution_count": null,
   "metadata": {},
   "outputs": [],
   "source": [
    "import copy\n",
    "seats={'A1':True,'A2':True,'A3':True,'A4':True,\n",
    "       'B1':True,'B2':True,'B3':True,'B4':True,\n",
    "       'C1':True,'C2':True,'C3':True,'C4':True,\n",
    "       'D1':True,'D2':True,'D3':True,'D4':True,\n",
    "       'E1':True,'E2':True,'E3':True,'E4':True,\n",
    "       'F1':True,'F2':True,'F3':True,'F4':True,}\n",
    "services={101:['hyd','vij',14.00,22.00,300,copy.deepcopy(seats)],\n",
    "          102:['vij','hyd',23.30,5.30,300,copy.deepcopy(seats)],\n",
    "          103:['hyd','ogl',10.00,2.00,200,copy.deepcopy(seats)],\n",
    "          104:['ogl','hyd',12.00,4.00,200,copy.deepcopy(seats)]}\n",
    "\n"
   ]
  },
  {
   "cell_type": "code",
   "execution_count": 5,
   "metadata": {},
   "outputs": [
    {
     "name": "stdout",
     "output_type": "stream",
     "text": [
      "54321\n",
      "15\n",
      "51\n"
     ]
    }
   ],
   "source": [
    "def reverse(num):\n",
    "    reverse_num=0\n",
    "    while num:\n",
    "        ld=num%10\n",
    "        reverse_num=reverse_num*10+ld\n",
    "        num=num//10\n",
    "    return reverse_num\n",
    "def sum(num1):\n",
    "    sum=0\n",
    "    while num1:\n",
    "        ld=num1%10\n",
    "        sum+=ld\n",
    "        num1=num1//10\n",
    "    return sum\n",
    "rn=reverse(12345)\n",
    "print(rn)\n",
    "rs=sum(rn)\n",
    "print(rs)\n",
    "rs1=reverse(rs)\n",
    "print(rs1)"
   ]
  },
  {
   "cell_type": "code",
   "execution_count": 7,
   "metadata": {},
   "outputs": [
    {
     "data": {
      "text/plain": [
       "'chandraseharkajsd'"
      ]
     },
     "execution_count": 7,
     "metadata": {},
     "output_type": "execute_result"
    }
   ],
   "source": [
    "def split(coll):\n",
    "    l=[]\n",
    "    s=''\n",
    "    for i in coll:\n",
    "        if i!=' ':\n",
    "            s+=i\n",
    "        else:\n",
    "            if i!=' ':\n",
    "                s+=l[s]\n",
    "    return(s)\n",
    "split('chandrasehar  kajsd')"
   ]
  },
  {
   "cell_type": "code",
   "execution_count": 8,
   "metadata": {},
   "outputs": [
    {
     "name": "stdout",
     "output_type": "stream",
     "text": [
      "['collector', 'collection', 'collected', 'collect', 'count', 'collobration']\n"
     ]
    }
   ],
   "source": [
    "\n",
    "st='collector collection collected collect count collobration'\n",
    "res=st.split()\n",
    "print(res)\n",
    "p=0\n",
    "s=res[0][p]\n",
    "for i in res:\n",
    "    \n",
    "\n"
   ]
  }
 ],
 "metadata": {
  "kernelspec": {
   "display_name": "Python 3",
   "language": "python",
   "name": "python3"
  },
  "language_info": {
   "codemirror_mode": {
    "name": "ipython",
    "version": 3
   },
   "file_extension": ".py",
   "mimetype": "text/x-python",
   "name": "python",
   "nbconvert_exporter": "python",
   "pygments_lexer": "ipython3",
   "version": "3.11.1"
  },
  "orig_nbformat": 4
 },
 "nbformat": 4,
 "nbformat_minor": 2
}
