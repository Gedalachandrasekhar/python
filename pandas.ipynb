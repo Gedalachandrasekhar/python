{
 "cells": [
  {
   "cell_type": "code",
   "execution_count": 8,
   "metadata": {},
   "outputs": [
    {
     "name": "stdout",
     "output_type": "stream",
     "text": [
      "          a    b\n",
      "0  ad211aas  ads\n",
      "  a    b\n",
      "0    asc\n",
      "     a    b\n",
      "0  asc  asc\n",
      "      a   b\n",
      "0  asca  ca\n",
      "     a    b\n",
      "0  cas  cas\n",
      "     a     b\n",
      "0  cas  casc\n"
     ]
    }
   ],
   "source": [
    "import pandas as pd\n",
    "i=0\n",
    "while i<=5:\n",
    "    d= {'a':input('1'),'b':input('2')}\n",
    "    res=pd.DataFrame(d,index=[0])\n",
    "    print(res)\n",
    "    i+=1\n"
   ]
  },
  {
   "cell_type": "code",
   "execution_count": 17,
   "metadata": {},
   "outputs": [
    {
     "name": "stdout",
     "output_type": "stream",
     "text": [
      "   BRAND    MODEL  RAM  ROM PROCESSOR  GRAPHIC   PRICE\n",
      "0  apple  mac air    4  1tb        m1        2   50000\n",
      "1   asus      rog   16    1        i5        4   72000\n",
      "2  apple  mac air    4  1tb        m1        2  200000\n",
      "3   asus      rog   16    1        i5        4   72000\n",
      "   BRAND    MODEL  RAM  ROM PROCESSOR  GRAPHIC  PRICE\n",
      "0  apple  mac air    4  1tb        m1        2  50000\n"
     ]
    }
   ],
   "source": [
    "import pandas as pd\n",
    "csv=pd.read_csv('file.csv')\n",
    "res=pd.DataFrame(csv)\n",
    "print(res)\n",
    "print(res.loc[[0]])"
   ]
  },
  {
   "cell_type": "code",
   "execution_count": 35,
   "metadata": {},
   "outputs": [
    {
     "name": "stdout",
     "output_type": "stream",
     "text": [
      "4\n",
      "3\n",
      "9\n",
      "3\n"
     ]
    }
   ],
   "source": [
    "num=934\n",
    "dup=num\n",
    "c=0\n",
    "while dup:\n",
    "    if dup==0:\n",
    "        print(-1)\n",
    "    a=dup%10\n",
    "    dup=dup//10\n",
    "    c+=1\n",
    "    print(a)\n",
    "print(c)\n",
    "while c<=0:\n",
    "    if\n",
    "    "
   ]
  },
  {
   "cell_type": "code",
   "execution_count": 40,
   "metadata": {},
   "outputs": [
    {
     "name": "stdout",
     "output_type": "stream",
     "text": [
      "5\n",
      "The second smallest digit is: 4\n"
     ]
    }
   ],
   "source": [
    "def find_second_smallest_digit(number):\n",
    "    if number < 10:\n",
    "        return None  \n",
    "\n",
    "    smallest = 9\n",
    "    second_smallest = 9\n",
    "\n",
    "    while number > 0:\n",
    "        digit = number % 10\n",
    "        # print(digit)\n",
    "        if digit < smallest:\n",
    "            second_smallest = smallest\n",
    "            smallest = digit\n",
    "        elif digit < second_smallest and digit != smallest:\n",
    "            second_smallest = digit\n",
    "            # print(second_smallest)\n",
    "        number //= 10\n",
    "\n",
    "    return second_smallest\n",
    "\n",
    "\n",
    "\n",
    "input_number = 9354\n",
    "\n",
    "result = find_second_smallest_digit(input_number)\n",
    "if result is not None:\n",
    "    print(\"The second smallest digit is:\", result)\n",
    "else:\n",
    "    print(\"Invalid number. It should have at least two digits.\")\n"
   ]
  },
  {
   "cell_type": "code",
   "execution_count": 14,
   "metadata": {},
   "outputs": [
    {
     "ename": "UnboundLocalError",
     "evalue": "cannot access local variable 'reverses1' where it is not associated with a value",
     "output_type": "error",
     "traceback": [
      "\u001b[1;31m---------------------------------------------------------------------------\u001b[0m",
      "\u001b[1;31mUnboundLocalError\u001b[0m                         Traceback (most recent call last)",
      "Cell \u001b[1;32mIn[14], line 8\u001b[0m\n\u001b[0;32m      6\u001b[0m         reverses1\u001b[39m=\u001b[39mreverses1\u001b[39m/\u001b[39m\u001b[39m/\u001b[39m\u001b[39m10\u001b[39m\n\u001b[0;32m      7\u001b[0m     \u001b[39mreturn\u001b[39;00m res\n\u001b[1;32m----> 8\u001b[0m reverse()\n\u001b[0;32m      9\u001b[0m \u001b[39mdef\u001b[39;00m \u001b[39msum\u001b[39m(s\u001b[39m=\u001b[39m\u001b[39m0\u001b[39m):\n\u001b[0;32m     10\u001b[0m     \u001b[39mglobal\u001b[39;00m reverses1\n",
      "Cell \u001b[1;32mIn[14], line 3\u001b[0m, in \u001b[0;36mreverse\u001b[1;34m()\u001b[0m\n\u001b[0;32m      1\u001b[0m \u001b[39mdef\u001b[39;00m \u001b[39mreverse\u001b[39m():\n\u001b[0;32m      2\u001b[0m     res\u001b[39m=\u001b[39m\u001b[39m0\u001b[39m\n\u001b[1;32m----> 3\u001b[0m     \u001b[39mwhile\u001b[39;00m reverses1:\n\u001b[0;32m      4\u001b[0m         digit\u001b[39m=\u001b[39mreverses1\u001b[39m%\u001b[39m\u001b[39m10\u001b[39m\n\u001b[0;32m      5\u001b[0m         res\u001b[39m=\u001b[39mres\u001b[39m*\u001b[39m\u001b[39m10\u001b[39m\u001b[39m+\u001b[39mdigit\n",
      "\u001b[1;31mUnboundLocalError\u001b[0m: cannot access local variable 'reverses1' where it is not associated with a value"
     ]
    }
   ],
   "source": [
    "def reverse():\n",
    "    \n",
    "    res=0\n",
    "    while reverses1:\n",
    "        digit=reverses1%10\n",
    "        res=res*10+digit\n",
    "        reverses1=reverses1//10\n",
    "    return res\n",
    "reverse()\n",
    "def sum(s=0):\n",
    "    global reverses1\n",
    "    global reverses1\n",
    "    s=reverses1+reverses2\n",
    "    return s\n",
    "reverses1=reverse(n=eval(input('enter the number1')))\n",
    "reverses2=reverse(n=eval(input('enter the number2')))\n",
    "sums=sum()\n",
    "reversesum=reverse(sums)\n",
    "    "
   ]
  }
 ],
 "metadata": {
  "kernelspec": {
   "display_name": "Python 3",
   "language": "python",
   "name": "python3"
  },
  "language_info": {
   "codemirror_mode": {
    "name": "ipython",
    "version": 3
   },
   "file_extension": ".py",
   "mimetype": "text/x-python",
   "name": "python",
   "nbconvert_exporter": "python",
   "pygments_lexer": "ipython3",
   "version": "3.11.1"
  },
  "orig_nbformat": 4
 },
 "nbformat": 4,
 "nbformat_minor": 2
}
