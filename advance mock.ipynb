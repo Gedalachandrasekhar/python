{
 "cells": [
  {
   "cell_type": "code",
   "execution_count": 1,
   "metadata": {},
   "outputs": [
    {
     "data": {
      "text/plain": [
       "\"Liam and I ran my little bakery Biscotti together. Although I was the one who rented this place with some money my mother had left me, managing it would be impossible without Liam's help. He was my head chef because he had taken a culinary course, just so he could help me run it.While I was checking the grocery, I heard a sweet voice that I instantly recognised.Cara Parker was the sweetest kid ever, with her long blonde hair, chubby cheeks and big blue eyes. She was like a little ball of joy, who always brightened my day with her huge smile.Immediately, I left the kitchen and made my way to the counter where she was silently drooling over the fudge brownies, her fingers wrapped around a woman's wrist.From the last two months, I have always seen Cara with her babysitter Geena. But this time, she was with someone else. The woman looked like in her late forties, her dark hair gracefully tied in a bun. She was wearing a decent plum dress that accentuated her slim figure and tall built.\""
      ]
     },
     "execution_count": 1,
     "metadata": {},
     "output_type": "execute_result"
    }
   ],
   "source": [
    "st='''Liam and I ran my little bakery Biscotti together. Although I was the one who rented this place with some money my mother had left me, managing it would be impossible without Liam's help. He was my head chef because he had taken a culinary course, just so he could help me run it.While I was checking the grocery, I heard a sweet voice that I instantly recognised.Cara Parker was the sweetest kid ever, with her long blonde hair, chubby cheeks and big blue eyes. She was like a little ball of joy, who always brightened my day with her huge smile.Immediately, I left the kitchen and made my way to the counter where she was silently drooling over the fudge brownies, her fingers wrapped around a woman's wrist.From the last two months, I have always seen Cara with her babysitter Geena. But this time, she was with someone else. The woman looked like in her late forties, her dark hair gracefully tied in a bun. She was wearing a decent plum dress that accentuated her slim figure and tall built.'''\n",
    "st"
   ]
  },
  {
   "cell_type": "code",
   "execution_count": 29,
   "metadata": {},
   "outputs": [
    {
     "name": "stdout",
     "output_type": "stream",
     "text": [
      "BCDFGHJKLMNPQRSTVWXYZbcdfghjklmnpqrstvwxyz\n"
     ]
    },
    {
     "ename": "IndexError",
     "evalue": "string index out of range",
     "output_type": "error",
     "traceback": [
      "\u001b[1;31m---------------------------------------------------------------------------\u001b[0m",
      "\u001b[1;31mIndexError\u001b[0m                                Traceback (most recent call last)",
      "Cell \u001b[1;32mIn[29], line 25\u001b[0m\n\u001b[0;32m     23\u001b[0m     res\u001b[39m+\u001b[39m\u001b[39m=\u001b[39mbc[s]\n\u001b[0;32m     24\u001b[0m \u001b[39melif\u001b[39;00m \u001b[39m'\u001b[39m\u001b[39ma\u001b[39m\u001b[39m'\u001b[39m\u001b[39m<\u001b[39m\u001b[39m=\u001b[39mst[s]\u001b[39m<\u001b[39m\u001b[39m=\u001b[39m\u001b[39m'\u001b[39m\u001b[39mz\u001b[39m\u001b[39m'\u001b[39m:\n\u001b[1;32m---> 25\u001b[0m     res\u001b[39m+\u001b[39m\u001b[39m=\u001b[39msc[s]\n\u001b[0;32m     26\u001b[0m \u001b[39melse\u001b[39;00m:\n\u001b[0;32m     27\u001b[0m     res\u001b[39m+\u001b[39m\u001b[39m=\u001b[39mst[s]\n",
      "\u001b[1;31mIndexError\u001b[0m: string index out of range"
     ]
    }
   ],
   "source": [
    "#change to vawels to consanats\n",
    "a=ord('A')\n",
    "b=ord('Z')\n",
    "c=ord('a')\n",
    "d=ord('z')\n",
    "sc=\"\"\n",
    "bc=''\n",
    "while a<=b:\n",
    "    if chr(a) not in 'AEIOUaeiou':\n",
    "        sc+=chr(a)\n",
    "    a+=1\n",
    "while c<=d:\n",
    "    if chr(c) not in 'AEIOUaeiou':\n",
    "        bc+=chr(c)\n",
    "    c+=1\n",
    "print(sc,end='')\n",
    "print(bc)  \n",
    "s=0\n",
    "res=''\n",
    "for \n",
    "print(res)\n"
   ]
  },
  {
   "cell_type": "code",
   "execution_count": 44,
   "metadata": {},
   "outputs": [
    {
     "name": "stdout",
     "output_type": "stream",
     "text": [
      "Liam and I ran my little bakery Biscotti together. Although I was the one who rented this place with some money my mother had left me, managing it would be impossible without Liam's help. He was my head chef because he had taken a culinary course, just so he could help me run it.While I was checking the grocery, I heard a sweet voice that I instantly recognised.Cara Parker was the sweetest kid ever, with her long blonde hair, chubby cheeks and big blue eyes. She was like a little ball of joy, who always brightened my day with her huge smile.Immediately, I left the kitchen and made my way to the counter where she was silently drooling over the fudge brownies, her fingers wrapped around a woman's wrist.From the last two months, I have always seen Cara with her babysitter Geena. But this time, she was with someone else. The woman looked like in her late forties, her dark hair gracefully tied in a bun. She was wearing a decent plum dress that accentuated her slim figure and tall built. \n"
     ]
    }
   ],
   "source": [
    "#remove the duplicates\n",
    "def dup(coll,ele=None):\n",
    "    words=coll.split()\n",
    "    res=''\n",
    "    d=[]\n",
    "    for ele in words:\n",
    "        if ele not in d:\n",
    "            res+=ele+' '\n",
    "            \n",
    "        else:\n",
    "            res=coll\n",
    "            if ele not in ele:\n",
    "                res+=ele\n",
    "    return res\n",
    "print(dup(st,ele='was'))\n",
    "\n",
    "        \n",
    "\n",
    "\n",
    "\n",
    "\n",
    "\n"
   ]
  }
 ],
 "metadata": {
  "kernelspec": {
   "display_name": "Python 3",
   "language": "python",
   "name": "python3"
  },
  "language_info": {
   "codemirror_mode": {
    "name": "ipython",
    "version": 3
   },
   "file_extension": ".py",
   "mimetype": "text/x-python",
   "name": "python",
   "nbconvert_exporter": "python",
   "pygments_lexer": "ipython3",
   "version": "3.11.1"
  },
  "orig_nbformat": 4
 },
 "nbformat": 4,
 "nbformat_minor": 2
}
