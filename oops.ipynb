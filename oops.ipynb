{
 "cells": [
  {
   "attachments": {},
   "cell_type": "markdown",
   "metadata": {},
   "source": [
    "Object oriented prormamming\n",
    "-->it pheonomeon of working with real time entities will lead us to work with the concept name called object oriented program langauge as we are working real time entities the bulit in data types are not suffienct are enough to store the details of real world entities because the real world entities will have various types,properties,stuctures,functionalities are present  this all are not sutable to store are manipulate the information in built in data types so thats why we are going to use the user defined data type called class and object\n",
    "through class and object we are creating our own structure and functionalities \n",
    "--> why oops?\n",
    "to store the data in organized and classify the data to perform the functionalities to data in clear structure \n",
    "-->easy maintaince and manipulite the data\n",
    "By using the oops we can reduce the code defauclty and code reusability \n",
    "oops following the four principles \n",
    "1)inheritance(aquairing the properties from one class to another class reduce the existing task and code repetation)\n",
    "2)encapsilation(to provide the security to the data )\n",
    "3)polymorfizim(code reusability,to perform the many task by using one interface)\n",
    "4)abstraction(hiding the implemantation of logic)"
   ]
  },
  {
   "cell_type": "code",
   "execution_count": 13,
   "metadata": {},
   "outputs": [
    {
     "name": "stdout",
     "output_type": "stream",
     "text": [
      "10\n",
      "hello\n"
     ]
    }
   ],
   "source": [
    "class demo:\n",
    "    a=10\n",
    "    def he():\n",
    "        m='hello'\n",
    "        return m    \n",
    "print(demo.a)\n",
    "print(demo.he())\n",
    "\n",
    "\n",
    "\n",
    "\n",
    "\n"
   ]
  },
  {
   "cell_type": "code",
   "execution_count": 3,
   "metadata": {},
   "outputs": [],
   "source": [
    "# intialization of static states\n",
    "class apple:\n",
    "    a=100\n",
    "    b=200\n",
    "    c=300\n",
    "\n",
    "class sample:\n",
    "    pass\n",
    "sample.a=100\n",
    "sample.b=200\n",
    "sample.c=300\n",
    "\n",
    "class demo:\n",
    "    pass\n",
    "def create_static(cls):\n",
    "    cls.a=100\n",
    "    cls.b=200\n",
    "    cls.c=300\n",
    "create_static(demo)\n",
    "\n",
    "class pen:\n",
    "    def create(cls):\n",
    "        cls.a=100\n",
    "        cls.b=200\n",
    "        cls.c=300\n",
    "pen.create(pen)\n",
    "\n",
    "class paper:\n",
    "    @classmethod #decorating the method by the help of class method(dynamically it will assign the class address)\n",
    "    def create(cls): #intialize the static inside the class by using classmethod decorator\n",
    "        cls.a=100\n",
    "        cls.b=200\n",
    "        cls.c=300\n",
    "paper.create()\n"
   ]
  },
  {
   "cell_type": "code",
   "execution_count": 4,
   "metadata": {},
   "outputs": [
    {
     "name": "stdout",
     "output_type": "stream",
     "text": [
      "{'__module__': '__main__', 'a': 100, 'b': 200, 'c': 300, '__dict__': <attribute '__dict__' of 'apple' objects>, '__weakref__': <attribute '__weakref__' of 'apple' objects>, '__doc__': None}\n",
      "{'__module__': '__main__', '__dict__': <attribute '__dict__' of 'sample' objects>, '__weakref__': <attribute '__weakref__' of 'sample' objects>, '__doc__': None, 'a': 100, 'b': 200, 'c': 300}\n",
      "{'__module__': '__main__', '__dict__': <attribute '__dict__' of 'demo' objects>, '__weakref__': <attribute '__weakref__' of 'demo' objects>, '__doc__': None, 'a': 100, 'b': 200, 'c': 300}\n",
      "{'__module__': '__main__', 'create': <function pen.create at 0x000001F306F61EE0>, '__dict__': <attribute '__dict__' of 'pen' objects>, '__weakref__': <attribute '__weakref__' of 'pen' objects>, '__doc__': None, 'a': 100, 'b': 200, 'c': 300}\n",
      "{'__module__': '__main__', 'create': <classmethod(<function paper.create at 0x000001F306F63EC0>)>, '__dict__': <attribute '__dict__' of 'paper' objects>, '__weakref__': <attribute '__weakref__' of 'paper' objects>, '__doc__': None, 'a': 100, 'b': 200, 'c': 300}\n"
     ]
    }
   ],
   "source": [
    "print(apple.__dict__)\n",
    "print(sample.__dict__)\n",
    "print(demo.__dict__)\n",
    "print(pen.__dict__)\n",
    "print(paper.__dict__)\n",
    "\n"
   ]
  },
  {
   "cell_type": "code",
   "execution_count": 6,
   "metadata": {},
   "outputs": [
    {
     "name": "stdout",
     "output_type": "stream",
     "text": [
      "{'__module__': '__main__', 'company_name': 'oneplus', 'tollno': '180099911', 'os': 'oxygen os', 'usb_type': 'USB-C', 'case': 'clear case', 'sim_slot': 'hybrid', '__dict__': <attribute '__dict__' of 'mobile' objects>, '__weakref__': <attribute '__weakref__' of 'mobile' objects>, '__doc__': None}\n",
      "{'__module__': '__main__', 'create': <classmethod(<function oneplus.create at 0x000001F306F62200>)>, '__dict__': <attribute '__dict__' of 'oneplus' objects>, '__weakref__': <attribute '__weakref__' of 'oneplus' objects>, '__doc__': None, 'company_name': 'oneplus', 'tollno': '180099911', 'os': 'oxygen os', 'usb_type': 'USB-C', 'case': 'clear case', 'sim_slot': 'hybrid'}\n"
     ]
    }
   ],
   "source": [
    "class mobile:\n",
    "    company_name='oneplus'\n",
    "    tollno='180099911'\n",
    "    os='oxygen os'\n",
    "    usb_type='USB-C'\n",
    "    case='clear case'\n",
    "    sim_slot='hybrid'\n",
    "\n",
    "class oneplus:\n",
    "    @classmethod\n",
    "    def create(cls):\n",
    "        cls. company_name='oneplus'\n",
    "        cls.tollno='180099911'\n",
    "        cls.os='oxygen os'\n",
    "        cls.usb_type='USB-C'\n",
    "        cls.case='clear case'\n",
    "        cls.sim_slot='hybrid'\n",
    "oneplus.create()\n",
    "print(mobile.__dict__)\n",
    "print(oneplus.__dict__)"
   ]
  },
  {
   "cell_type": "code",
   "execution_count": 32,
   "metadata": {},
   "outputs": [
    {
     "name": "stdout",
     "output_type": "stream",
     "text": [
      "oneplus 180099911 oxygen os clear case\n",
      "oneplus 180099911 ios black\n",
      "oneplus 180099911 oxygen os clear case hybrid\n",
      "oneplus 180099911 oxygen os black esim\n"
     ]
    }
   ],
   "source": [
    "class mobile:\n",
    "    company_name='oneplus'\n",
    "    tollno='180099911'\n",
    "    os='oxygen os'\n",
    "    usb_type='USB-C'\n",
    "    case='clear case'\n",
    "    sim_slot='hybrid'\n",
    "print(mobile.company_name,mobile.tollno,mobile.os,mobile.case)\n",
    "mobile.os='ios'\n",
    "mobile.case='black'\n",
    "\n",
    "print(mobile.company_name,mobile.tollno,mobile.os,mobile.case)\n",
    "class mobile1:\n",
    "    company_name='oneplus'\n",
    "    tollno='180099911'\n",
    "    os='oxygen os'\n",
    "    usb_type='USB-C'\n",
    "    case='clear case'\n",
    "    sim_slot='hybrid'\n",
    "    @classmethod\n",
    "    def dis(cls):\n",
    "\n",
    "        print(cls.company_name,cls.tollno,cls.os,cls.case,cls.sim_slot) \n",
    "    @classmethod\n",
    "    def mod(cls):\n",
    "         cls.case='black'\n",
    "         cls.sim_slot='esim'\n",
    "mobile1.dis()        \n",
    "mobile1.mod()\n",
    "mobile1.dis()"
   ]
  },
  {
   "cell_type": "code",
   "execution_count": 35,
   "metadata": {},
   "outputs": [
    {
     "name": "stdout",
     "output_type": "stream",
     "text": [
      "oneplus 180099911 oxygen os clear case\n",
      "oneplus 180099911 ios\n"
     ]
    }
   ],
   "source": [
    "class mobile:\n",
    "    company_name='oneplus'\n",
    "    tollno='180099911'\n",
    "    os='oxygen os'\n",
    "    usb_type='USB-C'\n",
    "    case='clear case'\n",
    "    sim_slot='hybrid'\n",
    "print(mobile.company_name,mobile.tollno,mobile.os,mobile.case)\n",
    "mobile.os='ios'\n",
    "del mobile.case\n",
    "print(mobile.company_name,mobile.tollno,mobile.os)"
   ]
  },
  {
   "cell_type": "code",
   "execution_count": 1,
   "metadata": {},
   "outputs": [
    {
     "name": "stdout",
     "output_type": "stream",
     "text": [
      "oneplus 180099911 oxygen os USB-C\n",
      "oneplus oxygen os USB-C\n",
      "oneplus 180099911 oxygen os clear case\n",
      "oneplus 180099911 oxygen os clear case\n",
      "{'__module__': '__main__', 'company_name': 'oneplus', 'os': 'oxygen os', 'usb_type': 'USB-C', 'case': 'clear case', 'sim_slot': 'hybrid', '__dict__': <attribute '__dict__' of 'mobile' objects>, '__weakref__': <attribute '__weakref__' of 'mobile' objects>, '__doc__': None}\n"
     ]
    }
   ],
   "source": [
    "class mobile:\n",
    "    company_name='oneplus'\n",
    "    tollno='180099911'\n",
    "    os='oxygen os'\n",
    "    usb_type='USB-C'\n",
    "    case='clear case'\n",
    "    sim_slot='hybrid'\n",
    "    print(company_name,tollno,os,usb_type)\n",
    "    del tollno\n",
    "    print(company_name,os,usb_type)\n",
    "class mobile1:\n",
    "    company_name='oneplus'\n",
    "    tollno='180099911'\n",
    "    os='oxygen os'\n",
    "    usb_type='USB-C'\n",
    "    case='clear case'\n",
    "    sim_slot='hybrid'\n",
    "    @classmethod\n",
    "    def dis(cls):\n",
    "\n",
    "        print(cls.company_name,cls.tollno,cls.os,cls.case) \n",
    "    @classmethod\n",
    "    def mod(cls):\n",
    "         \n",
    "         del cls.sim_slot\n",
    "mobile1.dis()        \n",
    "mobile1.mod()\n",
    "mobile1.dis()\n",
    "print(mobile.__dict__)"
   ]
  },
  {
   "cell_type": "code",
   "execution_count": 14,
   "metadata": {},
   "outputs": [
    {
     "name": "stdout",
     "output_type": "stream",
     "text": [
      "1:college name     : amrita\n",
      "2:college address  : blr\n",
      "3:college landline : 801465252\n",
      "4:college code     : ASB0011\n",
      "1:college name\n",
      "2:address\n",
      "3:landline\n",
      "4:code\n",
      "1:college name     : chadnu\n",
      "2:college address  : blr\n",
      "3:college landline : 801465252\n",
      "4:college code     : ASB0011\n"
     ]
    }
   ],
   "source": [
    "class clg:\n",
    "    clg_name='amrita'\n",
    "    address='blr'\n",
    "    landline=801465252\n",
    "    clgcode='ASB0011'\n",
    "    @classmethod\n",
    "    def dis(cls):\n",
    "        print('1:college name     :',cls.clg_name)\n",
    "        print('2:college address  :',cls.address)\n",
    "        print('3:college landline :',cls.landline)\n",
    "        print('4:college code     :',cls.clgcode)\n",
    "    @classmethod\n",
    "    def mod(cls,name=int(input('enter the option'))):\n",
    "        print('1:college name\\n2:address\\n3:landline\\n4:code')\n",
    "        match name:\n",
    "            case 1:\n",
    "                ele=input('enter the name')\n",
    "                cls.clg_name=ele\n",
    "            case 2:\n",
    "                ele=input('enter the address')\n",
    "                cls.address=ele\n",
    "            case 3:\n",
    "                ele=int(input('enter the landline'))\n",
    "                cls.clg_name=ele\n",
    "            case 4:\n",
    "                ele=input('enter the code')\n",
    "                cls.clg_name=ele    \n",
    "            case _:\n",
    "                print('EXIT')\n",
    "                cls.mod()\n",
    "clg.dis()\n",
    "clg.mod()\n",
    "clg.dis()\n",
    "\n",
    "\n",
    "        \n",
    "\n",
    "        \n"
   ]
  },
  {
   "cell_type": "code",
   "execution_count": 4,
   "metadata": {},
   "outputs": [
    {
     "ename": "ValueError",
     "evalue": "invalid literal for int() with base 10: ''",
     "output_type": "error",
     "traceback": [
      "\u001b[1;31m---------------------------------------------------------------------------\u001b[0m",
      "\u001b[1;31mValueError\u001b[0m                                Traceback (most recent call last)",
      "Cell \u001b[1;32mIn[4], line 10\u001b[0m\n\u001b[0;32m      8\u001b[0m         \u001b[39mprint\u001b[39m(student\u001b[39m.\u001b[39mcreate())\n\u001b[0;32m      9\u001b[0m read\u001b[39m=\u001b[39mstudent\n\u001b[1;32m---> 10\u001b[0m student\u001b[39m.\u001b[39;49mcreate(read)\n",
      "Cell \u001b[1;32mIn[4], line 5\u001b[0m, in \u001b[0;36mstudent.create\u001b[1;34m(self)\u001b[0m\n\u001b[0;32m      3\u001b[0m \u001b[39mself\u001b[39m\u001b[39m.\u001b[39mname\u001b[39m=\u001b[39m\u001b[39minput\u001b[39m(\u001b[39m'\u001b[39m\u001b[39menter the name\u001b[39m\u001b[39m'\u001b[39m)\n\u001b[0;32m      4\u001b[0m \u001b[39mself\u001b[39m\u001b[39m.\u001b[39mage\u001b[39m=\u001b[39m\u001b[39minput\u001b[39m(\u001b[39m'\u001b[39m\u001b[39menter the age\u001b[39m\u001b[39m'\u001b[39m)\n\u001b[1;32m----> 5\u001b[0m \u001b[39mself\u001b[39m\u001b[39m.\u001b[39mnumber\u001b[39m=\u001b[39m\u001b[39mint\u001b[39;49m(\u001b[39minput\u001b[39;49m(\u001b[39m'\u001b[39;49m\u001b[39menter the number\u001b[39;49m\u001b[39m'\u001b[39;49m))\n",
      "\u001b[1;31mValueError\u001b[0m: invalid literal for int() with base 10: ''"
     ]
    }
   ],
   "source": [
    "class student:\n",
    "    def create(self):\n",
    "        self.name=input('enter the name')\n",
    "        self.age=input('enter the age')\n",
    "        self.number=int(input('enter the number'))\n",
    "    @classmethod\n",
    "    def dis(cls):\n",
    "        print(student.create())\n",
    "read=student\n",
    "student.create(read)\n"
   ]
  },
  {
   "cell_type": "code",
   "execution_count": 26,
   "metadata": {},
   "outputs": [
    {
     "ename": "NameError",
     "evalue": "name 'a' is not defined",
     "output_type": "error",
     "traceback": [
      "\u001b[1;31m---------------------------------------------------------------------------\u001b[0m",
      "\u001b[1;31mNameError\u001b[0m                                 Traceback (most recent call last)",
      "Cell \u001b[1;32mIn[26], line 9\u001b[0m\n\u001b[0;32m      7\u001b[0m sowmya\u001b[39m=\u001b[39mperson(\u001b[39m'\u001b[39m\u001b[39mmya\u001b[39m\u001b[39m'\u001b[39m,\u001b[39m19\u001b[39m,\u001b[39m9988774477\u001b[39m)\n\u001b[0;32m      8\u001b[0m sai\u001b[39m.\u001b[39m\u001b[39m__dict__\u001b[39m\n\u001b[1;32m----> 9\u001b[0m \u001b[39mprint\u001b[39m(a)\n",
      "\u001b[1;31mNameError\u001b[0m: name 'a' is not defined"
     ]
    }
   ],
   "source": [
    "class person:\n",
    "    def __init__(self,a,b,c):\n",
    "        self.name=a\n",
    "        self.age=b\n",
    "        self.phone=c\n",
    "sai=person('sai',23,998877555)\n",
    "sowmya=person('mya',19,9988774477)\n",
    "sai.__dict__\n",
    "print(a)"
   ]
  },
  {
   "cell_type": "code",
   "execution_count": null,
   "metadata": {},
   "outputs": [],
   "source": [
    "class bank:\n",
    "    b_name='sbi'\n",
    "    ifsc='sbin00033'\n",
    "    address='hyd'\n",
    "obj1=bank()\n",
    "obj1.name='sai'\n",
    "obj1.age=26\n",
    "obj1.type_account='saving'\n",
    "obj1.date='09-10-2021'\n",
    "\n",
    "obj2=bank()\n",
    "obj2.name='ran1'\n",
    "obj2.age=27\n",
    "obj2.type_account='current'\n",
    "obj2.date='09-10-2011'"
   ]
  },
  {
   "cell_type": "code",
   "execution_count": null,
   "metadata": {},
   "outputs": [],
   "source": [
    "obj3=bank()\n",
    "obj4=bank()\n",
    "def create(self,name,age,type,date):\n",
    "    self.name=name\n",
    "    self.age=age\n",
    "    self.type=type\n",
    "    self.date=date\n",
    "create(obj3,'sai',26,'saving','09-02-21')\n",
    "create(obj4,'rani',27,'saving','27-02-21')\n"
   ]
  },
  {
   "cell_type": "code",
   "execution_count": 14,
   "metadata": {},
   "outputs": [],
   "source": [
    "class bank:\n",
    "    b_name='sbi'\n",
    "    ifsc='sbin00033'\n",
    "    address='hyd'\n",
    "    @classmethod\n",
    "    def create2(self,name,age,type,date):\n",
    "        self.name=name\n",
    "        self.age=age\n",
    "        self.type=type\n",
    "        self.date=date\n",
    "obj5=bank.create2('sai',26,'saving','09-11-2018')\n",
    "obj6=bank.create2('rani',28,'current','09-03-2018')\n"
   ]
  },
  {
   "cell_type": "code",
   "execution_count": 15,
   "metadata": {},
   "outputs": [
    {
     "ename": "TypeError",
     "evalue": "bank() takes no arguments",
     "output_type": "error",
     "traceback": [
      "\u001b[1;31m---------------------------------------------------------------------------\u001b[0m",
      "\u001b[1;31mTypeError\u001b[0m                                 Traceback (most recent call last)",
      "Cell \u001b[1;32mIn[15], line 10\u001b[0m\n\u001b[0;32m      8\u001b[0m         \u001b[39mself\u001b[39m\u001b[39m.\u001b[39mtype\u001b[39m=\u001b[39m\u001b[39mtype\u001b[39m\n\u001b[0;32m      9\u001b[0m         \u001b[39mself\u001b[39m\u001b[39m.\u001b[39mdate\u001b[39m=\u001b[39mdate\n\u001b[1;32m---> 10\u001b[0m obj1\u001b[39m=\u001b[39mbank(\u001b[39m'\u001b[39;49m\u001b[39mrani\u001b[39;49m\u001b[39m'\u001b[39;49m,\u001b[39m28\u001b[39;49m,\u001b[39m'\u001b[39;49m\u001b[39mcurrent\u001b[39;49m\u001b[39m'\u001b[39;49m,\u001b[39m'\u001b[39;49m\u001b[39m09-03-2018\u001b[39;49m\u001b[39m'\u001b[39;49m)\n",
      "\u001b[1;31mTypeError\u001b[0m: bank() takes no arguments"
     ]
    }
   ],
   "source": [
    "class bank:\n",
    "    b_name='sbi'\n",
    "    ifsc='sbin00033'\n",
    "    address='hyd'\n",
    "    def __int__(self,name,age,type,date):\n",
    "        self.name=name\n",
    "        self.age=age\n",
    "        self.type=type\n",
    "        self.date=date\n",
    "obj1=bank('rani',28,'current','09-03-2018')"
   ]
  },
  {
   "cell_type": "code",
   "execution_count": 50,
   "metadata": {},
   "outputs": [
    {
     "data": {
      "text/plain": [
       "'sbi'"
      ]
     },
     "execution_count": 50,
     "metadata": {},
     "output_type": "execute_result"
    }
   ],
   "source": [
    "class bank1:\n",
    "    b_name='sbi'\n",
    "    ifsc='sbin00033'\n",
    "    address='hyd'\n",
    "    def __init__(self,name,age,type,date):\n",
    "        self.name=name\n",
    "        self.age=age\n",
    "        self.type=type\n",
    "        self.date=date\n",
    "    def dis(self):\n",
    "        print('name:',self.name) \n",
    "        print('age:',self.age) \n",
    "        print('type:',self.type)\n",
    "        print('date:',self.date)\n",
    "    def modify(self,name,ele):\n",
    "        match name:\n",
    "            case 'name':\n",
    "                self.name=ele\n",
    "            case 'age':\n",
    "                self.age=ele\n",
    "            case 'type':\n",
    "                self.type=ele\n",
    "            case 'date':\n",
    "                self.date=ele\n",
    "    def dele(self,name):\n",
    "        match name:\n",
    "            case 'name':\n",
    "                del self.name\n",
    "            case 'age':\n",
    "              del   self.age\n",
    "            case 'type':\n",
    "               del  self.type\n",
    "            case 'date':\n",
    "               del  self.date\n",
    "a=bank1('sai',26,'saving','20-10-2005')\n",
    "bank1.b_name"
   ]
  },
  {
   "cell_type": "code",
   "execution_count": 49,
   "metadata": {},
   "outputs": [
    {
     "name": "stdout",
     "output_type": "stream",
     "text": [
      "{'name': 'sai', 'age': 26, 'type': 'saving', 'date': '20-10-2005'}\n",
      "name: sai\n",
      "age: 26\n",
      "type: saving\n",
      "date: 20-10-2005\n",
      "name: sai\n",
      "age: 26\n",
      "type: current\n"
     ]
    },
    {
     "ename": "AttributeError",
     "evalue": "'bank1' object has no attribute 'date'",
     "output_type": "error",
     "traceback": [
      "\u001b[1;31m---------------------------------------------------------------------------\u001b[0m",
      "\u001b[1;31mAttributeError\u001b[0m                            Traceback (most recent call last)",
      "Cell \u001b[1;32mIn[49], line 5\u001b[0m\n\u001b[0;32m      3\u001b[0m a\u001b[39m.\u001b[39mmodify(\u001b[39m'\u001b[39m\u001b[39mtype\u001b[39m\u001b[39m'\u001b[39m,\u001b[39m'\u001b[39m\u001b[39mcurrent\u001b[39m\u001b[39m'\u001b[39m)\n\u001b[0;32m      4\u001b[0m a\u001b[39m.\u001b[39mdele(\u001b[39m'\u001b[39m\u001b[39mdate\u001b[39m\u001b[39m'\u001b[39m)\n\u001b[1;32m----> 5\u001b[0m a\u001b[39m.\u001b[39;49mdis()\n",
      "Cell \u001b[1;32mIn[48], line 14\u001b[0m, in \u001b[0;36mbank1.dis\u001b[1;34m(self)\u001b[0m\n\u001b[0;32m     12\u001b[0m \u001b[39mprint\u001b[39m(\u001b[39m'\u001b[39m\u001b[39mage:\u001b[39m\u001b[39m'\u001b[39m,\u001b[39mself\u001b[39m\u001b[39m.\u001b[39mage) \n\u001b[0;32m     13\u001b[0m \u001b[39mprint\u001b[39m(\u001b[39m'\u001b[39m\u001b[39mtype:\u001b[39m\u001b[39m'\u001b[39m,\u001b[39mself\u001b[39m\u001b[39m.\u001b[39mtype)\n\u001b[1;32m---> 14\u001b[0m \u001b[39mprint\u001b[39m(\u001b[39m'\u001b[39m\u001b[39mdate:\u001b[39m\u001b[39m'\u001b[39m,\u001b[39mself\u001b[39;49m\u001b[39m.\u001b[39;49mdate)\n",
      "\u001b[1;31mAttributeError\u001b[0m: 'bank1' object has no attribute 'date'"
     ]
    }
   ],
   "source": [
    "print(a.__dict__)\n",
    "a.dis()\n",
    "a.modify('type','current')\n",
    "a.dele('date')\n",
    "a.dis()"
   ]
  },
  {
   "cell_type": "code",
   "execution_count": 1,
   "metadata": {},
   "outputs": [
    {
     "name": "stdout",
     "output_type": "stream",
     "text": [
      "data is stored\n",
      "data is stored\n"
     ]
    }
   ],
   "source": [
    "class SBI:\n",
    "    b_name='sbi'\n",
    "    ISFC='SBIN00018'\n",
    "    address='hyd'\n",
    "    no_of_cus=0\n",
    "    details={}\n",
    "    def __init__(self,name,age,phone,email,address,password):\n",
    "        self.name=name\n",
    "        self.age=age\n",
    "        self.phone=phone\n",
    "        self.email=email\n",
    "        self.address=address\n",
    "        self.password=password\n",
    "        self.cus_incr()\n",
    "        self.account='00123'+str(self.no_of_cus)\n",
    "        self.c_bal=0\n",
    "        self.add_details(self.account,self)\n",
    "    @classmethod\n",
    "    def cus_incr(cls):\n",
    "        cls.no_of_cus+=1\n",
    "    @classmethod\n",
    "    def add_details(cls,key,value):\n",
    "        cls.details[key]=value\n",
    "        \n",
    "        print('data is stored')\n",
    "    @classmethod\n",
    "    def display_details(cls):\n",
    "        for i in cls.details:\n",
    "            print(cls.details[i].__dict__)\n",
    "    @classmethod\n",
    "    def cus_login(cls):\n",
    "        userid='001231'\n",
    "        pwd='G@2021'\n",
    "        for i in cls.details:\n",
    "            res=cls.details[i].__dict__\n",
    "            if (res['email']==userid or res['account']==userid) and res['password']==pwd:\n",
    "\n",
    "                print('login successfully')\n",
    "                n=eval(input('enter the option'))\n",
    "                print('1:modify_email\\n2:modify_phone\\n3:deposit\\n4:withdraw\\n5:balance\\n6:logout')\n",
    "                match n:\n",
    "                    case 1:\n",
    "                        cls.modify_email(cls.details[i])\n",
    "                    case 2:\n",
    "                        cls.modify_phone(cls.details[i])\n",
    "                    case 3:\n",
    "                        cls.deposit(cls.details[i])\n",
    "                    case 4:\n",
    "                        cls.withdraw(cls.details[i])\n",
    "                    case 5:\n",
    "                        cls.balance(cls.details[i])\n",
    "                    case 6:\n",
    "                        return\n",
    "        cls.cus_login()\n",
    "\n",
    "        # return 'incorrect'\n",
    "    def modify_email(self):\n",
    "        if self.password==eval(input('enter the password')):\n",
    "            self.email=eval(input('enter the email'))\n",
    "        else:\n",
    "            print('incorrect email and password')\n",
    "    def modify_phone(self):\n",
    "        if self.password==eval(input('enter the password')):\n",
    "            self.phone=eval(input('enter the phone'))\n",
    "        else:\n",
    "            print('incorrect email and password')\n",
    "    def deposit(self):\n",
    "        # if self.account==eval(input('enter the account number')):\n",
    "            n=int(input('enter the amount'))\n",
    "            self.c_bal+=n\n",
    "            print('transaction successful')\n",
    "            print('balance ',self.c_bal)\n",
    "    def withdraw(self):\n",
    "        n=eval(input('enter the amount'))\n",
    "        if self.c_bal>n:\n",
    "            self.c_bal-=n\n",
    "            print('transaction successful')\n",
    "            print('your balance',self.c_bal)\n",
    "        else:\n",
    "            print('transaction transaction')            \n",
    "            print('insuffienict balance')            \n",
    "\n",
    "    def balance(self):\n",
    "        print(self.c_bal)        \n",
    "obj=SBI('chandu',26,9133711133,'chandu@gmail.com','HYD','G@2021')   \n",
    "sobj=SBI('sowmya',22,7766112552,'mya@gmail.com','HYD','SvCs@2021')   \n"
   ]
  },
  {
   "cell_type": "code",
   "execution_count": 15,
   "metadata": {},
   "outputs": [
    {
     "data": {
      "text/plain": [
       "{'name': 'sowmya',\n",
       " 'age': 22,\n",
       " 'phone': 7766112552,\n",
       " 'email': 'mya@gmail.com',\n",
       " 'address': 'HYD',\n",
       " 'password': 'SvCs@2021',\n",
       " 'account': '001232',\n",
       " 'c_bal': 0}"
      ]
     },
     "execution_count": 15,
     "metadata": {},
     "output_type": "execute_result"
    }
   ],
   "source": [
    "sobj.__dict__"
   ]
  },
  {
   "cell_type": "code",
   "execution_count": 9,
   "metadata": {},
   "outputs": [
    {
     "data": {
      "text/plain": [
       "2"
      ]
     },
     "execution_count": 9,
     "metadata": {},
     "output_type": "execute_result"
    }
   ],
   "source": [
    "obj.no_of_cus"
   ]
  },
  {
   "cell_type": "code",
   "execution_count": 29,
   "metadata": {},
   "outputs": [
    {
     "name": "stdout",
     "output_type": "stream",
     "text": [
      "{'name': 'chandu', 'age': 26, 'phone': 9133711133, 'email': 'chandu@gmail.com', 'address': 'HYD', 'password': 'G@2021', 'account': '001231', 'c_bal': 0}\n",
      "{'name': 'sowmya', 'age': 22, 'phone': 7766112552, 'email': 'mya@gmail.com', 'address': 'HYD', 'password': 'SvCs@2021', 'account': '001232', 'c_bal': 0}\n"
     ]
    }
   ],
   "source": [
    "SBI.display_details()"
   ]
  },
  {
   "cell_type": "code",
   "execution_count": 22,
   "metadata": {},
   "outputs": [
    {
     "name": "stdout",
     "output_type": "stream",
     "text": [
      "login successfully\n",
      "1:modify_email\n",
      "2:modify_phone\n",
      "3:deposit\n",
      "4:withdraw\n",
      "5:balance\n",
      "6:logout\n",
      "transaction successful\n",
      "balance  5000\n",
      "login successfully\n",
      "1:modify_email\n",
      "2:modify_phone\n",
      "3:deposit\n",
      "4:withdraw\n",
      "5:balance\n",
      "6:logout\n",
      "transaction successful\n",
      "your balance 4000\n",
      "login successfully\n",
      "1:modify_email\n",
      "2:modify_phone\n",
      "3:deposit\n",
      "4:withdraw\n",
      "5:balance\n",
      "6:logout\n"
     ]
    }
   ],
   "source": [
    "sobj.cus_login()"
   ]
  },
  {
   "cell_type": "code",
   "execution_count": 5,
   "metadata": {},
   "outputs": [
    {
     "name": "stdout",
     "output_type": "stream",
     "text": [
      "{'name': 'chandu', 'age': 26, 'phone': 9133711133, 'email': 'chandu@gmail.com', 'address': 'HYD', 'password': 'G@2021', 'account': '001231', 'c_bal': 500}\n",
      "{'name': 'sowmya', 'age': 22, 'phone': 7766112552, 'email': 'mya@gmail.com', 'address': 'HYD', 'password': 'SvCs@2021', 'account': '001232', 'c_bal': 0}\n"
     ]
    }
   ],
   "source": [
    "SBI.display_details()"
   ]
  },
  {
   "cell_type": "code",
   "execution_count": 17,
   "metadata": {},
   "outputs": [
    {
     "name": "stdout",
     "output_type": "stream",
     "text": [
      "login successfully\n",
      "1:modify_email\n",
      "2:modify_phone\n",
      "3:deposit\n",
      "4:withdraw\n",
      "5:balance\n",
      "login successfully\n",
      "1:modify_email\n",
      "2:modify_phone\n",
      "3:deposit\n",
      "4:withdraw\n",
      "5:balance\n",
      "login successfully\n"
     ]
    },
    {
     "ename": "SyntaxError",
     "evalue": "invalid syntax (<string>, line 0)",
     "output_type": "error",
     "traceback": [
      "Traceback \u001b[1;36m(most recent call last)\u001b[0m:\n",
      "\u001b[0m  File \u001b[0;32m~\\AppData\\Roaming\\Python\\Python311\\site-packages\\IPython\\core\\interactiveshell.py:3505\u001b[0m in \u001b[0;35mrun_code\u001b[0m\n    exec(code_obj, self.user_global_ns, self.user_ns)\u001b[0m\n",
      "\u001b[0m  Cell \u001b[0;32mIn[17], line 1\u001b[0m\n    obj.cus_login()\u001b[0m\n",
      "\u001b[0m  Cell \u001b[0;32mIn[16], line 54\u001b[0m in \u001b[0;35mcus_login\u001b[0m\n    cls.cus_login()\u001b[0m\n",
      "\u001b[0m  Cell \u001b[0;32mIn[16], line 54\u001b[0m in \u001b[0;35mcus_login\u001b[0m\n    cls.cus_login()\u001b[0m\n",
      "\u001b[1;36m  Cell \u001b[1;32mIn[16], line 39\u001b[1;36m in \u001b[1;35mcus_login\u001b[1;36m\n\u001b[1;33m    n=eval(input('enter the option'))\u001b[1;36m\n",
      "\u001b[1;36m  File \u001b[1;32m<string>\u001b[1;36m\u001b[0m\n\u001b[1;33m    \u001b[0m\n\u001b[1;37m    ^\u001b[0m\n\u001b[1;31mSyntaxError\u001b[0m\u001b[1;31m:\u001b[0m invalid syntax\n"
     ]
    }
   ],
   "source": [
    "obj.cus_login()"
   ]
  },
  {
   "cell_type": "code",
   "execution_count": 40,
   "metadata": {},
   "outputs": [
    {
     "data": {
      "text/plain": [
       "'G@2021'"
      ]
     },
     "execution_count": 40,
     "metadata": {},
     "output_type": "execute_result"
    }
   ],
   "source": [
    "obj.password"
   ]
  },
  {
   "cell_type": "code",
   "execution_count": 38,
   "metadata": {},
   "outputs": [],
   "source": [
    "class student:\n",
    "    branch='CSE'\n",
    "    college_n='amrita'\n",
    "    code='AMT001'\n",
    "    details={}\n",
    "    def __init__(self,name,idno,phno,year,sem,sub1,sub1_m,sub2,sub2_m,sub3,sub3_m):\n",
    "        self.name=name\n",
    "        self.idno=idno\n",
    "        self.phno=phno\n",
    "        self.year=year\n",
    "        self.sem=sem\n",
    "        self.sub1=sub1\n",
    "        self.sub1_m=sub1_m\n",
    "        self.sub2=sub2\n",
    "        self.sub2_m=sub2_m\n",
    "        self.sub3=sub3\n",
    "        self.sub3_m=sub3_m\n",
    "    @classmethod\n",
    "    def adddetails(cls,sub,sub_m):\n",
    "        cls.details[sub]=sub_m\n",
    "    @classmethod\n",
    "    def display(cls):\n",
    "        for i in cls.details:\n",
    "            print(cls.details[i])\n",
    "    # def totalmarks(cls):\n",
    "    #     for i in cls.details:\n",
    "    #         print(cls.details[i])\n",
    "    #         sum=(cls.details)\n",
    "    \n",
    "stu1=student('chandu',17021,99887755,2021,4,'OOPS',35,'CL',40,'bigdata',70)\n",
    "stu2=student('pranay',17023,9988775578,2023,4,'OOPS',50,'CL',40,'bigdata',50)\n",
    "stu3=student('sowmya',17026,998875552,2023,4,'OOPS',80,'CL',90,'bigdata',60)\n"
   ]
  },
  {
   "cell_type": "code",
   "execution_count": 37,
   "metadata": {},
   "outputs": [],
   "source": [
    "stu1.display()"
   ]
  },
  {
   "cell_type": "code",
   "execution_count": 32,
   "metadata": {},
   "outputs": [],
   "source": []
  },
  {
   "cell_type": "code",
   "execution_count": 29,
   "metadata": {},
   "outputs": [
    {
     "name": "stdout",
     "output_type": "stream",
     "text": [
      "{'IDno': 'CTS001', 'Emp_name': 'chandu', 'Emp_salary': 22350, 'Designation': 'system adminstrator'}\n",
      "{'IDno': 'CTS002', 'Emp_name': 'pranay', 'Emp_salary': 27840, 'Designation': 'devops engineer'}\n"
     ]
    }
   ],
   "source": []
  },
  {
   "cell_type": "code",
   "execution_count": 33,
   "metadata": {},
   "outputs": [
    {
     "name": "stdout",
     "output_type": "stream",
     "text": [
      "1:modify salary\n",
      "2:modify designation\n",
      "1:modify salary\n",
      "2:modify designation\n"
     ]
    }
   ],
   "source": []
  },
  {
   "cell_type": "code",
   "execution_count": 10,
   "metadata": {},
   "outputs": [],
   "source": [
    "class instuite:\n",
    "    name='IITM Instuite'\n",
    "    address='HYD'\n",
    "    code='IITM'\n",
    "    def __init__(self,name,branch,roll,year,email,degree):\n",
    "        self.name=name\n",
    "        self.branch=branch\n",
    "        self.roll=roll\n",
    "        self.year=year\n",
    "        self.email=email\n",
    "        self.degree=degree\n",
    "        var=branch[0:2]+degree[0:2].upper()+str(year)[2:]+roll[8:]+'@'+f'student.onlinedegree.{self.code}.ac.in'\n",
    "        self.off_email=var\n",
    "\n",
    "krishna=instuite('krishna','CSE','IITM-CS-7814',2023,'krishna@gmail.com','Btech')"
   ]
  },
  {
   "cell_type": "code",
   "execution_count": 11,
   "metadata": {},
   "outputs": [
    {
     "data": {
      "text/plain": [
       "{'name': 'krishna',\n",
       " 'branch': 'CSE',\n",
       " 'roll': 'IITM-CS-7814',\n",
       " 'year': 2023,\n",
       " 'email': 'krishna@gmail.com',\n",
       " 'degree': 'Btech',\n",
       " 'off_email': 'CSBT237814@student.onlinedegree.IITM.ac.in'}"
      ]
     },
     "execution_count": 11,
     "metadata": {},
     "output_type": "execute_result"
    }
   ],
   "source": [
    "krishna.__dict__"
   ]
  },
  {
   "cell_type": "code",
   "execution_count": 29,
   "metadata": {},
   "outputs": [
    {
     "data": {
      "text/plain": [
       "2"
      ]
     },
     "execution_count": 29,
     "metadata": {},
     "output_type": "execute_result"
    }
   ],
   "source": [
    "a='chanduae'\n",
    "a.index('a')"
   ]
  },
  {
   "cell_type": "code",
   "execution_count": 74,
   "metadata": {},
   "outputs": [],
   "source": [
    "class book:\n",
    "    usn='USN154140000'\n",
    "    info={}\n",
    "    def __init__(self,title,author,price):\n",
    "        self.title=title\n",
    "        self.author=author\n",
    "        self.price=price\n",
    "        self.usn_change()\n",
    "        self.usn=self.usn\n",
    "        self.add_details(self.usn,self)\n",
    "    @classmethod\n",
    "    def usn_change(cls):\n",
    "        cls.usn=book.usn[:-1]+str(int(book.usn[-1])+1)\n",
    "    @classmethod\n",
    "    def add_details(cls,key,value):\n",
    "        cls.info[key]=value\n",
    "    @classmethod\n",
    "    def display(cls):\n",
    "        for i in cls.info:\n",
    "            print(cls.info[i].__dict__)\n",
    "    @classmethod\n",
    "    def view(cls):\n",
    "        print('1:bookname\\n''2:author\\n''3:price')\n",
    "        for i in cls.info:\n",
    "            print(i)\n",
    "            res=cls.info.__dict__\n",
    "            n=eval(input('enter the number for the info'))\n",
    "            match n:\n",
    "                case 1:\n",
    "                    print ('the book name is',res['title'])\n",
    "                case 2:\n",
    "                    print ('the author is',res['author'].upper())\n",
    "                case 3:\n",
    "                    print ('the price',res['price'])\n",
    "        \n",
    "    \n",
    "scam1992=book('thescam1992','Suchitha Dala',870)"
   ]
  },
  {
   "cell_type": "code",
   "execution_count": 75,
   "metadata": {},
   "outputs": [
    {
     "name": "stdout",
     "output_type": "stream",
     "text": [
      "thescam1992\n",
      "Suchitha Dala\n",
      "870\n",
      "USN154140001\n"
     ]
    }
   ],
   "source": [
    "display()"
   ]
  },
  {
   "cell_type": "code",
   "execution_count": null,
   "metadata": {},
   "outputs": [],
   "source": []
  }
 ],
 "metadata": {
  "kernelspec": {
   "display_name": "Python 3",
   "language": "python",
   "name": "python3"
  },
  "language_info": {
   "codemirror_mode": {
    "name": "ipython",
    "version": 3
   },
   "file_extension": ".py",
   "mimetype": "text/x-python",
   "name": "python",
   "nbconvert_exporter": "python",
   "pygments_lexer": "ipython3",
   "version": "3.11.1"
  },
  "orig_nbformat": 4
 },
 "nbformat": 4,
 "nbformat_minor": 2
}
