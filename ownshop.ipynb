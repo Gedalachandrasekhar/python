{
 "cells": [
  {
   "cell_type": "code",
   "execution_count": 2,
   "metadata": {},
   "outputs": [],
   "source": [
    "empdata=[{'name':'srikanth','phone':8106408727,'email':'srikanth@gmail.com','role':'manager'},{'name':'srinu','phone':88544626541,'email':'srinu@gmail.com','role':'employee'}]"
   ]
  },
  {
   "cell_type": "code",
   "execution_count": 5,
   "metadata": {},
   "outputs": [],
   "source": [
    "import csv\n",
    "fp=open('emp_data.csv','w',newline='\\n')\n",
    "w=csv.writer(fp)\n",
    "w.writerow(['name','phone','email','role'])\n",
    "fp.close()\n"
   ]
  },
  {
   "cell_type": "code",
   "execution_count": 9,
   "metadata": {},
   "outputs": [],
   "source": [
    "empdata=[{'name':'srikanth','phone':8106408727,'email':'srikanth@gmail.com','role':'manager'},{'name':'srinu','phone':88544626541,'email':'srinu@gmail.com','role':'employee'}]\n",
    "import csv\n",
    "fp=open('emp_data.csv','w',newline='\\n')\n",
    "w=csv.DictWriter(fp,['name','phone','email','role'])\n",
    "w.writeheader()\n",
    "w.writerows(empdata )\n",
    "fp.close()"
   ]
  },
  {
   "cell_type": "code",
   "execution_count": 29,
   "metadata": {},
   "outputs": [
    {
     "name": "stdout",
     "output_type": "stream",
     "text": [
      "['name', 'phone', 'email', 'role']\n"
     ]
    }
   ],
   "source": [
    "import csv\n",
    "fp=open('emp_data.csv','r')\n",
    "role=csv.reader(fp)\n",
    "for i in role:\n",
    "    if i[3]=='role':\n",
    "        print(i)\n",
    "# def emp_login(user):\n",
    "\n",
    "    # email=eval(input('enter the email or phon"
   ]
  },
  {
   "cell_type": "code",
   "execution_count": 7,
   "metadata": {},
   "outputs": [
    {
     "data": {
      "text/plain": [
       "[['chandu', 9133711133, 'chandu@gmail.com', 'admin', 'cherry@123']]"
      ]
     },
     "execution_count": 7,
     "metadata": {},
     "output_type": "execute_result"
    }
   ],
   "source": [
    "def create_emp_data(coll,name,phone,email,role,password):\n",
    "    na\n",
    "    coll=[coll[name],coll[phone],coll[email],coll[role],coll[password]]\n",
    "    data=[]\n",
    "    if type(coll)!= list and len(coll)==4:\n",
    "        return\n",
    "    for i in coll:\n",
    "        if i not in data:\n",
    "            data+=[i]\n",
    "    return data\n",
    "create_emp_data([['chandu',9133711133,'chandu@gmail.com','admin','cherry@123']])"
   ]
  },
  {
   "cell_type": "code",
   "execution_count": 8,
   "metadata": {},
   "outputs": [],
   "source": [
    "empdata=create_emp_data([['chandu',9133711133,'chandu@gmail.com','admin','cherry@123']])\n",
    "import csv \n",
    "fp=open('emp_data.csv','w',newline='\\n')\n",
    "write=csv.writer(fp)\n",
    "write.writerow(['name','phone','email','role','password'])\n",
    "write.writerows(empdata)\n",
    "fp.close()"
   ]
  },
  {
   "cell_type": "code",
   "execution_count": 37,
   "metadata": {},
   "outputs": [
    {
     "name": "stdout",
     "output_type": "stream",
     "text": [
      "<_csv.reader object at 0x00000266834441C0>\n",
      "['name', 'phone', 'email', 'role', 'password']\n",
      "8106408727\n",
      "['srinu', '88544626541', 'srinu@gmail.com', 'employee', 'srinu@123']\n"
     ]
    }
   ],
   "source": [
    "import csv\n",
    "fp=open('emp_data.csv','r')\n",
    "read=csv.reader(fp)\n",
    "print(read)\n",
    "for i in read:\n",
    "    if i[3]=='manager':\n",
    "        print(i[1])\n",
    "    else:    \n",
    "        print(i)"
   ]
  },
  {
   "cell_type": "code",
   "execution_count": 39,
   "metadata": {},
   "outputs": [
    {
     "name": "stdout",
     "output_type": "stream",
     "text": [
      "['name', 'phone', 'email', 'role', 'password']\n",
      "['srikanth', '8106408727', 'srikanth@gmail.com', 'manager', 'srikant@123']\n",
      "['srinu', '88544626541', 'srinu@gmail.com', 'employee', 'srinu@123']\n"
     ]
    }
   ],
   "source": [
    "def manager_login():\n",
    "    import csv\n",
    "    user=eval(input('enter the email or phone'))\n",
    "    password=eval(input('enter the password'))\n",
    "    fp=open('emp_data.csv','r')\n",
    "    read=csv.reader(fp)\n",
    "    for i in read:\n",
    "        print(i)\n",
    "        if i[1]==user or i[2]==user:\n",
    "            print(i)\n",
    "            if i[-1]==password:\n",
    "                print(i)\n",
    "                print('login sucessfull')\n",
    "    fp.close()\n",
    "manager_login()\n",
    "    \n",
    "    "
   ]
  },
  {
   "cell_type": "code",
   "execution_count": 19,
   "metadata": {},
   "outputs": [
    {
     "name": "stdout",
     "output_type": "stream",
     "text": [
      "[3, 1, 6, 4, 0, 7, 2, 9, 8, 5]\n"
     ]
    }
   ],
   "source": [
    "def otp():\n",
    "    return 0.1\n",
    "import random\n",
    "numer=[1,2,3,4,5,6,7,8,9,0]\n",
    "random.shuffle(numer)\n",
    "print(numer)"
   ]
  },
  {
   "cell_type": "code",
   "execution_count": 52,
   "metadata": {},
   "outputs": [
    {
     "name": "stdout",
     "output_type": "stream",
     "text": [
      "Generated OTP: 5378\n"
     ]
    }
   ],
   "source": [
    "import random\n",
    "\n",
    "def otp(length=4):\n",
    "    digits = \"0123456789\"\n",
    "    otp = ''.join(random.choice(digits) for _ in range(length))\n",
    "    return otp\n",
    "\n",
    "otp = otp()\n",
    "print(\"Generated OTP:\", otp)\n"
   ]
  }
 ],
 "metadata": {
  "kernelspec": {
   "display_name": "Python 3",
   "language": "python",
   "name": "python3"
  },
  "language_info": {
   "codemirror_mode": {
    "name": "ipython",
    "version": 3
   },
   "file_extension": ".py",
   "mimetype": "text/x-python",
   "name": "python",
   "nbconvert_exporter": "python",
   "pygments_lexer": "ipython3",
   "version": "3.11.1"
  },
  "orig_nbformat": 4
 },
 "nbformat": 4,
 "nbformat_minor": 2
}
