{
 "cells": [
  {
   "cell_type": "code",
   "execution_count": null,
   "metadata": {},
   "outputs": [],
   "source": []
  },
  {
   "cell_type": "code",
   "execution_count": 31,
   "metadata": {},
   "outputs": [
    {
     "name": "stdout",
     "output_type": "stream",
     "text": [
      " 123hai123_helloworld\n"
     ]
    }
   ],
   "source": [
    " #snake case\n",
    "#wap to convert the given string to snake case\n",
    "def snakecase(coll):\n",
    "    \n",
    "    res=\"\"\n",
    "    if 'a'<=coll[0]<='z':\n",
    "        res+=chr(ord(coll[0])-32)\n",
    "    else:\n",
    "         res+=coll[0]\n",
    "       \n",
    "\n",
    "    s=1\n",
    "    while s<len(coll):\n",
    "        if 'A'<=coll[s]<='Z':\n",
    "            res+=chr(ord(coll[s])+32)\n",
    "        elif coll[s]==\" \":\n",
    "            res+='_'\n",
    "             \n",
    "        else:\n",
    "             res+=coll[s]\n",
    "        s+=1\n",
    "           \n",
    "    return res\n",
    "a=' 123hai123 helloWORLD'\n",
    "print(snakecase(a))\n",
    "\n",
    "\n"
   ]
  },
  {
   "cell_type": "code",
   "execution_count": 43,
   "metadata": {},
   "outputs": [
    {
     "name": "stdout",
     "output_type": "stream",
     "text": [
      "True\n"
     ]
    }
   ],
   "source": [
    "#wap to check the given string is snakecase or not\n",
    "def snakecase(coll):\n",
    "    \n",
    "    \n",
    "    if 'a'<=coll[0]<='z':\n",
    "        return False\n",
    "    s=1\n",
    "    while s<len(coll):\n",
    "        if 'A'<=coll[s]<='Z':\n",
    "            return False\n",
    "        elif coll[s]==\" \":\n",
    "            return False\n",
    "            \n",
    "        s+=1\n",
    "    return True\n",
    "           \n",
    "    \n",
    "a='Hai123_helloworld'\n",
    "print(snakecase(a))"
   ]
  },
  {
   "cell_type": "code",
   "execution_count": 1,
   "metadata": {},
   "outputs": [
    {
     "name": "stdout",
     "output_type": "stream",
     "text": [
      "\n"
     ]
    }
   ],
   "source": [
    "#wap to dragoncase conversion of given string\n",
    "def dragon(coll):\n",
    "    res=\"\"\n",
    "    \n",
    "    if len(coll)<1:\n",
    "        s=0\n",
    "\n",
    "        while s<len(coll):\n",
    "            if \"A\"<=coll[s]<=\"z\":\n",
    "                res+=chr(ord(res[s])+32)\n",
    "            elif 'a'<=coll[s]<='z':\n",
    "                res+=coll[s]\n",
    "            elif coll[s]=='_':\n",
    "                res+=coll[s]\n",
    "            elif res[s]==' ':\n",
    "                res+='_'\n",
    "        s+=1\n",
    "        coll=res\n",
    "        res=\"\"\n",
    "        if coll[0]!='_':\n",
    "            res='__'+res+coll\n",
    "        elif coll[0]=='_'and coll[1]!=\"_\":\n",
    "            res+='_'+res+coll\n",
    "        else:\n",
    "            res=coll\n",
    "        if res[-1]!='_':\n",
    "            res=res+'_'\n",
    "        elif res[-1]=='_'and res[-2]!='_':\n",
    "            res=res+\"_\"\n",
    "    return res\n",
    "    \n",
    "a='hello world'\n",
    "print(dragon(a))"
   ]
  },
  {
   "cell_type": "code",
   "execution_count": 59,
   "metadata": {},
   "outputs": [
    {
     "data": {
      "text/plain": [
       "95"
      ]
     },
     "execution_count": 59,
     "metadata": {},
     "output_type": "execute_result"
    }
   ],
   "source": [
    "ord('_')"
   ]
  },
  {
   "cell_type": "code",
   "execution_count": 2,
   "metadata": {},
   "outputs": [
    {
     "name": "stdout",
     "output_type": "stream",
     "text": [
      "Hai hello @4 iwoDLd\n"
     ]
    }
   ],
   "source": [
    "def snakecase(st):\n",
    "\n",
    "    res=\"\"\n",
    "    i=1\n",
    "    j=len(st)\n",
    "    if 'a'<=st[0]<='z':\n",
    "            res+=chr(ord(st[0])-32)\n",
    "    if st[i]==\" \":\n",
    "            res+=\"_\"\n",
    "    while i<j:\n",
    "        if \"A\"<=st[i]<=\"Z\":\n",
    "            res+=st[i]\n",
    "        else:\n",
    "            res+=st[i]\n",
    "        i+=1\n",
    "    return res\n",
    "st=\"hai hello @4 iwoDLd\"\n",
    "print(snakecase(st))"
   ]
  },
  {
   "cell_type": "code",
   "execution_count": 4,
   "metadata": {},
   "outputs": [
    {
     "name": "stdout",
     "output_type": "stream",
     "text": [
      "sujith\n"
     ]
    }
   ],
   "source": [
    "n=eval(input(\"enter\"))\n",
    "print(n.lower())"
   ]
  },
  {
   "cell_type": "code",
   "execution_count": 3,
   "metadata": {},
   "outputs": [
    {
     "data": {
      "text/plain": [
       "True"
      ]
     },
     "execution_count": 3,
     "metadata": {},
     "output_type": "execute_result"
    }
   ],
   "source": [
    "#wap to check wheather the string dragon case or not\n",
    "def check_dragon(coll):\n",
    "    if not(coll[0]=='_'and coll[1]=='_'and coll[-1]=='_'and coll[-2]=='_'):\n",
    "        return False\n",
    "    s=2\n",
    "    e=len(coll)-2\n",
    "    while s<e:\n",
    "        if not('a'<=coll[s]<='z'or coll[s]=='_'):\n",
    "            return False\n",
    "        s+=1\n",
    "    return True\n",
    "st='__hello_hai_world__'\n",
    "check_dragon(st)\n",
    "        "
   ]
  },
  {
   "cell_type": "code",
   "execution_count": 13,
   "metadata": {},
   "outputs": [
    {
     "data": {
      "text/plain": [
       "True"
      ]
     },
     "execution_count": 13,
     "metadata": {},
     "output_type": "execute_result"
    }
   ],
   "source": [
    "#wap to check the even postion character are lower case or not\n",
    "def check_lower(coll):\n",
    "    s=0\n",
    "    e=len(coll)\n",
    "    while s<e:\n",
    "        if s%2==0:\n",
    "            if not('a'<=coll[s]<='z'):\n",
    "                return False\n",
    "        s+=1\n",
    "    return True\n",
    "st='balaya'\n",
    "check_lower(st)"
   ]
  },
  {
   "cell_type": "code",
   "execution_count": 25,
   "metadata": {},
   "outputs": [
    {
     "name": "stdout",
     "output_type": "stream",
     "text": [
      "sowmya_vyshnavi_chathuriya_sharma\n"
     ]
    }
   ],
   "source": [
    "#wap to convert special or ascii number into *\n",
    "def convert(coll):\n",
    "    res=\"\"\n",
    "    s=0\n",
    "    e=len(coll)\n",
    "    while s<e:\n",
    "        if not('a'<=coll[s]<='z' or 'A'<=coll[s]<='Z'):\n",
    "            res+='_'\n",
    "        else:\n",
    "            res+=coll[s]\n",
    "        s+=1\n",
    "    print(res)\n",
    "st='sowmya vyshnavi chathuriya sharma'\n",
    "convert(st)\n",
    "\n"
   ]
  },
  {
   "attachments": {},
   "cell_type": "markdown",
   "metadata": {},
   "source": [
    "case fold it will convert to upper case to lower case"
   ]
  },
  {
   "cell_type": "code",
   "execution_count": 17,
   "metadata": {},
   "outputs": [
    {
     "name": "stdout",
     "output_type": "stream",
     "text": [
      "chandu123241\n"
     ]
    }
   ],
   "source": [
    "def case_fold(coll):\n",
    "    res=''\n",
    "    s=0\n",
    "    e=len(coll)\n",
    "    while s<e:\n",
    "        if 'A'<=coll[s]<='Z':\n",
    "            res+=chr(ord(coll[s])+32)\n",
    "        else:\n",
    "            res+=coll[s]\n",
    "        s+=1\n",
    "    print(res)\n",
    "st='CHANDu123241'\n",
    "case_fold(st)"
   ]
  },
  {
   "attachments": {},
   "cell_type": "markdown",
   "metadata": {},
   "source": [
    "Title case:it is predefined string function\n",
    "first character should be upper case\n",
    "after special character or acii number the next character should be in upper case\n",
    "remaining character has to be remains same"
   ]
  },
  {
   "cell_type": "code",
   "execution_count": 12,
   "metadata": {},
   "outputs": [
    {
     "name": "stdout",
     "output_type": "stream",
     "text": [
      "Hellooo00Asd\n"
     ]
    }
   ],
   "source": [
    "#Title case\n",
    "def title(coll):\n",
    "    res=''\n",
    "    s=None\n",
    "    if 'a'<=coll[0]<='z':\n",
    "        res+=chr(ord(coll[0])-32)\n",
    "        s=1\n",
    "    elif \"A\"<=coll[0]<=\"Z\":\n",
    "        res+=coll[0]\n",
    "    else:\n",
    "        s=0\n",
    "    while s<len(coll):\n",
    "        if not(\"A\"<=coll[s]<=\"Z\" or 'a'<=coll[s]<='z'):\n",
    "            res+=coll[s]\n",
    "            if 'a'<=coll[s+1]<='z':\n",
    "             res+=chr(ord(coll[s+1])-32)\n",
    "             s+=1\n",
    "            elif 'A'<=coll[s+1]<='Z':\n",
    "             res+=coll[s+1]\n",
    "             s+=1\n",
    "        elif \"A\"<=coll[s]<=\"Z\":\n",
    "            res+=chr(ord(coll[s])+32)\n",
    "        else:\n",
    "            res+=coll[s]\n",
    "        s+=1\n",
    "    return res\n",
    "st='hellOOO00asd'\n",
    "print(title(st))"
   ]
  },
  {
   "cell_type": "code",
   "execution_count": 20,
   "metadata": {},
   "outputs": [
    {
     "data": {
      "text/plain": [
       "True"
      ]
     },
     "execution_count": 20,
     "metadata": {},
     "output_type": "execute_result"
    }
   ],
   "source": [
    "#wap to check weather given string is title or not\n",
    "def is_title(coll):\n",
    "    if not(\"A\"<=coll[0]<='Z'):\n",
    "        return False\n",
    "    s=0\n",
    "    while s<len(coll):\n",
    "        if not(\"A\"<=coll[s]<=\"Z\" or 'a'<=coll[s]<='z'):\n",
    "            if 'a'<=coll[s+1]<='z':\n",
    "                return False\n",
    "        s+=1\n",
    "    return True\n",
    "st='Hellooo00Asd'\n",
    "is_title(st)"
   ]
  },
  {
   "attachments": {},
   "cell_type": "markdown",
   "metadata": {},
   "source": [
    "center():it isa predefine built-in function\n",
    "this function will accept two inputs\n",
    "---> length of string \n",
    "---> filling character\n",
    "it will perform the padding operation based on filled character with actual atring\n",
    "it consider default filling character is space \n",
    "we should mention the width of the new string\n",
    "this function will return new generated string based on the width of the string value and filling character with actual character\n",
    "the actual string will present center the new string\n"
   ]
  },
  {
   "cell_type": "code",
   "execution_count": 4,
   "metadata": {},
   "outputs": [
    {
     "name": "stdout",
     "output_type": "stream",
     "text": [
      "***hello***\n",
      "***chandu***\n"
     ]
    }
   ],
   "source": [
    "#wap to display the string in the center of the user define string based on the user given lenght\n",
    "st='hello'\n",
    "print(st.center(11,'*'))\n",
    "def cent(coll,num=0,sym='*'):\n",
    "    if len(coll)>=num:\n",
    "        return coll\n",
    "    res=num-len(coll)\n",
    "    left=res//2\n",
    "    right=res-left\n",
    "    return left*sym+coll+right*sym\n",
    "print(cent('chandu',12,'*'))"
   ]
  },
  {
   "cell_type": "code",
   "execution_count": 30,
   "metadata": {},
   "outputs": [
    {
     "data": {
      "text/plain": [
       "'ib@ll is @ hardware company'"
      ]
     },
     "execution_count": 30,
     "metadata": {},
     "output_type": "execute_result"
    }
   ],
   "source": [
    "s='iball is a hardware company'\n",
    "s.replace('a','*')\n",
    "def rep(coll,char,sym,num):\n",
    "    res=''\n",
    "    count=0\n",
    "    s=0\n",
    "    while s<len(coll):\n",
    "        if count<num:\n",
    "            if coll[s]==char:\n",
    "                res+=sym\n",
    "                count+=1\n",
    "            else:\n",
    "                res+=coll[s]\n",
    "        else:\n",
    "            res+=coll[s]\n",
    "        \n",
    "        s+=1\n",
    "    return res\n",
    "rep('iball is a hardware company','a','@',2)"
   ]
  },
  {
   "cell_type": "code",
   "execution_count": 1,
   "metadata": {},
   "outputs": [
    {
     "ename": "SyntaxError",
     "evalue": "incomplete input (2734397248.py, line 3)",
     "output_type": "error",
     "traceback": [
      "\u001b[1;36m  Cell \u001b[1;32mIn[1], line 3\u001b[1;36m\u001b[0m\n\u001b[1;33m    for i in s:\u001b[0m\n\u001b[1;37m               ^\u001b[0m\n\u001b[1;31mSyntaxError\u001b[0m\u001b[1;31m:\u001b[0m incomplete input\n"
     ]
    }
   ],
   "source": [
    "s=input(\"enter any text : \")\n",
    "res=\"\"\n",
    "for i in s:"
   ]
  },
  {
   "attachments": {},
   "cell_type": "markdown",
   "metadata": {},
   "source": [
    "it is used for the replace the specific string into new string from the given collection\n",
    "it will replace the all the occurrences or certain number of times also\n",
    "it will accept three inputs\n",
    "--->old string value\n",
    "--->new string value\n",
    "--->count(no of times replace)\n",
    "default replace occurrence is maximum of occurrence\n",
    "other wise no of count\n",
    "it will return a copy with all the consequence of substring old substring is replaced to new substring."
   ]
  },
  {
   "cell_type": "code",
   "execution_count": 25,
   "metadata": {},
   "outputs": [
    {
     "data": {
      "text/plain": [
       "'iball are a hardware  are is is is is company'"
      ]
     },
     "execution_count": 25,
     "metadata": {},
     "output_type": "execute_result"
    }
   ],
   "source": [
    "#wap to replace the sequnce of substring into new string from given string.\n",
    "s='iball is a hardware  is is is is is company'\n",
    "s.replace('a','*')\n",
    "def rep(coll,char,sym,num):\n",
    "    res=''\n",
    "    count=0\n",
    "    s=0\n",
    "    while s<len(coll):\n",
    "        if count<num:\n",
    "            if coll[s:s+len(char)]==char:\n",
    "                res+=sym\n",
    "                s+=len(char)-1\n",
    "                count+=1\n",
    "            else:\n",
    "                res+=coll[s]\n",
    "        else:\n",
    "            res+=coll[s]\n",
    "        \n",
    "        s+=1\n",
    "    return res\n",
    "rep('iball is a hardware  is is is is is company','is','are',2)"
   ]
  },
  {
   "cell_type": "code",
   "execution_count": 29,
   "metadata": {},
   "outputs": [
    {
     "name": "stdout",
     "output_type": "stream",
     "text": [
      "6\n"
     ]
    },
    {
     "data": {
      "text/plain": [
       "'iball is a hardware  is is is is is companyiball are a hardware  are are are are are companyiball is a hardware  is is is is is company'"
      ]
     },
     "execution_count": 29,
     "metadata": {},
     "output_type": "execute_result"
    }
   ],
   "source": [
    "s='iball is a hardware  is is is is is company'\n",
    "def rep(coll,char,sym,s=0,e=None,count=0):\n",
    "    res=''\n",
    "    c=0\n",
    "    if e==None:\n",
    "         e=len(coll)\n",
    "    if count==0:\n",
    "         count=len(coll)\n",
    "\n",
    "    while s<e:\n",
    "            if c<count:    \n",
    "                if coll[s:s+len(char)]==char:\n",
    "                    res+=sym\n",
    "                    s+=len(char)-1\n",
    "                    c+=1\n",
    "                else:\n",
    "                    res+=coll[s]\n",
    "            else:\n",
    "                 res+=coll[s]\n",
    "            s+=1\n",
    "    print(c)\n",
    "    return coll[:s]+res+coll[e:]\n",
    "    \n",
    "rep(s,'is','are',count=10)"
   ]
  },
  {
   "attachments": {},
   "cell_type": "markdown",
   "metadata": {},
   "source": [
    "find(): it is a predefined string function\n",
    "--> it peform find the element in given string it returns first occurence index number postion vslue with or with out range\n",
    "-->this function will accept three arguments \n",
    "    --> sub string \n",
    "    --> staring index position\n",
    "    --> ending index positio\n",
    "--> based on the range with or with out range it will finding the element and found the index positon value\n",
    "--> it returns first occurence index number\n",
    "-->if the element is not in the string it returns the -1 value"
   ]
  },
  {
   "cell_type": "code",
   "execution_count": 36,
   "metadata": {},
   "outputs": [
    {
     "data": {
      "text/plain": [
       "20"
      ]
     },
     "execution_count": 36,
     "metadata": {},
     "output_type": "execute_result"
    }
   ],
   "source": [
    "st='python is python language'\n",
    "st.index('th')\n",
    "def u_index(coll,newstring,s=0,e=0):\n",
    "    if e==0:\n",
    "        e=len(coll)\n",
    "    while s<len(coll):\n",
    "        if coll[s]==newstring:\n",
    "            return s\n",
    "        s+=1\n",
    "    return -1\n",
    "u_index(st,'g',5)"
   ]
  },
  {
   "attachments": {},
   "cell_type": "markdown",
   "metadata": {},
   "source": [
    "index(): it is a predefined string function\n",
    "--> it peform find the element in given string it returns first occurence index number postion vslue with or with out range\n",
    "-->this function will accept three arguments \n",
    "    --> sub string \n",
    "    --> staring index position\n",
    "    --> ending index positio\n",
    "--> based on the range with or with out range it will finding the element and found the index positon value\n",
    "--> it returns first occurence index number\n",
    "-->if the element is not in the string it returns the -1 value"
   ]
  },
  {
   "cell_type": "code",
   "execution_count": 38,
   "metadata": {},
   "outputs": [
    {
     "ename": "ValueError",
     "evalue": "sub string is not found",
     "output_type": "error",
     "traceback": [
      "\u001b[1;31m---------------------------------------------------------------------------\u001b[0m",
      "\u001b[1;31mValueError\u001b[0m                                Traceback (most recent call last)",
      "Cell \u001b[1;32mIn[38], line 11\u001b[0m\n\u001b[0;32m      9\u001b[0m         s\u001b[39m+\u001b[39m\u001b[39m=\u001b[39m\u001b[39m1\u001b[39m\n\u001b[0;32m     10\u001b[0m     \u001b[39mraise\u001b[39;00m \u001b[39mValueError\u001b[39;00m(\u001b[39m'\u001b[39m\u001b[39msub string is not found\u001b[39m\u001b[39m'\u001b[39m)\n\u001b[1;32m---> 11\u001b[0m u_index(st,\u001b[39m'\u001b[39;49m\u001b[39mz\u001b[39;49m\u001b[39m'\u001b[39;49m,\u001b[39m5\u001b[39;49m)\n",
      "Cell \u001b[1;32mIn[38], line 10\u001b[0m, in \u001b[0;36mu_index\u001b[1;34m(coll, newstring, s, e)\u001b[0m\n\u001b[0;32m      8\u001b[0m         \u001b[39mreturn\u001b[39;00m s\n\u001b[0;32m      9\u001b[0m     s\u001b[39m+\u001b[39m\u001b[39m=\u001b[39m\u001b[39m1\u001b[39m\n\u001b[1;32m---> 10\u001b[0m \u001b[39mraise\u001b[39;00m \u001b[39mValueError\u001b[39;00m(\u001b[39m'\u001b[39m\u001b[39msub string is not found\u001b[39m\u001b[39m'\u001b[39m)\n",
      "\u001b[1;31mValueError\u001b[0m: sub string is not found"
     ]
    }
   ],
   "source": [
    "st='python is python language'\n",
    "st.index('th')\n",
    "def u_index(coll,newstring,s=0,e=0):\n",
    "    if e==0:\n",
    "        e=len(coll)\n",
    "    while s<len(coll):\n",
    "        if coll[s]==newstring:\n",
    "            return s\n",
    "        s+=1\n",
    "    raise ValueError('sub string is not found')\n",
    "u_index(st,'z',5)"
   ]
  },
  {
   "cell_type": "code",
   "execution_count": 54,
   "metadata": {},
   "outputs": [
    {
     "ename": "KeyboardInterrupt",
     "evalue": "",
     "output_type": "error",
     "traceback": [
      "\u001b[1;31m---------------------------------------------------------------------------\u001b[0m",
      "\u001b[1;31mKeyboardInterrupt\u001b[0m                         Traceback (most recent call last)",
      "Cell \u001b[1;32mIn[54], line 14\u001b[0m\n\u001b[0;32m     12\u001b[0m             s\u001b[39m+\u001b[39m\u001b[39m=\u001b[39m\u001b[39m1\u001b[39m\n\u001b[0;32m     13\u001b[0m     \u001b[39mraise\u001b[39;00m \u001b[39mValueError\u001b[39;00m(\u001b[39m'\u001b[39m\u001b[39msub string is not found\u001b[39m\u001b[39m'\u001b[39m)\n\u001b[1;32m---> 14\u001b[0m u_index(st,\u001b[39m'\u001b[39;49m\u001b[39my\u001b[39;49m\u001b[39m'\u001b[39;49m,count\u001b[39m=\u001b[39;49m\u001b[39m15\u001b[39;49m)\n",
      "Cell \u001b[1;32mIn[54], line 7\u001b[0m, in \u001b[0;36mu_index\u001b[1;34m(coll, newstring, s, e, count)\u001b[0m\n\u001b[0;32m      5\u001b[0m \u001b[39mif\u001b[39;00m e\u001b[39m==\u001b[39m\u001b[39m0\u001b[39m:\n\u001b[0;32m      6\u001b[0m     e\u001b[39m=\u001b[39m\u001b[39mlen\u001b[39m(coll)\n\u001b[1;32m----> 7\u001b[0m \u001b[39mwhile\u001b[39;00m s\u001b[39m<\u001b[39m\u001b[39mlen\u001b[39m(coll):\n\u001b[0;32m      8\u001b[0m      \u001b[39mif\u001b[39;00m coll[s]\u001b[39m==\u001b[39mnewstring:\n\u001b[0;32m      9\u001b[0m         c\u001b[39m+\u001b[39m\u001b[39m=\u001b[39m\u001b[39m1\u001b[39m\n",
      "\u001b[1;31mKeyboardInterrupt\u001b[0m: "
     ]
    }
   ],
   "source": [
    "st='python is python language'\n",
    "st.index('th')\n",
    "def u_index(coll,newstring,s=0,e=0,count=0):\n",
    "    c=0\n",
    "    if e==0:\n",
    "        e=len(coll)\n",
    "    while s<len(coll):\n",
    "         if coll[s]==newstring:\n",
    "            c+=1\n",
    "            if c==count:\n",
    "             return s\n",
    "            s+=1\n",
    "    raise ValueError('sub string is not found')\n",
    "u_index(st,'y',count=15)"
   ]
  },
  {
   "cell_type": "code",
   "execution_count": 61,
   "metadata": {},
   "outputs": [
    {
     "data": {
      "text/plain": [
       "29"
      ]
     },
     "execution_count": 61,
     "metadata": {},
     "output_type": "execute_result"
    }
   ],
   "source": [
    "def u_index(coll,ele,s=0,e=0,count=0):\n",
    "    c=0\n",
    "    if e==0:\n",
    "        e=len(coll)\n",
    "    while s<e:\n",
    "        if coll[s]==ele:\n",
    "            c+=1\n",
    "            if c==count:\n",
    "                return s\n",
    "        s+=1\n",
    "    return ValueError('element is not found')\n",
    "u_index('python is a programming language','a',count=4)"
   ]
  },
  {
   "cell_type": "code",
   "execution_count": 64,
   "metadata": {},
   "outputs": [
    {
     "data": {
      "text/plain": [
       "10"
      ]
     },
     "execution_count": 64,
     "metadata": {},
     "output_type": "execute_result"
    }
   ],
   "source": [
    "def u_rindex(coll,ele,s=0,e=0,count=0):\n",
    "    c=0\n",
    "    if e==0:\n",
    "        e=len(coll)-1\n",
    "    while e>=s:\n",
    "        if coll[e]==ele:\n",
    "            c+=1\n",
    "            if c==count:\n",
    "                return e\n",
    "        e-=1\n",
    "    return ValueError('element is not found')\n",
    "u_rindex('python is a programming language','a',count=4)"
   ]
  },
  {
   "cell_type": "code",
   "execution_count": 81,
   "metadata": {},
   "outputs": [
    {
     "data": {
      "text/plain": [
       "-22"
      ]
     },
     "execution_count": 81,
     "metadata": {},
     "output_type": "execute_result"
    }
   ],
   "source": [
    "def u_rnindex(coll,ele,s=0,e=-1,count=0):\n",
    "    c=0\n",
    "    if s==0:\n",
    "        s=-(len(coll))\n",
    "    while e>=s:\n",
    "        if coll[e]==ele:\n",
    "            c+=1\n",
    "            if c==count:\n",
    "                return e\n",
    "        e-=1\n",
    "    return ValueError('element is not found')\n",
    "u_rnindex('python is a programming language','a',count=4)"
   ]
  },
  {
   "cell_type": "code",
   "execution_count": 79,
   "metadata": {},
   "outputs": [
    {
     "name": "stdout",
     "output_type": "stream",
     "text": [
      "-22\n",
      "element is not found\n"
     ]
    }
   ],
   "source": [
    "st='python is a programming language'\n",
    "ele='a'\n",
    "c=0\n",
    "s=-(len(st))\n",
    "e=-1\n",
    "\n",
    "while e>=s:\n",
    "    if st[e]==ele:\n",
    "        c+=1\n",
    "        if c==4:\n",
    "            print(e)\n",
    "    e-=1\n",
    "print(ValueError('element is not found'))\n",
    "        "
   ]
  },
  {
   "attachments": {},
   "cell_type": "markdown",
   "metadata": {},
   "source": [
    "endswith()->    it is a predefined function \n",
    "it will check if the element is present in ending of the string or not \n",
    "if element is present returns true otherwise false\n",
    "this will accept three agruments \n",
    "1--> substring \n",
    "2--> starting index position \n",
    "3--> ending index position\n",
    "based on the range or without range it will find the element is present or not \n",
    "\n",
    "\n"
   ]
  },
  {
   "cell_type": "code",
   "execution_count": 40,
   "metadata": {},
   "outputs": [
    {
     "name": "stdout",
     "output_type": "stream",
     "text": [
      "0 s s\n",
      "True\n"
     ]
    }
   ],
   "source": [
    "def u_endswith(coll,ele,s=0,e=0):\n",
    "    coll=coll[s:e+1][::-1]\n",
    "    ele=ele[::-1]\n",
    "    if e==0:\n",
    "        e=(len(coll))\n",
    "    i=0\n",
    "    j=len(coll)\n",
    "    while i<j:\n",
    "        print(i,coll[i:i+len(ele)],ele)\n",
    "\n",
    "        if coll[i:i+len(ele)]==ele:\n",
    "            \n",
    "            return True\n",
    "        i+=1\n",
    "        return False\n",
    "\n",
    "print(u_endswith('pyspiders','s',5,10))"
   ]
  },
  {
   "cell_type": "code",
   "execution_count": 48,
   "metadata": {},
   "outputs": [
    {
     "name": "stdout",
     "output_type": "stream",
     "text": [
      "0 s s\n",
      "True\n"
     ]
    }
   ],
   "source": [
    "def u_start(coll,ele,s=0,e=0):\n",
    "    coll=coll[s:e+1]\n",
    "   \n",
    "    if e==0:\n",
    "        e=(len(coll))\n",
    "    i=0\n",
    "    j=len(coll)\n",
    "    while i<j:\n",
    "        print(i,coll[i:i+len(ele)],ele)\n",
    "\n",
    "        if coll[i:i+len(ele)]==ele:\n",
    "            \n",
    "            return True\n",
    "        i+=1\n",
    "        return False\n",
    "\n",
    "print(u_endswith('pyspiders','s',0,9))"
   ]
  },
  {
   "cell_type": "code",
   "execution_count": 51,
   "metadata": {},
   "outputs": [
    {
     "name": "stdout",
     "output_type": "stream",
     "text": [
      "chnd\n"
     ]
    }
   ],
   "source": [
    "#wap to eliminate the vowels from given string\n",
    "def remove(coll):\n",
    "    res=''\n",
    "    s=0\n",
    "    while s<len(coll):\n",
    "        if coll[s] not in 'AEIOUaeiou':\n",
    "            res+=coll[s]\n",
    "        s+=1\n",
    "    return res\n",
    "print(remove('chandu'))"
   ]
  },
  {
   "cell_type": "code",
   "execution_count": 66,
   "metadata": {},
   "outputs": [
    {
     "name": "stdout",
     "output_type": "stream",
     "text": [
      "hau\n"
     ]
    }
   ],
   "source": [
    "def remove1(coll,ele):\n",
    "    res=''\n",
    "    s=0\n",
    "    while s<len(coll):\n",
    "        if coll[s] not in ele:\n",
    "            res+=coll[s]\n",
    "        s+=1\n",
    "    return res\n",
    "print(remove1('chandu','cnd'))"
   ]
  },
  {
   "cell_type": "code",
   "execution_count": 6,
   "metadata": {},
   "outputs": [
    {
     "name": "stdout",
     "output_type": "stream",
     "text": [
      "chanasekhar\n"
     ]
    }
   ],
   "source": [
    "#wap to elminate the substring from given string \n",
    "def remove1(coll,ele):\n",
    "        res=''\n",
    "        s=0\n",
    "        while s<len(coll):\n",
    "            if coll[s:s+len(ele)]==ele:\n",
    "                s+=len(ele)-1\n",
    "            else:\n",
    "                res+=coll[s]\n",
    "            s+=1\n",
    "        return res\n",
    "print(remove1('chandrasekhar','dr'))\n"
   ]
  },
  {
   "attachments": {},
   "cell_type": "markdown",
   "metadata": {},
   "source": [
    "#wap eliminate the first occurance valuve \n",
    "def remove1(coll,ele,num):\n",
    "    res=''\n",
    "    s=0\n",
    "    while s<len(coll):\n",
    "        if c<num:\n",
    "            \n",
    "        if coll[s:s+len(ele)]==ele:\n",
    "            s+=len(ele)-1\n",
    "        else:\n",
    "            res+=coll[s]\n",
    "        s+=1\n",
    "    return res\n",
    "print(remove1('chandrasekhar','a'))"
   ]
  },
  {
   "cell_type": "code",
   "execution_count": 29,
   "metadata": {},
   "outputs": [
    {
     "name": "stdout",
     "output_type": "stream",
     "text": [
      "chndrsekhr\n"
     ]
    }
   ],
   "source": [
    "def remove1(coll,ele):\n",
    "    res=''\n",
    "    s=0\n",
    "    c=0\n",
    "\n",
    "    while s<len(coll):\n",
    "        \n",
    "        if coll[s:s+len(ele)]==ele:\n",
    "            if c<=num:\n",
    "                s+=len(ele)-1\n",
    "                c+=1\n",
    "        else:\n",
    "            res+=coll[s]\n",
    "        s+=1\n",
    "    return res\n",
    "print(remove1('chandrasekhar','a'))"
   ]
  },
  {
   "cell_type": "code",
   "execution_count": 19,
   "metadata": {},
   "outputs": [
    {
     "name": "stdout",
     "output_type": "stream",
     "text": [
      "aaa\n"
     ]
    }
   ],
   "source": [
    "a='chandrasekhar'\n",
    "b='a'\n",
    "s=0\n",
    "c=0\n",
    "num=2\n",
    "res=''\n",
    "while s<len(a):\n",
    "    \n",
    "    # print(a[s:s+len(b)],s,end='')\n",
    "    if a[s:s+len(b)]==b:\n",
    "        \n",
    "        if c==num:\n",
    "            s+=len(b)-1\n",
    "            c+=1\n",
    "        else:\n",
    "            res+=a[s]\n",
    "        \n",
    "    s+=1\n",
    "print(res)"
   ]
  },
  {
   "cell_type": "code",
   "execution_count": 15,
   "metadata": {},
   "outputs": [
    {
     "name": "stdout",
     "output_type": "stream",
     "text": [
      "spider\n",
      "ysider\n"
     ]
    }
   ],
   "source": [
    "st='pyspider'\n",
    "print(st.removeprefix('py'))\n",
    "def suffix(coll,ele,s=0,e=0):\n",
    "    if e==0:\n",
    "        e=len(coll)\n",
    "    res=''\n",
    "    while s<e:\n",
    "        if coll[s:s+len(ele)]==ele:\n",
    "            s+=len(ele)-1\n",
    "        else:\n",
    "            res+=coll[s]\n",
    "        s+=1\n",
    "    return res\n",
    "print(suffix(st,'p'))"
   ]
  },
  {
   "cell_type": "code",
   "execution_count": 47,
   "metadata": {},
   "outputs": [
    {
     "name": "stdout",
     "output_type": "stream",
     "text": [
      "15\n",
      "1234567abbcabFGKLLMMN "
     ]
    }
   ],
   "source": [
    "l='abceGabFGKLMNQT'\n",
    "print(len(l))\n",
    "s=0\n",
    "c=0\n",
    "res=''\n",
    "while s<len(l)-1:\n",
    "    if ord(l[s+1])-ord(l[s])==1:\n",
    "        c+=1\n",
    "        res+=l[s:s+2]\n",
    "        print(c,end='')\n",
    "    s+=1\n",
    "print(res,end=' ')"
   ]
  },
  {
   "cell_type": "code",
   "execution_count": 59,
   "metadata": {},
   "outputs": [
    {
     "name": "stdout",
     "output_type": "stream",
     "text": [
      "4 ['abcde', 'ab', 'FG', 'KLMN']\n"
     ]
    }
   ],
   "source": [
    "l='eabcdeGabFGKLMNQT'\n",
    "start=0\n",
    "end=len(l)-1\n",
    "t=[]\n",
    "s=\"\"\n",
    "while start<end:\n",
    "    if ord(l[start])+1==ord(l[start+1]):\n",
    "        s+=l[start]\n",
    "    elif ord(l[start-1])+1==ord(l[start]):\n",
    "        s+=l[start]\n",
    "        t+=[s]\n",
    "        s=''\n",
    "    start+=1\n",
    "print(len(t),t)\n",
    "\n"
   ]
  },
  {
   "cell_type": "code",
   "execution_count": 10,
   "metadata": {},
   "outputs": [
    {
     "name": "stdout",
     "output_type": "stream",
     "text": [
      "hllwrld"
     ]
    }
   ],
   "source": [
    "a='(*12hello3$ $4#world4*)'\n",
    "for i in a:\n",
    "    if not(not('0'<=i<='9' or 'A'<=i<='Z' or 'a'<=i<='z') or i in 'AEIOUaeiou' or '0'<=i<='9'):\n",
    "        print(i,end=\"\")"
   ]
  },
  {
   "cell_type": "code",
   "execution_count": null,
   "metadata": {},
   "outputs": [],
   "source": [
    "a='chandu sekhar'\n",
    "a.s"
   ]
  }
 ],
 "metadata": {
  "kernelspec": {
   "display_name": "Python 3",
   "language": "python",
   "name": "python3"
  },
  "language_info": {
   "codemirror_mode": {
    "name": "ipython",
    "version": 3
   },
   "file_extension": ".py",
   "mimetype": "text/x-python",
   "name": "python",
   "nbconvert_exporter": "python",
   "pygments_lexer": "ipython3",
   "version": "3.11.1"
  },
  "orig_nbformat": 4
 },
 "nbformat": 4,
 "nbformat_minor": 2
}
