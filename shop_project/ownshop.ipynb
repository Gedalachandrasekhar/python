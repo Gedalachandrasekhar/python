{
 "cells": [
  {
   "cell_type": "code",
   "execution_count": 2,
   "metadata": {},
   "outputs": [],
   "source": [
    "empdata=[{'name':'srikanth','phone':8106408727,'email':'srikanth@gmail.com','role':'manager'},{'name':'srinu','phone':88544626541,'email':'srinu@gmail.com','role':'employee'}]"
   ]
  },
  {
   "cell_type": "code",
   "execution_count": 5,
   "metadata": {},
   "outputs": [],
   "source": [
    "import csv\n",
    "fp=open('emp_data.csv','w',newline='\\n')\n",
    "w=csv.writer(fp)\n",
    "w.writerow(['name','phone','email','role'])\n",
    "fp.close()\n"
   ]
  },
  {
   "cell_type": "code",
   "execution_count": 9,
   "metadata": {},
   "outputs": [],
   "source": [
    "empdata=[{'name':'srikanth','phone':8106408727,'email':'srikanth@gmail.com','role':'manager'},{'name':'srinu','phone':88544626541,'email':'srinu@gmail.com','role':'employee'}]\n",
    "import csv\n",
    "fp=open('emp_data.csv','w',newline='\\n')\n",
    "w=csv.DictWriter(fp,['name','phone','email','role'])\n",
    "w.writeheader()\n",
    "w.writerows(empdata )\n",
    "fp.close()"
   ]
  },
  {
   "cell_type": "code",
   "execution_count": 29,
   "metadata": {},
   "outputs": [
    {
     "name": "stdout",
     "output_type": "stream",
     "text": [
      "['name', 'phone', 'email', 'role']\n"
     ]
    }
   ],
   "source": [
    "import csv\n",
    "fp=open('emp_data.csv','r')\n",
    "role=csv.reader(fp)\n",
    "for i in role:\n",
    "    if i[3]=='role':\n",
    "        print(i)\n",
    "# def emp_login(user):\n",
    "\n",
    "    # email=eval(input('enter the email or phon"
   ]
  },
  {
   "cell_type": "code",
   "execution_count": 7,
   "metadata": {},
   "outputs": [
    {
     "data": {
      "text/plain": [
       "[['chandu', 9133711133, 'chandu@gmail.com', 'admin', 'cherry@123']]"
      ]
     },
     "execution_count": 7,
     "metadata": {},
     "output_type": "execute_result"
    }
   ],
   "source": [
    "def create_emp_data(coll,name,phone,email,role,password):\n",
    "    na\n",
    "    coll=[coll[name],coll[phone],coll[email],coll[role],coll[password]]\n",
    "    data=[]\n",
    "    if type(coll)!= list and len(coll)==4:\n",
    "        return\n",
    "    for i in coll:\n",
    "        if i not in data:\n",
    "            data+=[i]\n",
    "    return data\n",
    "create_emp_data([['chandu',9133711133,'chandu@gmail.com','admin','cherry@123']])"
   ]
  },
  {
   "cell_type": "code",
   "execution_count": 8,
   "metadata": {},
   "outputs": [],
   "source": [
    "empdata=create_emp_data([['chandu',9133711133,'chandu@gmail.com','admin','cherry@123']])\n",
    "import csv \n",
    "fp=open('emp_data.csv','w',newline='\\n')\n",
    "write=csv.writer(fp)\n",
    "write.writerow(['name','phone','email','role','password'])\n",
    "write.writerows(empdata)\n",
    "fp.close()"
   ]
  },
  {
   "cell_type": "code",
   "execution_count": 37,
   "metadata": {},
   "outputs": [
    {
     "name": "stdout",
     "output_type": "stream",
     "text": [
      "<_csv.reader object at 0x00000266834441C0>\n",
      "['name', 'phone', 'email', 'role', 'password']\n",
      "8106408727\n",
      "['srinu', '88544626541', 'srinu@gmail.com', 'employee', 'srinu@123']\n"
     ]
    }
   ],
   "source": [
    "import csv\n",
    "fp=open('emp_data.csv','r')\n",
    "read=csv.reader(fp)\n",
    "print(read)\n",
    "for i in read:\n",
    "    if i[3]=='manager':\n",
    "        print(i[1])\n",
    "    else:    \n",
    "        print(i)"
   ]
  },
  {
   "cell_type": "code",
   "execution_count": 39,
   "metadata": {},
   "outputs": [
    {
     "name": "stdout",
     "output_type": "stream",
     "text": [
      "['name', 'phone', 'email', 'role', 'password']\n",
      "['srikanth', '8106408727', 'srikanth@gmail.com', 'manager', 'srikant@123']\n",
      "['srinu', '88544626541', 'srinu@gmail.com', 'employee', 'srinu@123']\n"
     ]
    }
   ],
   "source": [
    "def manager_login():\n",
    "    import csv\n",
    "    user=eval(input('enter the email or phone'))\n",
    "    password=eval(input('enter the password'))\n",
    "    fp=open('emp_data.csv','r')\n",
    "    read=csv.reader(fp)\n",
    "    for i in read:\n",
    "        print(i)\n",
    "        if i[1]==user or i[2]==user:\n",
    "            print(i)\n",
    "            if i[-1]==password:\n",
    "                print(i)\n",
    "                print('login sucessfull')\n",
    "    fp.close()\n",
    "manager_login()\n",
    "    \n",
    "    "
   ]
  },
  {
   "cell_type": "code",
   "execution_count": 19,
   "metadata": {},
   "outputs": [
    {
     "name": "stdout",
     "output_type": "stream",
     "text": [
      "[3, 1, 6, 4, 0, 7, 2, 9, 8, 5]\n"
     ]
    }
   ],
   "source": [
    "def otp():\n",
    "    return 0.1\n",
    "import random\n",
    "numer=[1,2,3,4,5,6,7,8,9,0]\n",
    "random.shuffle(numer)\n",
    "print(numer)"
   ]
  },
  {
   "cell_type": "code",
   "execution_count": 52,
   "metadata": {},
   "outputs": [
    {
     "name": "stdout",
     "output_type": "stream",
     "text": [
      "Generated OTP: 5378\n"
     ]
    }
   ],
   "source": [
    "import random\n",
    "\n",
    "def otp(length=4):\n",
    "    digits = \"0123456789\"\n",
    "    otp = ''.join(random.choice(digits) for _ in range(length))\n",
    "    return otp\n",
    "\n",
    "otp = otp()\n",
    "print(\"Generated OTP:\", otp)\n"
   ]
  },
  {
   "cell_type": "code",
   "execution_count": 5,
   "metadata": {},
   "outputs": [],
   "source": [
    "def dbconnection(func):\n",
    "    def inner(*args,**kwargs):\n",
    "        import sqlite3\n",
    "        dbconn=sqlite3.connect('shop.db')\n",
    "        cus=dbconn.cursor()\n",
    "        res=func(dbconn,cus,*args,**kwargs)\n",
    "        dbconn.commit()\n",
    "        dbconn.close()\n",
    "        return res\n",
    "    return inner\n",
    "@dbconnection\n",
    "def emp_table(dbconn,cus):\n",
    "    cus.execute('create table employee(name varchar(20),email varchar(30),password varchar(16),phone int,role varchar(15))')\n",
    "    cus.execute('create table customer(name varchar(20),email varchar(30),password varchar(16),phone int,address varchar(15),complaint varchar)')\n",
    "    cus.execute('create table inventory(items varchar(20),department varchar(30),label varchar(16),number int)')\n",
    "    cus.execute('create table staff(name varchar,issued_complaint varchar,issued_parts varchar,A_part_by varchar,number int)')\n",
    "    cus.execute('create table manager(name varchar,A_C_to varchar,A_P varchar(16),A_P_to varchar,number int)')\n",
    "    cus.execute('create table admin(complaints varchar,complaint_address varchar,A_staff varchar,A_parts varchar,number int,status varchar,R_number int)')\n",
    "@dbconnection\n",
    "def insert_emp(dbconn,cus):\n",
    "    cus.execute(\"insert into employee(name,email,password,phone,role) values (?,?,?,?,?)\",('srikanth','srikanth@gmail.com','srikant@123',8106408727,'manager'))\n",
    "    cus.execute(\"insert into employee(name,email,password,phone,role) values (?,?,?,?,?)\",('srinu','srinu@gmail.com','srinu@123',99554411223,'staff'))\n",
    "    cus.execute(\"insert into employee(name,email,password,phone,role) values (?,?,?,?,?)\",('kasi','kasi@gmail.com','kasi@123',995544155563,'staff'))\n",
    "@dbconnection\n",
    "def inventory_insert(dnconn,cus):\n",
    "    cus.execute(\"insert into inventory(items,department,label,number)values(?,?,?,?)\",('fuses','invertor','rack-1','150'))\n",
    "    cus.execute(\"insert into inventory(items,department,label,number)values(?,?,?,?)\",('Pipe','RO','rack-2','150 Mts'))\n",
    "    cus.execute(\"insert into inventory(items,department,label,number)values(?,?,?,?)\",('hot Pipe','gyser','rack-3','150 Mts'))\n",
    "@dbconnection\n",
    "def AC_staff(dbconn,cus):\n",
    "    email=eval(input('enter the email'))\n",
    "    phone=eval(input('enter the phone'))\n",
    "    password=eval(input('enter the password'))\n",
    "    cus.execute('select * from employee')\n",
    "    res=cus.fetchall()\n",
    "    for i in res:\n",
    "        if i[1]==email or i[3]==phone and i[2]==password:\n",
    "            assigned_complaint=eval(input('name of the employee for complaint'))\n",
    "            assigned_part=eval(input('name of the employee for part'))\n",
    "            quantity=eval(input('enter the number of parts issued'))\n",
    "            staff_name=eval(input('enter the staff name'))\n",
    "            if assigned_complaint is False and assigned_part is False and quantity is False and staff_name is False:\n",
    "                pass\n",
    "            else:\n",
    "                print('hi')\n",
    "                cus.execute('insert into manager(name,A_C_to,A_P,A_P_to,number)values(?,?,?,?,?)',(i[0],staff_name,assigned_part,assigned_complaint,quantity))\n",
    "\n",
    "            \n",
    "        \n",
    "\n",
    "@dbconnection\n",
    "def dele(dbconn,cus):\n",
    "    cus.execute('delete from employee where email=\"srikanth@gmail.com\"')\n"
   ]
  },
  {
   "cell_type": "code",
   "execution_count": 4,
   "metadata": {},
   "outputs": [
    {
     "ename": "SyntaxError",
     "evalue": "invalid syntax (<string>, line 1)",
     "output_type": "error",
     "traceback": [
      "Traceback \u001b[1;36m(most recent call last)\u001b[0m:\n",
      "\u001b[0m  File \u001b[0;32m~\\AppData\\Roaming\\Python\\Python311\\site-packages\\IPython\\core\\interactiveshell.py:3505\u001b[0m in \u001b[0;35mrun_code\u001b[0m\n    exec(code_obj, self.user_global_ns, self.user_ns)\u001b[0m\n",
      "\u001b[0m  Cell \u001b[0;32mIn[4], line 1\u001b[0m\n    AC_staff()\u001b[0m\n",
      "\u001b[0m  Cell \u001b[0;32mIn[1], line 6\u001b[0m in \u001b[0;35minner\u001b[0m\n    res=func(dbconn,cus,*args,**kwargs)\u001b[0m\n",
      "\u001b[1;36m  Cell \u001b[1;32mIn[1], line 41\u001b[1;36m in \u001b[1;35mAC_staff\u001b[1;36m\n\u001b[1;33m    staff_name=eval('enter the staff name')\u001b[1;36m\n",
      "\u001b[1;36m  File \u001b[1;32m<string>:1\u001b[1;36m\u001b[0m\n\u001b[1;33m    enter the staff name\u001b[0m\n\u001b[1;37m          ^\u001b[0m\n\u001b[1;31mSyntaxError\u001b[0m\u001b[1;31m:\u001b[0m invalid syntax\n"
     ]
    }
   ],
   "source": [
    "AC_staff()"
   ]
  }
 ],
 "metadata": {
  "kernelspec": {
   "display_name": "Python 3",
   "language": "python",
   "name": "python3"
  },
  "language_info": {
   "codemirror_mode": {
    "name": "ipython",
    "version": 3
   },
   "file_extension": ".py",
   "mimetype": "text/x-python",
   "name": "python",
   "nbconvert_exporter": "python",
   "pygments_lexer": "ipython3",
   "version": "3.11.1"
  },
  "orig_nbformat": 4
 },
 "nbformat": 4,
 "nbformat_minor": 2
}
